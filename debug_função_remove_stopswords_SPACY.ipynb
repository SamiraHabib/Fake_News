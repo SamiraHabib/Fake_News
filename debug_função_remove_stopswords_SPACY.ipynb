{
  "nbformat": 4,
  "nbformat_minor": 0,
  "metadata": {
    "colab": {
      "name": "debug função: remove_stopswords SPACY.ipynb",
      "provenance": [],
      "collapsed_sections": [],
      "mount_file_id": "1LE_zdKlw7wET3_N0JedirdWcDrl7zHZ3",
      "authorship_tag": "ABX9TyNbXhCPOY/cu7x0SdFh/Cn2",
      "include_colab_link": true
    },
    "kernelspec": {
      "name": "python3",
      "display_name": "Python 3"
    },
    "language_info": {
      "name": "python"
    }
  },
  "cells": [
    {
      "cell_type": "markdown",
      "metadata": {
        "id": "view-in-github",
        "colab_type": "text"
      },
      "source": [
        "<a href=\"https://colab.research.google.com/github/SamiraHabib/Fake_News/blob/main/debug_fun%C3%A7%C3%A3o_remove_stopswords_SPACY.ipynb\" target=\"_parent\"><img src=\"https://colab.research.google.com/assets/colab-badge.svg\" alt=\"Open In Colab\"/></a>"
      ]
    },
    {
      "cell_type": "code",
      "metadata": {
        "id": "NUdKBFKiPHl7"
      },
      "source": [
        "import spacy\n",
        "from spacy.lang.en import English\n",
        "from spacy.lang.en.stop_words import STOP_WORDS\n",
        "from string import punctuation\n",
        "from unicodedata import normalize\n",
        "import re\n",
        "import pandas as pd"
      ],
      "execution_count": null,
      "outputs": []
    },
    {
      "cell_type": "code",
      "metadata": {
        "id": "UPYPF8_COoZp"
      },
      "source": [
        "data_df = pd.read_json('/content/drive/MyDrive/Colab Notebooks/Projeto - fake news/fakeNews _temp3.json')"
      ],
      "execution_count": null,
      "outputs": []
    },
    {
      "cell_type": "code",
      "metadata": {
        "colab": {
          "base_uri": "https://localhost:8080/"
        },
        "id": "6Tcc_hkiPdDE",
        "outputId": "27725dde-646b-4686-cad8-9c3e90c585ca"
      },
      "source": [
        "data_df['review_total'] = \"\"\n",
        "for x in range(len(data_df)):\n",
        "  data_df['review_total'][x] = \" \".join([data_df['review_title'][x], data_df['review_resume'][x],\n",
        "                                         data_df['review_conclusion'][x]])"
      ],
      "execution_count": null,
      "outputs": [
        {
          "output_type": "stream",
          "text": [
            "/usr/local/lib/python3.7/dist-packages/ipykernel_launcher.py:4: SettingWithCopyWarning: \n",
            "A value is trying to be set on a copy of a slice from a DataFrame\n",
            "\n",
            "See the caveats in the documentation: https://pandas.pydata.org/pandas-docs/stable/user_guide/indexing.html#returning-a-view-versus-a-copy\n",
            "  after removing the cwd from sys.path.\n"
          ],
          "name": "stderr"
        }
      ]
    },
    {
      "cell_type": "markdown",
      "metadata": {
        "id": "zopOx58-ZbmI"
      },
      "source": [
        "**Tirando pontuação e transformando em minúsculo**"
      ]
    },
    {
      "cell_type": "code",
      "metadata": {
        "id": "7J52KmX6mZzt"
      },
      "source": [
        "df_preprocess = pd.DataFrame()"
      ],
      "execution_count": null,
      "outputs": []
    },
    {
      "cell_type": "code",
      "metadata": {
        "id": "qajUptWklQ6A"
      },
      "source": [
        "normalized_list = []\n",
        "\n",
        "for item in data_df['review_total']:\n",
        "  norm = normalize('NFKD', item).encode('ASCII', 'ignore').decode('ASCII')\n",
        "  normalized_list.append(norm.lower())\n",
        "\n",
        "df_preprocess['normalized'] = normalized_list"
      ],
      "execution_count": null,
      "outputs": []
    },
    {
      "cell_type": "code",
      "metadata": {
        "colab": {
          "base_uri": "https://localhost:8080/",
          "height": 414
        },
        "id": "fB_wukB_89us",
        "outputId": "3f658d36-4e37-4f6a-d80c-943b46da2435"
      },
      "source": [
        "df_preprocess"
      ],
      "execution_count": null,
      "outputs": [
        {
          "output_type": "execute_result",
          "data": {
            "text/html": [
              "<div>\n",
              "<style scoped>\n",
              "    .dataframe tbody tr th:only-of-type {\n",
              "        vertical-align: middle;\n",
              "    }\n",
              "\n",
              "    .dataframe tbody tr th {\n",
              "        vertical-align: top;\n",
              "    }\n",
              "\n",
              "    .dataframe thead th {\n",
              "        text-align: right;\n",
              "    }\n",
              "</style>\n",
              "<table border=\"1\" class=\"dataframe\">\n",
              "  <thead>\n",
              "    <tr style=\"text-align: right;\">\n",
              "      <th></th>\n",
              "      <th>normalized</th>\n",
              "    </tr>\n",
              "  </thead>\n",
              "  <tbody>\n",
              "    <tr>\n",
              "      <th>0</th>\n",
              "      <td>normandy summit results: the eu plays on russi...</td>\n",
              "    </tr>\n",
              "    <tr>\n",
              "      <th>1</th>\n",
              "      <td>the us benefits from the attack on the saudi o...</td>\n",
              "    </tr>\n",
              "    <tr>\n",
              "      <th>2</th>\n",
              "      <td>the polish legions of pilsudski organized the ...</td>\n",
              "    </tr>\n",
              "    <tr>\n",
              "      <th>3</th>\n",
              "      <td>the west might use the eastern europeans as ca...</td>\n",
              "    </tr>\n",
              "    <tr>\n",
              "      <th>4</th>\n",
              "      <td>the resolution of the european parliament reli...</td>\n",
              "    </tr>\n",
              "    <tr>\n",
              "      <th>...</th>\n",
              "      <td>...</td>\n",
              "    </tr>\n",
              "    <tr>\n",
              "      <th>7361</th>\n",
              "      <td>us wants to divide syria the usa wants to divi...</td>\n",
              "    </tr>\n",
              "    <tr>\n",
              "      <th>7362</th>\n",
              "      <td>obama was close to succeeding where hitler fai...</td>\n",
              "    </tr>\n",
              "    <tr>\n",
              "      <th>7363</th>\n",
              "      <td>european parliament falsifies history about mo...</td>\n",
              "    </tr>\n",
              "    <tr>\n",
              "      <th>7364</th>\n",
              "      <td>european parliament falsifies history about mo...</td>\n",
              "    </tr>\n",
              "    <tr>\n",
              "      <th>7365</th>\n",
              "      <td>the us is helping terrorists in afghanistan a ...</td>\n",
              "    </tr>\n",
              "  </tbody>\n",
              "</table>\n",
              "<p>7366 rows × 1 columns</p>\n",
              "</div>"
            ],
            "text/plain": [
              "                                             normalized\n",
              "0     normandy summit results: the eu plays on russi...\n",
              "1     the us benefits from the attack on the saudi o...\n",
              "2     the polish legions of pilsudski organized the ...\n",
              "3     the west might use the eastern europeans as ca...\n",
              "4     the resolution of the european parliament reli...\n",
              "...                                                 ...\n",
              "7361  us wants to divide syria the usa wants to divi...\n",
              "7362  obama was close to succeeding where hitler fai...\n",
              "7363  european parliament falsifies history about mo...\n",
              "7364  european parliament falsifies history about mo...\n",
              "7365  the us is helping terrorists in afghanistan a ...\n",
              "\n",
              "[7366 rows x 1 columns]"
            ]
          },
          "metadata": {
            "tags": []
          },
          "execution_count": 31
        }
      ]
    },
    {
      "cell_type": "markdown",
      "metadata": {
        "id": "rZYyz3PZ7tW-"
      },
      "source": [
        "**Retirando expressões regulares**"
      ]
    },
    {
      "cell_type": "code",
      "metadata": {
        "id": "bim0RPyxKJAD"
      },
      "source": [
        "df_preprocess['regex'] = df_preprocess['normalized'].apply(lambda x: re.sub('[0-9]|,|\\.|/|$|\\(|\\)|-|\\+|:|•', ' ', str(x)))"
      ],
      "execution_count": null,
      "outputs": []
    },
    {
      "cell_type": "code",
      "metadata": {
        "colab": {
          "base_uri": "https://localhost:8080/",
          "height": 285
        },
        "id": "DJYXBdYhKwcj",
        "outputId": "0881339e-55b0-4bd6-869d-c521ecf71bb7"
      },
      "source": [
        "df_preprocess.head()"
      ],
      "execution_count": null,
      "outputs": [
        {
          "output_type": "execute_result",
          "data": {
            "text/html": [
              "<div>\n",
              "<style scoped>\n",
              "    .dataframe tbody tr th:only-of-type {\n",
              "        vertical-align: middle;\n",
              "    }\n",
              "\n",
              "    .dataframe tbody tr th {\n",
              "        vertical-align: top;\n",
              "    }\n",
              "\n",
              "    .dataframe thead th {\n",
              "        text-align: right;\n",
              "    }\n",
              "</style>\n",
              "<table border=\"1\" class=\"dataframe\">\n",
              "  <thead>\n",
              "    <tr style=\"text-align: right;\">\n",
              "      <th></th>\n",
              "      <th>normalized</th>\n",
              "      <th>regex</th>\n",
              "      <th>tokenized</th>\n",
              "      <th>stopwords</th>\n",
              "    </tr>\n",
              "  </thead>\n",
              "  <tbody>\n",
              "    <tr>\n",
              "      <th>0</th>\n",
              "      <td>normandy summit results: the eu plays on russi...</td>\n",
              "      <td>normandy summit results  the eu plays on russi...</td>\n",
              "      <td>(normandy, summit, results,  , the, eu, plays,...</td>\n",
              "      <td>[normandy, summit, results,  , eu, plays, russ...</td>\n",
              "    </tr>\n",
              "    <tr>\n",
              "      <th>1</th>\n",
              "      <td>the us benefits from the attack on the saudi o...</td>\n",
              "      <td>the us benefits from the attack on the saudi o...</td>\n",
              "      <td>(the, us, benefits, from, the, attack, on, the...</td>\n",
              "      <td>[benefits, attack, saudi, oil, facility, regar...</td>\n",
              "    </tr>\n",
              "    <tr>\n",
              "      <th>2</th>\n",
              "      <td>the polish legions of pilsudski organized the ...</td>\n",
              "      <td>the polish legions of pilsudski organized the ...</td>\n",
              "      <td>(the, polish, legions, of, pilsudski, organize...</td>\n",
              "      <td>[polish, legions, pilsudski, organized, volyn,...</td>\n",
              "    </tr>\n",
              "    <tr>\n",
              "      <th>3</th>\n",
              "      <td>the west might use the eastern europeans as ca...</td>\n",
              "      <td>the west might use the eastern europeans as ca...</td>\n",
              "      <td>(the, west, might, use, the, eastern, european...</td>\n",
              "      <td>[west, use, eastern, europeans, cannon, fodder...</td>\n",
              "    </tr>\n",
              "    <tr>\n",
              "      <th>4</th>\n",
              "      <td>the resolution of the european parliament reli...</td>\n",
              "      <td>the resolution of the european parliament reli...</td>\n",
              "      <td>(the, resolution, of, the, european, parliamen...</td>\n",
              "      <td>[resolution, european, parliament, relieves, g...</td>\n",
              "    </tr>\n",
              "  </tbody>\n",
              "</table>\n",
              "</div>"
            ],
            "text/plain": [
              "                                          normalized  ...                                          stopwords\n",
              "0  normandy summit results: the eu plays on russi...  ...  [normandy, summit, results,  , eu, plays, russ...\n",
              "1  the us benefits from the attack on the saudi o...  ...  [benefits, attack, saudi, oil, facility, regar...\n",
              "2  the polish legions of pilsudski organized the ...  ...  [polish, legions, pilsudski, organized, volyn,...\n",
              "3  the west might use the eastern europeans as ca...  ...  [west, use, eastern, europeans, cannon, fodder...\n",
              "4  the resolution of the european parliament reli...  ...  [resolution, european, parliament, relieves, g...\n",
              "\n",
              "[5 rows x 4 columns]"
            ]
          },
          "metadata": {
            "tags": []
          },
          "execution_count": 42
        }
      ]
    },
    {
      "cell_type": "markdown",
      "metadata": {
        "id": "rqwAGOjAdURO"
      },
      "source": [
        "**Tokenizando as palavras do texto**"
      ]
    },
    {
      "cell_type": "code",
      "metadata": {
        "id": "K7nRlGeGl_66"
      },
      "source": [
        "tokenizer = English()"
      ],
      "execution_count": null,
      "outputs": []
    },
    {
      "cell_type": "code",
      "metadata": {
        "id": "TrEkIucncAHR"
      },
      "source": [
        "df_preprocess['tokenized'] = df_preprocess.apply(lambda x: tokenizer(x['regex']), axis=1)"
      ],
      "execution_count": null,
      "outputs": []
    },
    {
      "cell_type": "code",
      "metadata": {
        "colab": {
          "base_uri": "https://localhost:8080/",
          "height": 285
        },
        "id": "Z0UDVXA_mX6V",
        "outputId": "db013af4-2505-403e-8603-49e2825a5cc8"
      },
      "source": [
        "df_preprocess.head()"
      ],
      "execution_count": null,
      "outputs": [
        {
          "output_type": "execute_result",
          "data": {
            "text/html": [
              "<div>\n",
              "<style scoped>\n",
              "    .dataframe tbody tr th:only-of-type {\n",
              "        vertical-align: middle;\n",
              "    }\n",
              "\n",
              "    .dataframe tbody tr th {\n",
              "        vertical-align: top;\n",
              "    }\n",
              "\n",
              "    .dataframe thead th {\n",
              "        text-align: right;\n",
              "    }\n",
              "</style>\n",
              "<table border=\"1\" class=\"dataframe\">\n",
              "  <thead>\n",
              "    <tr style=\"text-align: right;\">\n",
              "      <th></th>\n",
              "      <th>normalized</th>\n",
              "      <th>regex</th>\n",
              "      <th>tokenized</th>\n",
              "      <th>stopwords</th>\n",
              "    </tr>\n",
              "  </thead>\n",
              "  <tbody>\n",
              "    <tr>\n",
              "      <th>0</th>\n",
              "      <td>normandy summit results: the eu plays on russi...</td>\n",
              "      <td>normandy summit results  the eu plays on russi...</td>\n",
              "      <td>(normandy, summit, results,  , the, eu, plays,...</td>\n",
              "      <td>[normandy, summit, results,  , eu, plays, russ...</td>\n",
              "    </tr>\n",
              "    <tr>\n",
              "      <th>1</th>\n",
              "      <td>the us benefits from the attack on the saudi o...</td>\n",
              "      <td>the us benefits from the attack on the saudi o...</td>\n",
              "      <td>(the, us, benefits, from, the, attack, on, the...</td>\n",
              "      <td>[benefits, attack, saudi, oil, facility, regar...</td>\n",
              "    </tr>\n",
              "    <tr>\n",
              "      <th>2</th>\n",
              "      <td>the polish legions of pilsudski organized the ...</td>\n",
              "      <td>the polish legions of pilsudski organized the ...</td>\n",
              "      <td>(the, polish, legions, of, pilsudski, organize...</td>\n",
              "      <td>[polish, legions, pilsudski, organized, volyn,...</td>\n",
              "    </tr>\n",
              "    <tr>\n",
              "      <th>3</th>\n",
              "      <td>the west might use the eastern europeans as ca...</td>\n",
              "      <td>the west might use the eastern europeans as ca...</td>\n",
              "      <td>(the, west, might, use, the, eastern, european...</td>\n",
              "      <td>[west, use, eastern, europeans, cannon, fodder...</td>\n",
              "    </tr>\n",
              "    <tr>\n",
              "      <th>4</th>\n",
              "      <td>the resolution of the european parliament reli...</td>\n",
              "      <td>the resolution of the european parliament reli...</td>\n",
              "      <td>(the, resolution, of, the, european, parliamen...</td>\n",
              "      <td>[resolution, european, parliament, relieves, g...</td>\n",
              "    </tr>\n",
              "  </tbody>\n",
              "</table>\n",
              "</div>"
            ],
            "text/plain": [
              "                                          normalized  ...                                          stopwords\n",
              "0  normandy summit results: the eu plays on russi...  ...  [normandy, summit, results,  , eu, plays, russ...\n",
              "1  the us benefits from the attack on the saudi o...  ...  [benefits, attack, saudi, oil, facility, regar...\n",
              "2  the polish legions of pilsudski organized the ...  ...  [polish, legions, pilsudski, organized, volyn,...\n",
              "3  the west might use the eastern europeans as ca...  ...  [west, use, eastern, europeans, cannon, fodder...\n",
              "4  the resolution of the european parliament reli...  ...  [resolution, european, parliament, relieves, g...\n",
              "\n",
              "[5 rows x 4 columns]"
            ]
          },
          "metadata": {
            "tags": []
          },
          "execution_count": 45
        }
      ]
    },
    {
      "cell_type": "code",
      "metadata": {
        "id": "EbYx3CjNmQji"
      },
      "source": [
        "#Pq assim não funciona? misterios........\n",
        "#review_nlp = [tokenizer(item) for item in data_df['review_total']]"
      ],
      "execution_count": null,
      "outputs": []
    },
    {
      "cell_type": "markdown",
      "metadata": {
        "id": "_KlU0AbAdYf9"
      },
      "source": [
        "**Criando lista de stopwords e removendo-as do texto**"
      ]
    },
    {
      "cell_type": "code",
      "metadata": {
        "id": "yWrllKzFZ5BH"
      },
      "source": [
        "spacy_stopwords = list(set(spacy.lang.en.stop_words.STOP_WORDS))"
      ],
      "execution_count": null,
      "outputs": []
    },
    {
      "cell_type": "code",
      "metadata": {
        "id": "s-kNU1gQggyg"
      },
      "source": [
        "words_lists = []\n",
        "\n",
        "for item in df_preprocess['tokenized']:\n",
        "  word_temp = []\n",
        "  words_lists.append(word_temp)\n",
        "  for word in item:\n",
        "    if word.text not in spacy_stopwords:\n",
        "      word_temp.append(word)\n",
        "\n",
        "df_preprocess['stopwords'] = words_lists"
      ],
      "execution_count": null,
      "outputs": []
    },
    {
      "cell_type": "code",
      "metadata": {
        "colab": {
          "base_uri": "https://localhost:8080/"
        },
        "id": "lNU7-itSYfsn",
        "outputId": "b1c561f4-b670-4e95-8954-a4dfc753fcd3"
      },
      "source": [
        "df_preprocess['stopwords'][0]"
      ],
      "execution_count": null,
      "outputs": [
        {
          "output_type": "execute_result",
          "data": {
            "text/plain": [
              "[normandy,\n",
              " summit,\n",
              " results,\n",
              "  ,\n",
              " eu,\n",
              " plays,\n",
              " russia,\n",
              " betrayed,\n",
              " kyiv,\n",
              "  ,\n",
              " bright,\n",
              " future,\n",
              " ukraine,\n",
              " ukraine,\n",
              " situation,\n",
              " external,\n",
              " forces,\n",
              " dictate,\n",
              " solve,\n",
              " internal,\n",
              " problems,\n",
              " kyiv,\n",
              " expected,\n",
              " western,\n",
              " allies,\n",
              " pressure,\n",
              " russia,\n",
              " normandy,\n",
              " format,\n",
              " allies,\n",
              " realised,\n",
              " confrontation,\n",
              " russia,\n",
              " cost,\n",
              " emmanuel,\n",
              " macron,\n",
              " angela,\n",
              " merkel,\n",
              " supported,\n",
              " russias,\n",
              " position,\n",
              " bigger,\n",
              " pressure,\n",
              " ukraine,\n",
              " vladimir,\n",
              " putin,\n",
              " eventually,\n",
              " zelenskyy,\n",
              " found,\n",
              " solitude,\n",
              " russia,\n",
              " germany,\n",
              " france,\n",
              " nearly,\n",
              " identical,\n",
              " positions,\n",
              " resolution,\n",
              " civil,\n",
              " conflict,\n",
              " ukraine,\n",
              " ukrainian,\n",
              " politicians,\n",
              " wrongfully,\n",
              " remain,\n",
              " confident,\n",
              " west,\n",
              " unconditionally,\n",
              " support,\n",
              " russophobic,\n",
              " regime,\n",
              " ukraine,\n",
              " carry,\n",
              " foreign,\n",
              " policy,\n",
              " security,\n",
              " wests,\n",
              " authority,\n",
              " enjoy,\n",
              " protectionukraine,\n",
              " slam,\n",
              " door,\n",
              " declare,\n",
              " longer,\n",
              " needs,\n",
              " normandy,\n",
              " format,\n",
              " remaining,\n",
              " material,\n",
              " evidence,\n",
              " ukraines,\n",
              " unity,\n",
              " west,\n",
              " movement,\n",
              " europe,\n",
              " kyiv,\n",
              " present,\n",
              " ukrainian,\n",
              " people,\n",
              " truth,\n",
              " told,\n",
              " ukrainians,\n",
              " europe,\n",
              " represented,\n",
              " paris,\n",
              " berlin,\n",
              " playing,\n",
              " russia,\n",
              " ukrainian,\n",
              " people,\n",
              " reasonably,\n",
              " question,\n",
              " people,\n",
              " sacrificed,\n",
              " state,\n",
              " society,\n",
              " destroyed,\n",
              " end,\n",
              " europe,\n",
              " betrayed,\n",
              " ukraine,\n",
              " ukraine,\n",
              " eu,\n",
              " bright,\n",
              " future,\n",
              " come,\n",
              " article,\n",
              " misrepresents,\n",
              " actual,\n",
              " german,\n",
              " french,\n",
              " positions,\n",
              " normandy,\n",
              " summit,\n",
              " masks,\n",
              " clear,\n",
              " violation,\n",
              " ukrainian,\n",
              " sovereignty,\n",
              " territorial,\n",
              " integrity,\n",
              " acts,\n",
              " aggression,\n",
              " russian,\n",
              " armed,\n",
              " forces,\n",
              " february,\n",
              "      ,\n",
              " ukraine,\n",
              " \",\n",
              " internal,\n",
              " problems,\n",
              " \",\n",
              " \",\n",
              " civil,\n",
              " conflict,\n",
              " \",\n",
              "  ,\n",
              " challenges,\n",
              " ukrainian,\n",
              " statehood,\n",
              " sovereignty,\n",
              " promotes,\n",
              " recurring,\n",
              " pro,\n",
              " kremlin,\n",
              " propagandistic,\n",
              " narrative,\n",
              " ukraine,\n",
              " inevitable,\n",
              " bleak,\n",
              " future,\n",
              "  ,\n",
              " disintegration,\n",
              " imminent,\n",
              " collapse,\n",
              " ,\n",
              " claim,\n",
              " germany,\n",
              " france,\n",
              " play,\n",
              " russia,\n",
              " groundless,\n",
              "  ,\n",
              " according,\n",
              " common,\n",
              " agreed,\n",
              " conclusions,\n",
              " normandy,\n",
              " summit,\n",
              "   ,\n",
              " december,\n",
              "       ,\n",
              " \",\n",
              " minsk,\n",
              " agreements,\n",
              "  ,\n",
              " minsk,\n",
              " protocol,\n",
              "   ,\n",
              " september,\n",
              "       ,\n",
              " minsk,\n",
              " memorandum,\n",
              "    ,\n",
              " september,\n",
              "      ,\n",
              " minsk,\n",
              " package,\n",
              " measures,\n",
              "    ,\n",
              " february,\n",
              "       ,\n",
              " continue,\n",
              " basis,\n",
              " work,\n",
              " normandy,\n",
              " format,\n",
              " member,\n",
              " states,\n",
              " committed,\n",
              " implementation,\n",
              " \",\n",
              " minsk,\n",
              " package,\n",
              " measures,\n",
              "    ,\n",
              " february,\n",
              "       ,\n",
              " things,\n",
              "  ,\n",
              " mentioning,\n",
              " russian,\n",
              " personnel,\n",
              " hardware,\n",
              "  ,\n",
              " calls,\n",
              " \",\n",
              " withdrawal,\n",
              " foreign,\n",
              " armed,\n",
              " formations,\n",
              "  ,\n",
              " military,\n",
              " equipment,\n",
              "  ,\n",
              " mercenaries,\n",
              " territory,\n",
              " ukraine,\n",
              " monitoring,\n",
              " osce,\n",
              " \",\n",
              "  ,\n",
              " para,\n",
              "     ,\n",
              " read,\n",
              " articles,\n",
              " anti,\n",
              " ukrainian,\n",
              " propaganda,\n",
              " ukraine,\n",
              " information,\n",
              " fire,\n",
              " years,\n",
              " falsehoods,\n",
              "  ,\n",
              " worth,\n",
              " kremlin,\n",
              " ?,\n",
              " earlier,\n",
              " disinformation,\n",
              " cases,\n",
              " claiming,\n",
              " ukraine,\n",
              " invariably,\n",
              " faces,\n",
              " civil,\n",
              " war,\n",
              " complete,\n",
              " disintegration,\n",
              "  ,\n",
              " ukraine,\n",
              " disintegrated,\n",
              "       ,\n",
              " normandy,\n",
              " summit,\n",
              " aimed,\n",
              " solving,\n",
              " ukraines,\n",
              " internal,\n",
              " problems,\n",
              "  ,\n",
              " germany,\n",
              " fabricated,\n",
              " new,\n",
              " skripal,\n",
              " case,\n",
              " ahead,\n",
              " normandy,\n",
              " summit,\n",
              "  \n",
              "  ]"
            ]
          },
          "metadata": {
            "tags": []
          },
          "execution_count": 48
        }
      ]
    }
  ]
}