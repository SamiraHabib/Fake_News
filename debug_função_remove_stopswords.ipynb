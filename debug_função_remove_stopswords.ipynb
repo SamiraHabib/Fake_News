{
  "nbformat": 4,
  "nbformat_minor": 0,
  "metadata": {
    "colab": {
      "name": "debug função: remove_stopswords.ipynb",
      "provenance": [],
      "collapsed_sections": [],
      "authorship_tag": "ABX9TyNvz4KZjdgdHoCFozgZVls+",
      "include_colab_link": true
    },
    "kernelspec": {
      "name": "python3",
      "display_name": "Python 3"
    },
    "language_info": {
      "name": "python"
    }
  },
  "cells": [
    {
      "cell_type": "markdown",
      "metadata": {
        "id": "view-in-github",
        "colab_type": "text"
      },
      "source": [
        "<a href=\"https://colab.research.google.com/github/SamiraHabib/Fake_News/blob/main/debug_fun%C3%A7%C3%A3o_remove_stopswords.ipynb\" target=\"_parent\"><img src=\"https://colab.research.google.com/assets/colab-badge.svg\" alt=\"Open In Colab\"/></a>"
      ]
    },
    {
      "cell_type": "markdown",
      "metadata": {
        "id": "fGCzRQPE-U6p"
      },
      "source": [
        "**tirar acentuação e transformar em minúsculo**"
      ]
    },
    {
      "cell_type": "code",
      "metadata": {
        "id": "KGJc0175wqA9"
      },
      "source": [
        "df_preprocess = pd.DataFrame()"
      ],
      "execution_count": null,
      "outputs": []
    },
    {
      "cell_type": "code",
      "metadata": {
        "id": "CQmTImzM9sYZ"
      },
      "source": [
        "normalized_list = []\n",
        "\n",
        "for item in data_df['review_resume']:\n",
        "  a = normalize('NFKD', item).encode('ASCII', 'ignore').decode('ASCII')\n",
        "  normalized_list.append(a.lower())\n",
        "\n",
        "df_preprocess['normalized'] = normalized_list"
      ],
      "execution_count": null,
      "outputs": []
    },
    {
      "cell_type": "code",
      "metadata": {
        "colab": {
          "base_uri": "https://localhost:8080/",
          "height": 202
        },
        "id": "mWkBc0lGfI6h",
        "outputId": "0f825ed2-873d-4ce4-c7a7-9b680af9302c"
      },
      "source": [
        "df_preprocess.head()"
      ],
      "execution_count": null,
      "outputs": [
        {
          "output_type": "execute_result",
          "data": {
            "text/html": [
              "<div>\n",
              "<style scoped>\n",
              "    .dataframe tbody tr th:only-of-type {\n",
              "        vertical-align: middle;\n",
              "    }\n",
              "\n",
              "    .dataframe tbody tr th {\n",
              "        vertical-align: top;\n",
              "    }\n",
              "\n",
              "    .dataframe thead th {\n",
              "        text-align: right;\n",
              "    }\n",
              "</style>\n",
              "<table border=\"1\" class=\"dataframe\">\n",
              "  <thead>\n",
              "    <tr style=\"text-align: right;\">\n",
              "      <th></th>\n",
              "      <th>normalized</th>\n",
              "    </tr>\n",
              "  </thead>\n",
              "  <tbody>\n",
              "    <tr>\n",
              "      <th>0</th>\n",
              "      <td>ukraine has put itself in a situation when ext...</td>\n",
              "    </tr>\n",
              "    <tr>\n",
              "      <th>1</th>\n",
              "      <td>regardless who was behind the recent attack on...</td>\n",
              "    </tr>\n",
              "    <tr>\n",
              "      <th>2</th>\n",
              "      <td>pilsudski is a historical figure who establish...</td>\n",
              "    </tr>\n",
              "    <tr>\n",
              "      <th>3</th>\n",
              "      <td>washington (and to a large degree brussels) ar...</td>\n",
              "    </tr>\n",
              "    <tr>\n",
              "      <th>4</th>\n",
              "      <td>the beneficiary of the resolution of the europ...</td>\n",
              "    </tr>\n",
              "  </tbody>\n",
              "</table>\n",
              "</div>"
            ],
            "text/plain": [
              "                                          normalized\n",
              "0  ukraine has put itself in a situation when ext...\n",
              "1  regardless who was behind the recent attack on...\n",
              "2  pilsudski is a historical figure who establish...\n",
              "3  washington (and to a large degree brussels) ar...\n",
              "4  the beneficiary of the resolution of the europ..."
            ]
          },
          "metadata": {
            "tags": []
          },
          "execution_count": 105
        }
      ]
    },
    {
      "cell_type": "markdown",
      "metadata": {
        "id": "IzV44EaNyMJB"
      },
      "source": [
        "**tokenizando**"
      ]
    },
    {
      "cell_type": "code",
      "metadata": {
        "id": "vE-XO6q2o4V8"
      },
      "source": [
        "df_preprocess['token'] = df_preprocess.apply(lambda row: nltk.word_tokenize(row['normalized']), axis=1)"
      ],
      "execution_count": null,
      "outputs": []
    },
    {
      "cell_type": "code",
      "metadata": {
        "colab": {
          "base_uri": "https://localhost:8080/",
          "height": 202
        },
        "id": "ZcAHwyX_pKyq",
        "outputId": "2f03cf3a-6e3b-49fb-e08f-15895164427e"
      },
      "source": [
        "df_preprocess.head()"
      ],
      "execution_count": null,
      "outputs": [
        {
          "output_type": "execute_result",
          "data": {
            "text/html": [
              "<div>\n",
              "<style scoped>\n",
              "    .dataframe tbody tr th:only-of-type {\n",
              "        vertical-align: middle;\n",
              "    }\n",
              "\n",
              "    .dataframe tbody tr th {\n",
              "        vertical-align: top;\n",
              "    }\n",
              "\n",
              "    .dataframe thead th {\n",
              "        text-align: right;\n",
              "    }\n",
              "</style>\n",
              "<table border=\"1\" class=\"dataframe\">\n",
              "  <thead>\n",
              "    <tr style=\"text-align: right;\">\n",
              "      <th></th>\n",
              "      <th>normalized</th>\n",
              "      <th>token</th>\n",
              "    </tr>\n",
              "  </thead>\n",
              "  <tbody>\n",
              "    <tr>\n",
              "      <th>0</th>\n",
              "      <td>ukraine has put itself in a situation when ext...</td>\n",
              "      <td>[ukraine, has, put, itself, in, a, situation, ...</td>\n",
              "    </tr>\n",
              "    <tr>\n",
              "      <th>1</th>\n",
              "      <td>regardless who was behind the recent attack on...</td>\n",
              "      <td>[regardless, who, was, behind, the, recent, at...</td>\n",
              "    </tr>\n",
              "    <tr>\n",
              "      <th>2</th>\n",
              "      <td>pilsudski is a historical figure who establish...</td>\n",
              "      <td>[pilsudski, is, a, historical, figure, who, es...</td>\n",
              "    </tr>\n",
              "    <tr>\n",
              "      <th>3</th>\n",
              "      <td>washington (and to a large degree brussels) ar...</td>\n",
              "      <td>[washington, (, and, to, a, large, degree, bru...</td>\n",
              "    </tr>\n",
              "    <tr>\n",
              "      <th>4</th>\n",
              "      <td>the beneficiary of the resolution of the europ...</td>\n",
              "      <td>[the, beneficiary, of, the, resolution, of, th...</td>\n",
              "    </tr>\n",
              "  </tbody>\n",
              "</table>\n",
              "</div>"
            ],
            "text/plain": [
              "                                          normalized                                              token\n",
              "0  ukraine has put itself in a situation when ext...  [ukraine, has, put, itself, in, a, situation, ...\n",
              "1  regardless who was behind the recent attack on...  [regardless, who, was, behind, the, recent, at...\n",
              "2  pilsudski is a historical figure who establish...  [pilsudski, is, a, historical, figure, who, es...\n",
              "3  washington (and to a large degree brussels) ar...  [washington, (, and, to, a, large, degree, bru...\n",
              "4  the beneficiary of the resolution of the europ...  [the, beneficiary, of, the, resolution, of, th..."
            ]
          },
          "metadata": {
            "tags": []
          },
          "execution_count": 109
        }
      ]
    },
    {
      "cell_type": "markdown",
      "metadata": {
        "id": "McfuGWmOyPHG"
      },
      "source": [
        "**stopwords**"
      ]
    },
    {
      "cell_type": "code",
      "metadata": {
        "id": "f3aIQcbYyREG"
      },
      "source": [
        "stopwords = nltk.corpus.stopwords.words('english')\n",
        "stopwords = list(set(stopwords))\n",
        "stopwords = stopwords + list(punctuation)"
      ],
      "execution_count": null,
      "outputs": []
    },
    {
      "cell_type": "code",
      "metadata": {
        "id": "6E1Yyi01tX7l"
      },
      "source": [
        "words_lists = []\n",
        "\n",
        "for lists in df_preprocess['token']:\n",
        "  word_temp = []\n",
        "  words_lists.append(word_temp)\n",
        "  for word in lists:\n",
        "    if word not in stopwords:\n",
        "      word_temp.append(word)\n",
        "\n",
        "df_preprocess['stop_words'] = words_lists"
      ],
      "execution_count": null,
      "outputs": []
    },
    {
      "cell_type": "code",
      "metadata": {
        "colab": {
          "base_uri": "https://localhost:8080/",
          "height": 202
        },
        "id": "-jRpdJBYtX3t",
        "outputId": "6a3b7ad9-2045-4a15-cd5e-689efeb4acfe"
      },
      "source": [
        "df_preprocess.head()"
      ],
      "execution_count": null,
      "outputs": [
        {
          "output_type": "execute_result",
          "data": {
            "text/html": [
              "<div>\n",
              "<style scoped>\n",
              "    .dataframe tbody tr th:only-of-type {\n",
              "        vertical-align: middle;\n",
              "    }\n",
              "\n",
              "    .dataframe tbody tr th {\n",
              "        vertical-align: top;\n",
              "    }\n",
              "\n",
              "    .dataframe thead th {\n",
              "        text-align: right;\n",
              "    }\n",
              "</style>\n",
              "<table border=\"1\" class=\"dataframe\">\n",
              "  <thead>\n",
              "    <tr style=\"text-align: right;\">\n",
              "      <th></th>\n",
              "      <th>normalized</th>\n",
              "      <th>token</th>\n",
              "      <th>stop_words</th>\n",
              "    </tr>\n",
              "  </thead>\n",
              "  <tbody>\n",
              "    <tr>\n",
              "      <th>0</th>\n",
              "      <td>ukraine has put itself in a situation when ext...</td>\n",
              "      <td>[ukraine, has, put, itself, in, a, situation, ...</td>\n",
              "      <td>[ukraine, put, situation, external, forces, di...</td>\n",
              "    </tr>\n",
              "    <tr>\n",
              "      <th>1</th>\n",
              "      <td>regardless who was behind the recent attack on...</td>\n",
              "      <td>[regardless, who, was, behind, the, recent, at...</td>\n",
              "      <td>[regardless, behind, recent, attack, saudi, oi...</td>\n",
              "    </tr>\n",
              "    <tr>\n",
              "      <th>2</th>\n",
              "      <td>pilsudski is a historical figure who establish...</td>\n",
              "      <td>[pilsudski, is, a, historical, figure, who, es...</td>\n",
              "      <td>[pilsudski, historical, figure, established, f...</td>\n",
              "    </tr>\n",
              "    <tr>\n",
              "      <th>3</th>\n",
              "      <td>washington (and to a large degree brussels) ar...</td>\n",
              "      <td>[washington, (, and, to, a, large, degree, bru...</td>\n",
              "      <td>[washington, large, degree, brussels, engaged,...</td>\n",
              "    </tr>\n",
              "    <tr>\n",
              "      <th>4</th>\n",
              "      <td>the beneficiary of the resolution of the europ...</td>\n",
              "      <td>[the, beneficiary, of, the, resolution, of, th...</td>\n",
              "      <td>[beneficiary, resolution, european, parliament...</td>\n",
              "    </tr>\n",
              "  </tbody>\n",
              "</table>\n",
              "</div>"
            ],
            "text/plain": [
              "                                          normalized  ...                                         stop_words\n",
              "0  ukraine has put itself in a situation when ext...  ...  [ukraine, put, situation, external, forces, di...\n",
              "1  regardless who was behind the recent attack on...  ...  [regardless, behind, recent, attack, saudi, oi...\n",
              "2  pilsudski is a historical figure who establish...  ...  [pilsudski, historical, figure, established, f...\n",
              "3  washington (and to a large degree brussels) ar...  ...  [washington, large, degree, brussels, engaged,...\n",
              "4  the beneficiary of the resolution of the europ...  ...  [beneficiary, resolution, european, parliament...\n",
              "\n",
              "[5 rows x 3 columns]"
            ]
          },
          "metadata": {
            "tags": []
          },
          "execution_count": 112
        }
      ]
    },
    {
      "cell_type": "markdown",
      "metadata": {
        "id": "iZJDOUzf7qs8"
      },
      "source": [
        "**tirar expressões regulares**"
      ]
    },
    {
      "cell_type": "code",
      "metadata": {
        "id": "Ycuey9MitXzH"
      },
      "source": [
        "cleam_words = []\n",
        "\n",
        "for lists in df_preprocess['stop_words']:\n",
        "  word_temp = []\n",
        "  cleam_words.append(word_temp)\n",
        "  for word in lists:\n",
        "    new_word = re.sub(r'[^\\w\\a]',\"\", word)\n",
        "    if new_word != \"\":\n",
        "      word_temp.append(new_word)\n",
        "\n",
        "df_preprocess['cleam_word'] = cleam_words\n",
        "      \n",
        "      "
      ],
      "execution_count": null,
      "outputs": []
    },
    {
      "cell_type": "code",
      "metadata": {
        "colab": {
          "base_uri": "https://localhost:8080/",
          "height": 202
        },
        "id": "-5tEve2sfnzs",
        "outputId": "8ef32083-eec2-4844-c0d8-29d74401c080"
      },
      "source": [
        "df_preprocess.head()"
      ],
      "execution_count": null,
      "outputs": [
        {
          "output_type": "execute_result",
          "data": {
            "text/html": [
              "<div>\n",
              "<style scoped>\n",
              "    .dataframe tbody tr th:only-of-type {\n",
              "        vertical-align: middle;\n",
              "    }\n",
              "\n",
              "    .dataframe tbody tr th {\n",
              "        vertical-align: top;\n",
              "    }\n",
              "\n",
              "    .dataframe thead th {\n",
              "        text-align: right;\n",
              "    }\n",
              "</style>\n",
              "<table border=\"1\" class=\"dataframe\">\n",
              "  <thead>\n",
              "    <tr style=\"text-align: right;\">\n",
              "      <th></th>\n",
              "      <th>normalized</th>\n",
              "      <th>token</th>\n",
              "      <th>stop_words</th>\n",
              "      <th>cleam_word</th>\n",
              "    </tr>\n",
              "  </thead>\n",
              "  <tbody>\n",
              "    <tr>\n",
              "      <th>0</th>\n",
              "      <td>ukraine has put itself in a situation when ext...</td>\n",
              "      <td>[ukraine, has, put, itself, in, a, situation, ...</td>\n",
              "      <td>[ukraine, put, situation, external, forces, di...</td>\n",
              "      <td>[ukraine, put, situation, external, forces, di...</td>\n",
              "    </tr>\n",
              "    <tr>\n",
              "      <th>1</th>\n",
              "      <td>regardless who was behind the recent attack on...</td>\n",
              "      <td>[regardless, who, was, behind, the, recent, at...</td>\n",
              "      <td>[regardless, behind, recent, attack, saudi, oi...</td>\n",
              "      <td>[regardless, behind, recent, attack, saudi, oi...</td>\n",
              "    </tr>\n",
              "    <tr>\n",
              "      <th>2</th>\n",
              "      <td>pilsudski is a historical figure who establish...</td>\n",
              "      <td>[pilsudski, is, a, historical, figure, who, es...</td>\n",
              "      <td>[pilsudski, historical, figure, established, f...</td>\n",
              "      <td>[pilsudski, historical, figure, established, f...</td>\n",
              "    </tr>\n",
              "    <tr>\n",
              "      <th>3</th>\n",
              "      <td>washington (and to a large degree brussels) ar...</td>\n",
              "      <td>[washington, (, and, to, a, large, degree, bru...</td>\n",
              "      <td>[washington, large, degree, brussels, engaged,...</td>\n",
              "      <td>[washington, large, degree, brussels, engaged,...</td>\n",
              "    </tr>\n",
              "    <tr>\n",
              "      <th>4</th>\n",
              "      <td>the beneficiary of the resolution of the europ...</td>\n",
              "      <td>[the, beneficiary, of, the, resolution, of, th...</td>\n",
              "      <td>[beneficiary, resolution, european, parliament...</td>\n",
              "      <td>[beneficiary, resolution, european, parliament...</td>\n",
              "    </tr>\n",
              "  </tbody>\n",
              "</table>\n",
              "</div>"
            ],
            "text/plain": [
              "                                          normalized  ...                                         cleam_word\n",
              "0  ukraine has put itself in a situation when ext...  ...  [ukraine, put, situation, external, forces, di...\n",
              "1  regardless who was behind the recent attack on...  ...  [regardless, behind, recent, attack, saudi, oi...\n",
              "2  pilsudski is a historical figure who establish...  ...  [pilsudski, historical, figure, established, f...\n",
              "3  washington (and to a large degree brussels) ar...  ...  [washington, large, degree, brussels, engaged,...\n",
              "4  the beneficiary of the resolution of the europ...  ...  [beneficiary, resolution, european, parliament...\n",
              "\n",
              "[5 rows x 4 columns]"
            ]
          },
          "metadata": {
            "tags": []
          },
          "execution_count": 115
        }
      ]
    }
  ]
}