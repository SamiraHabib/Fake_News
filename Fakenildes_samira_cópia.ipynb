{
  "nbformat": 4,
  "nbformat_minor": 0,
  "metadata": {
    "colab": {
      "name": "Fakenildes_samira_cópia.ipynb",
      "provenance": [],
      "collapsed_sections": [],
      "include_colab_link": true
    },
    "kernelspec": {
      "name": "python3",
      "display_name": "Python 3"
    },
    "language_info": {
      "name": "python"
    }
  },
  "cells": [
    {
      "cell_type": "markdown",
      "metadata": {
        "id": "view-in-github",
        "colab_type": "text"
      },
      "source": [
        "<a href=\"https://colab.research.google.com/github/SamiraHabib/Fake_News/blob/main/Fakenildes_samira_c%C3%B3pia.ipynb\" target=\"_parent\"><img src=\"https://colab.research.google.com/assets/colab-badge.svg\" alt=\"Open In Colab\"/></a>"
      ]
    },
    {
      "cell_type": "markdown",
      "metadata": {
        "id": "gFJnlXLvG8Ud"
      },
      "source": [
        "##**Entendendo o dataset**\n",
        "\n",
        "  Os dados utilizados neste notebook foram coletados através de chamadas para a API [Veedoo](https://api.veedoo.io/), e são referentes ao banco de dados do site [EU vs Desinfo](https://euvsdisinfo.eu/disinformation-cases/) que, por sua vez é baseado em análises do _East Stratcom Task Force_.\n",
        "\n",
        "A _East Stratcom Task Force_ é uma organização para explicar melhor os valores, interesses e políticas da União Euripeia nos países parceiros da europa oriental. E trabalha em parceria com instituições e delegações da União Europeia nos países da Parceria Oriental, na Ásia Central e na Federação da Rússia.\n",
        "O trabalho da task force consiste em conscientizar sobre o impacto negativo da desinformação que se origina em fontes pró Governo Russo e é disseminada na europa oriental e além.\n",
        "\n",
        "  Este banco de dados possui uma série de avaliações de notícias que podem\n",
        "fornecer uma representação parcial, distorcida ou falsa da realidade. Por se apresentarem como notícias, é possível inferir que estas tem a intenção de causar desinformação, desta forma, podem ser englobadas como _Fake News_ na definição do conceito utilizado neste trabalho.\n",
        "\n",
        "Desta forma, o conteúdo deste banco de dados é formado, de cada entrada sendo avaliações de _Fake News_ feitas pelo EU vs Desinfo sobre acusações de desinformação em notícias que apoiam o governo da Russia (_Kremlin_)."
      ]
    },
    {
      "cell_type": "code",
      "metadata": {
        "id": "hntnIxujJTQ7"
      },
      "source": [
        "import pandas as pd \n",
        "import numpy as np\n",
        "import re\n",
        "import nltk\n",
        "\n",
        "from string import punctuation\n",
        "import unicodedata\n",
        "from collections import Counter"
      ],
      "execution_count": null,
      "outputs": []
    },
    {
      "cell_type": "code",
      "metadata": {
        "colab": {
          "base_uri": "https://localhost:8080/"
        },
        "id": "hMdmsOsuzVZm",
        "outputId": "635608c8-3e12-43e9-b6c4-d8620110a45a"
      },
      "source": [
        "nltk.download('stopwords')\n",
        "nltk.download('wordnet')\n",
        "nltk.download('punkt')\n",
        "nltk.download('rslp')"
      ],
      "execution_count": null,
      "outputs": [
        {
          "output_type": "stream",
          "text": [
            "[nltk_data] Downloading package stopwords to /root/nltk_data...\n",
            "[nltk_data]   Package stopwords is already up-to-date!\n",
            "[nltk_data] Downloading package wordnet to /root/nltk_data...\n",
            "[nltk_data]   Package wordnet is already up-to-date!\n",
            "[nltk_data] Downloading package punkt to /root/nltk_data...\n",
            "[nltk_data]   Package punkt is already up-to-date!\n",
            "[nltk_data] Downloading package rslp to /root/nltk_data...\n",
            "[nltk_data]   Package rslp is already up-to-date!\n"
          ],
          "name": "stdout"
        },
        {
          "output_type": "execute_result",
          "data": {
            "text/plain": [
              "True"
            ]
          },
          "metadata": {
            "tags": []
          },
          "execution_count": 319
        }
      ]
    },
    {
      "cell_type": "code",
      "metadata": {
        "id": "7X1H_iJzJVRV"
      },
      "source": [
        "files = pd.read_csv('/content/data.csv')"
      ],
      "execution_count": null,
      "outputs": []
    },
    {
      "cell_type": "code",
      "metadata": {
        "id": "fonL3JwaJx7f",
        "colab": {
          "base_uri": "https://localhost:8080/",
          "height": 564
        },
        "outputId": "d9d66615-f045-44f2-ef75-3945706c54b3"
      },
      "source": [
        "files.head()"
      ],
      "execution_count": null,
      "outputs": [
        {
          "output_type": "execute_result",
          "data": {
            "text/html": [
              "<div>\n",
              "<style scoped>\n",
              "    .dataframe tbody tr th:only-of-type {\n",
              "        vertical-align: middle;\n",
              "    }\n",
              "\n",
              "    .dataframe tbody tr th {\n",
              "        vertical-align: top;\n",
              "    }\n",
              "\n",
              "    .dataframe thead th {\n",
              "        text-align: right;\n",
              "    }\n",
              "</style>\n",
              "<table border=\"1\" class=\"dataframe\">\n",
              "  <thead>\n",
              "    <tr style=\"text-align: right;\">\n",
              "      <th></th>\n",
              "      <th>Unnamed: 0</th>\n",
              "      <th>claims_id</th>\n",
              "      <th>claim_published</th>\n",
              "      <th>first_appearance</th>\n",
              "      <th>review_id</th>\n",
              "      <th>is_part_of</th>\n",
              "      <th>claim_reviewed</th>\n",
              "      <th>review_published</th>\n",
              "      <th>review_name</th>\n",
              "      <th>html_text</th>\n",
              "      <th>text</th>\n",
              "      <th>issue_id</th>\n",
              "      <th>keyword_id</th>\n",
              "      <th>keyword_name</th>\n",
              "      <th>country_id</th>\n",
              "      <th>country_name</th>\n",
              "      <th>appearances</th>\n",
              "      <th>has_parts</th>\n",
              "      <th>creative_work_id</th>\n",
              "      <th>type</th>\n",
              "      <th>url</th>\n",
              "      <th>author</th>\n",
              "      <th>claim</th>\n",
              "      <th>web_archive_url</th>\n",
              "      <th>abstract</th>\n",
              "      <th>in_language</th>\n",
              "      <th>start_time</th>\n",
              "      <th>end_time</th>\n",
              "      <th>organization_id</th>\n",
              "      <th>location</th>\n",
              "      <th>organization_name</th>\n",
              "      <th>image_id</th>\n",
              "      <th>image_type</th>\n",
              "      <th>image_content_url</th>\n",
              "      <th>language_id</th>\n",
              "      <th>language_name</th>\n",
              "      <th>language_code</th>\n",
              "    </tr>\n",
              "  </thead>\n",
              "  <tbody>\n",
              "    <tr>\n",
              "      <th>0</th>\n",
              "      <td>0</td>\n",
              "      <td>/claims/100</td>\n",
              "      <td>2019-12-13T00:00:00+00:00</td>\n",
              "      <td>/news_articles/598</td>\n",
              "      <td>/claim_reviews/100</td>\n",
              "      <td>/issues/177</td>\n",
              "      <td>Ukraine has put itself in a situation when ext...</td>\n",
              "      <td>2019-12-16T00:00:00+00:00</td>\n",
              "      <td>Normandy summit results: the EU plays on Russi...</td>\n",
              "      <td>&lt;p&gt;This article misrepresents the actual Germa...</td>\n",
              "      <td>This article misrepresents the actual German a...</td>\n",
              "      <td>/issues/177</td>\n",
              "      <td>['/keywords/61', '/keywords/76', '/keywords/77...</td>\n",
              "      <td>['Abandoned Ukraine', 'Angela Merkel', 'Emmanu...</td>\n",
              "      <td>['/countries/4', '/countries/9', '/countries/1...</td>\n",
              "      <td>['Russia', 'Ukraine', 'The West', 'EU', 'Germa...</td>\n",
              "      <td>/news_articles/598</td>\n",
              "      <td>['/claims/75', '/claims/79', '/claims/80', '/c...</td>\n",
              "      <td>/news_articles/598</td>\n",
              "      <td>http://schema.org/NewsArticle</td>\n",
              "      <td>https://sputnik.by/columnists/20191213/1043442...</td>\n",
              "      <td>/organizations/262</td>\n",
              "      <td>/claims/100</td>\n",
              "      <td>https://web.archive.org/web/20191213153206/htt...</td>\n",
              "      <td>На нынешней же встрече Зеленский (который, кст...</td>\n",
              "      <td>/languages/3</td>\n",
              "      <td>NaN</td>\n",
              "      <td>NaN</td>\n",
              "      <td>/organizations/262</td>\n",
              "      <td>/countries/55</td>\n",
              "      <td>sputnik.by // lifenews.ru</td>\n",
              "      <td>/image_objects/23</td>\n",
              "      <td>http://schema.org/ImageObject</td>\n",
              "      <td>https://api.veedoo.io/images/5e3150bc27830_2fd...</td>\n",
              "      <td>/languages/3</td>\n",
              "      <td>Russian</td>\n",
              "      <td>rus</td>\n",
              "    </tr>\n",
              "    <tr>\n",
              "      <th>1</th>\n",
              "      <td>1</td>\n",
              "      <td>/claims/1000</td>\n",
              "      <td>2019-09-26T00:00:00+00:00</td>\n",
              "      <td>/news_articles/1835</td>\n",
              "      <td>/claim_reviews/1000</td>\n",
              "      <td>/issues/166</td>\n",
              "      <td>Regardless who was behind the recent attack on...</td>\n",
              "      <td>2019-09-27T00:00:00+00:00</td>\n",
              "      <td>The US benefits from the attack on the Saudi o...</td>\n",
              "      <td>&lt;p&gt;No evidence is provided to support the clai...</td>\n",
              "      <td>No evidence is provided to support the claim. ...</td>\n",
              "      <td>/issues/166</td>\n",
              "      <td>['/keywords/4', '/keywords/10', '/keywords/111']</td>\n",
              "      <td>['Conspiracy', 'Terrorism', 'Donald Trump']</td>\n",
              "      <td>['/countries/2', '/countries/3', '/countries/58']</td>\n",
              "      <td>['Iran', 'United States', 'Saudi Arabia']</td>\n",
              "      <td>/news_articles/1835</td>\n",
              "      <td>['/claims/934', '/claims/941', '/claims/942', ...</td>\n",
              "      <td>/news_articles/1835</td>\n",
              "      <td>http://schema.org/NewsArticle</td>\n",
              "      <td>https://southfront.org/who-really-benefits-fro...</td>\n",
              "      <td>/organizations/205</td>\n",
              "      <td>/claims/1000</td>\n",
              "      <td>https://web.archive.org/web/20190927121413/htt...</td>\n",
              "      <td>NaN</td>\n",
              "      <td>/languages/7</td>\n",
              "      <td>NaN</td>\n",
              "      <td>NaN</td>\n",
              "      <td>/organizations/205</td>\n",
              "      <td>NaN</td>\n",
              "      <td>southfront.org</td>\n",
              "      <td>NaN</td>\n",
              "      <td>NaN</td>\n",
              "      <td>NaN</td>\n",
              "      <td>/languages/7</td>\n",
              "      <td>English</td>\n",
              "      <td>eng</td>\n",
              "    </tr>\n",
              "    <tr>\n",
              "      <th>2</th>\n",
              "      <td>2</td>\n",
              "      <td>/claims/1002</td>\n",
              "      <td>2019-09-23T00:00:00+00:00</td>\n",
              "      <td>/media_objects/1837</td>\n",
              "      <td>/claim_reviews/1002</td>\n",
              "      <td>/issues/166</td>\n",
              "      <td>Pilsudski is a historical figure, who establis...</td>\n",
              "      <td>2019-09-27T00:00:00+00:00</td>\n",
              "      <td>The Polish Legions of Pilsudski organized the ...</td>\n",
              "      <td>&lt;p&gt;This message is a part of the Kremlin’s pol...</td>\n",
              "      <td>This message is a part of the Kremlin’s policy...</td>\n",
              "      <td>/issues/166</td>\n",
              "      <td>['/keywords/36', '/keywords/40', '/keywords/42...</td>\n",
              "      <td>['Genocide', 'WWII', 'Historical revisionism',...</td>\n",
              "      <td>['/countries/9', '/countries/24']</td>\n",
              "      <td>['Ukraine', 'Poland']</td>\n",
              "      <td>/media_objects/1837</td>\n",
              "      <td>['/claims/934', '/claims/941', '/claims/942', ...</td>\n",
              "      <td>/media_objects/1837</td>\n",
              "      <td>http://schema.org/MediaObject</td>\n",
              "      <td>https://youtube.com/watch?v=9wvNBUNML3Q&amp;t=250</td>\n",
              "      <td>/organizations/122</td>\n",
              "      <td>/claims/1002</td>\n",
              "      <td>https://web.archive.org/web/20190927133752/htt...</td>\n",
              "      <td>Пилсудский фигура историческая, создавшая перв...</td>\n",
              "      <td>/languages/3</td>\n",
              "      <td>250.0</td>\n",
              "      <td>262.0</td>\n",
              "      <td>/organizations/122</td>\n",
              "      <td>/countries/4</td>\n",
              "      <td>Rossia 24</td>\n",
              "      <td>/image_objects/10</td>\n",
              "      <td>http://schema.org/ImageObject</td>\n",
              "      <td>https://api.veedoo.io/images/5e313449bca43_Ros...</td>\n",
              "      <td>/languages/3</td>\n",
              "      <td>Russian</td>\n",
              "      <td>rus</td>\n",
              "    </tr>\n",
              "    <tr>\n",
              "      <th>3</th>\n",
              "      <td>3</td>\n",
              "      <td>/claims/1003</td>\n",
              "      <td>2019-09-27T00:00:00+00:00</td>\n",
              "      <td>/media_objects/1838</td>\n",
              "      <td>/claim_reviews/1003</td>\n",
              "      <td>/issues/166</td>\n",
              "      <td>Washington (and to a large degree Brussels) ar...</td>\n",
              "      <td>2019-09-27T00:00:00+00:00</td>\n",
              "      <td>The West might use the Eastern Europeans as ca...</td>\n",
              "      <td>&lt;p&gt;&lt;a href=\"https://euvsdisinfo.eu/why-authori...</td>\n",
              "      <td>Conspiracy theory, presented without evidence....</td>\n",
              "      <td>/issues/166</td>\n",
              "      <td>['/keywords/20', '/keywords/107', '/keywords/2...</td>\n",
              "      <td>['Russophobia', 'Encircling Russia', 'Operatio...</td>\n",
              "      <td>['/countries/3', '/countries/11', '/countries/...</td>\n",
              "      <td>['United States', 'The West', 'Czech Republic'...</td>\n",
              "      <td>/media_objects/1838</td>\n",
              "      <td>['/claims/934', '/claims/941', '/claims/942', ...</td>\n",
              "      <td>/media_objects/1838</td>\n",
              "      <td>http://schema.org/MediaObject</td>\n",
              "      <td>https://www.fort-russ.com/2019/09/debunking-li...</td>\n",
              "      <td>/organizations/461</td>\n",
              "      <td>/claims/1003</td>\n",
              "      <td>NaN</td>\n",
              "      <td>NaN</td>\n",
              "      <td>/languages/7</td>\n",
              "      <td>NaN</td>\n",
              "      <td>NaN</td>\n",
              "      <td>/organizations/461</td>\n",
              "      <td>NaN</td>\n",
              "      <td>fort-russ.com</td>\n",
              "      <td>NaN</td>\n",
              "      <td>NaN</td>\n",
              "      <td>NaN</td>\n",
              "      <td>/languages/7</td>\n",
              "      <td>English</td>\n",
              "      <td>eng</td>\n",
              "    </tr>\n",
              "    <tr>\n",
              "      <th>4</th>\n",
              "      <td>4</td>\n",
              "      <td>/claims/1004</td>\n",
              "      <td>2019-09-25T00:00:00+00:00</td>\n",
              "      <td>/news_articles/1839</td>\n",
              "      <td>/claim_reviews/1004</td>\n",
              "      <td>/issues/166</td>\n",
              "      <td>The beneficiary of the resolution of the Europ...</td>\n",
              "      <td>2019-09-27T00:00:00+00:00</td>\n",
              "      <td>The resolution of the European Parliament reli...</td>\n",
              "      <td>&lt;p&gt;This message is part of the Kremlin’s polic...</td>\n",
              "      <td>This message is part of the Kremlin’s policy o...</td>\n",
              "      <td>/issues/166</td>\n",
              "      <td>['/keywords/30', '/keywords/40', '/keywords/41...</td>\n",
              "      <td>['European Parliament', 'WWII', 'Adolf Hitler'...</td>\n",
              "      <td>['/countries/4', '/countries/30', '/countries/...</td>\n",
              "      <td>['Russia', 'Germany', 'Eastern Europe']</td>\n",
              "      <td>/news_articles/1839</td>\n",
              "      <td>['/claims/934', '/claims/941', '/claims/942', ...</td>\n",
              "      <td>/news_articles/1839</td>\n",
              "      <td>http://schema.org/NewsArticle</td>\n",
              "      <td>https://www.rubaltic.ru/article/politika-i-obs...</td>\n",
              "      <td>/organizations/335</td>\n",
              "      <td>/claims/1004</td>\n",
              "      <td>https://web.archive.org/web/20190927092204/htt...</td>\n",
              "      <td>И в первую очередь она выгодна Германии, котор...</td>\n",
              "      <td>/languages/3</td>\n",
              "      <td>NaN</td>\n",
              "      <td>NaN</td>\n",
              "      <td>/organizations/335</td>\n",
              "      <td>NaN</td>\n",
              "      <td>rubaltic.ru</td>\n",
              "      <td>NaN</td>\n",
              "      <td>NaN</td>\n",
              "      <td>NaN</td>\n",
              "      <td>/languages/3</td>\n",
              "      <td>Russian</td>\n",
              "      <td>rus</td>\n",
              "    </tr>\n",
              "  </tbody>\n",
              "</table>\n",
              "</div>"
            ],
            "text/plain": [
              "   Unnamed: 0     claims_id  ... language_name language_code\n",
              "0           0   /claims/100  ...       Russian           rus\n",
              "1           1  /claims/1000  ...       English           eng\n",
              "2           2  /claims/1002  ...       Russian           rus\n",
              "3           3  /claims/1003  ...       English           eng\n",
              "4           4  /claims/1004  ...       Russian           rus\n",
              "\n",
              "[5 rows x 37 columns]"
            ]
          },
          "metadata": {
            "tags": []
          },
          "execution_count": 321
        }
      ]
    },
    {
      "cell_type": "markdown",
      "metadata": {
        "id": "bY5rl3nt8oov"
      },
      "source": [
        "##**Dicionário dos dados do dataset original:**\n",
        "\n",
        "- 'Unnamed: 0': Número  único de identificação de cada linha de entrada, identico ao index.\n",
        "\n",
        "- 'claims_id': Número único de identificação do alerta (Claim) de FakeNews.\n",
        "\n",
        "- 'claim_published': Data e hora da publicação do alerta de FakeNews.\n",
        "\n",
        "- 'first_appearance': A primeira ocorrência de um alerta de FakeNews pra uma notícia.\n",
        "\n",
        "-  'review_id': Número único de identificação da avaliação da veracidade daquela notícia pelo EU vs Desinfo.\n",
        "\n",
        "- 'is_part_of': Número único de identificação da _Issue_.\n",
        "\n",
        "- 'claim_reviewed': Resumo da notícia original feita pelo EU vs Desinfo.\n",
        "\n",
        "- 'review_published': Data e hora da públicação da avaliação da veracidade da notícia, ou seja, se ela é ou não fake news.\n",
        "\n",
        "- 'review_name': Título da avaliação de Fake News.\n",
        "\n",
        "- 'html_text': Conclusão da acusação de fake news feita pelo EU vs Desinfo ainda em formato html.\n",
        "\n",
        "- 'text': Conclusão da acusação de fake news.\n",
        "\n",
        "- 'issue_id': Número único de identificação da 'Issue'.\n",
        "\n",
        "- 'keyword_id': Número único de identificação da palavra-chave.\n",
        "\n",
        "- 'keyword_name': Nome da palavra-chave.\n",
        "\n",
        "-'country_id': Número único de identificação dos países que são mensionados na notícia.\n",
        "\n",
        "- 'country_name': Nome dos países que são mensionados na notícia.\n",
        "\n",
        "- 'appearances': A primeira ocorrência de um alerta de FakeNews pra uma notícia.\n",
        "\n",
        "- 'has_parts': Número único de identificação (id) de alertas de FakeNews feitas para aquela notícia.\n",
        "\n",
        "- 'creative_work_id': Número único de identificação de um trabalho criativo, igual a coluna first_appearence.\n",
        "\n",
        "- 'type': Tipo do conteúdo que foi avaliado pelo US vs Definfo, temos avaliações de [artigos](http://schema.org/NewsArticle) e [mídia](https://schema.org/MediaObject).\n",
        "\n",
        "- 'url': Endereço web referente a cada notícia original.\n",
        "\n",
        "- 'author': Número unico de identificação da instituição que produziu a notícia original.\n",
        "\n",
        "- 'claim':  Número único de identificação do alerta de FakeNews.\n",
        "\n",
        "- 'web_archive_url': Arquivo salvo (html) da página web da notícia original.\n",
        "\n",
        "- 'abstract': Trecho aleatório da notícia original.\n",
        "\n",
        "- 'in_language': Número único de identificação da lingua utilizada na reportagem original.\n",
        "\n",
        "- 'start_time'\n",
        "- 'end_time'\n",
        "\n",
        "- 'organization_id': Número unico de identificação da instituição que produziu a notícia original\n",
        "\n",
        "- 'location': Número unico de identificação do país que está localizado organização que produziu a notícia original.\n",
        "\n",
        "- 'organization_name': Nome da instituição que produziu o conteúdo da notícia original.\n",
        "\n",
        "- 'image_id': Número único de identificação da logo marca da organização da notícia original.\n",
        "\n",
        "- 'image_type': Tipo do objeto de mídia classificado pelo schema, neste caso, objeto de imagem.\n",
        "\n",
        "- 'image_content_url': Logo marca da organização da notícia original.\n",
        "\n",
        "- 'language_id': Número único de identificação da lingua utilizada na reportagem original.\n",
        "\n",
        "- 'language_name': Nome da lingua utilizada na reportagem.\n",
        "\n",
        "- 'language_code': Representação do nome da língua pelas três primeiras letras."
      ]
    },
    {
      "cell_type": "markdown",
      "metadata": {
        "id": "28anfeioIeGu"
      },
      "source": [
        "**Descobrindo o que significa: Criando o dicionário**\n",
        "\n",
        "- *Selecionamos colunas específicas em ingles (pra facilitar o entendimento do site original) e analisamos as informações das colunas*"
      ]
    },
    {
      "cell_type": "code",
      "metadata": {
        "colab": {
          "base_uri": "https://localhost:8080/"
        },
        "id": "7E9qKVQa74N1",
        "outputId": "5785461a-7907-4978-dc52-a7aba4ed63a8"
      },
      "source": [
        "files[files['language_code'] == 'eng'].iloc[0]"
      ],
      "execution_count": null,
      "outputs": [
        {
          "output_type": "execute_result",
          "data": {
            "text/plain": [
              "Unnamed: 0                                                           1\n",
              "claims_id                                                 /claims/1000\n",
              "claim_published                              2019-09-26T00:00:00+00:00\n",
              "first_appearance                                   /news_articles/1835\n",
              "review_id                                          /claim_reviews/1000\n",
              "is_part_of                                                 /issues/166\n",
              "claim_reviewed       Regardless who was behind the recent attack on...\n",
              "review_published                             2019-09-27T00:00:00+00:00\n",
              "review_name          The US benefits from the attack on the Saudi o...\n",
              "html_text            <p>No evidence is provided to support the clai...\n",
              "text                 No evidence is provided to support the claim. ...\n",
              "issue_id                                                   /issues/166\n",
              "keyword_id            ['/keywords/4', '/keywords/10', '/keywords/111']\n",
              "keyword_name               ['Conspiracy', 'Terrorism', 'Donald Trump']\n",
              "country_id           ['/countries/2', '/countries/3', '/countries/58']\n",
              "country_name                 ['Iran', 'United States', 'Saudi Arabia']\n",
              "appearances                                        /news_articles/1835\n",
              "has_parts            ['/claims/934', '/claims/941', '/claims/942', ...\n",
              "creative_work_id                                   /news_articles/1835\n",
              "type                                     http://schema.org/NewsArticle\n",
              "url                  https://southfront.org/who-really-benefits-fro...\n",
              "author                                              /organizations/205\n",
              "claim                                                     /claims/1000\n",
              "web_archive_url      https://web.archive.org/web/20190927121413/htt...\n",
              "abstract                                                           NaN\n",
              "in_language                                               /languages/7\n",
              "start_time                                                         NaN\n",
              "end_time                                                           NaN\n",
              "organization_id                                     /organizations/205\n",
              "location                                                           NaN\n",
              "organization_name                                       southfront.org\n",
              "image_id                                                           NaN\n",
              "image_type                                                         NaN\n",
              "image_content_url                                                  NaN\n",
              "language_id                                               /languages/7\n",
              "language_name                                                  English\n",
              "language_code                                                      eng\n",
              "Name: 1, dtype: object"
            ]
          },
          "metadata": {
            "tags": []
          },
          "execution_count": 322
        }
      ]
    },
    {
      "cell_type": "markdown",
      "metadata": {
        "id": "0kmuauutU9H9"
      },
      "source": [
        "- *Acessamos a url da notícia original*"
      ]
    },
    {
      "cell_type": "markdown",
      "metadata": {
        "id": "uCC9JGBJKmIE"
      },
      "source": [
        "- *Acessamos também a avaliação da FakeNews no site da EU vs Desinfo, pesquisando por data e palavra chave diretamente no site, chegamos no  [link](https://euvsdisinfo.eu/report/the-us-benefits-from-the-attack-on-the-saudi-oil-facility) referente a notícia.*"
      ]
    },
    {
      "cell_type": "markdown",
      "metadata": {
        "id": "jbjimcl6TxE1"
      },
      "source": [
        "##**Organizando os dados**\n",
        "\n",
        "Como podemos perceber no **dicionário dos dados do dataset original**, a coluna 'Unnamed: 0' não é necessária pois trata-se de uma coluna com os indexes do CSV na transformação deste arquivo pra um DataFrame. \n",
        "Existem também, colunas com informações repetidas e, para facilitar o mapeamento, destacamos as que se repetem por tópicos de colunas iguais:\n",
        "\n",
        "- is_part_of -  inssue_id\n",
        "\n",
        "- appearances - creative_work_ID - fist apparence\n",
        "\n",
        "- claim - claim_ID\n",
        "\n",
        "- in_language - language_id\n",
        "\n",
        "- organization_id - author\n",
        "\n",
        "- html_text - text\n",
        "\n",
        "Diante deste problema, vamos eliminar colunas duplicadas e inúteis. Mas vamos também melhorar a identificação dos dados do nosso DataFrame renomeando todas as colunas com uma melhor escolha semântica.\n",
        "\n"
      ]
    },
    {
      "cell_type": "code",
      "metadata": {
        "id": "vtZmDrIrKhyU"
      },
      "source": [
        "del_cols = ['is_part_of', 'appearances', 'creative_work_id', 'claim', 'in_language', 'Unnamed: 0', 'html_text']\n",
        "files.drop(del_cols, axis = 1, inplace = True)"
      ],
      "execution_count": null,
      "outputs": []
    },
    {
      "cell_type": "code",
      "metadata": {
        "id": "A7jrlXXiJJYK",
        "colab": {
          "base_uri": "https://localhost:8080/",
          "height": 547
        },
        "outputId": "5281b66d-d548-4474-ce0b-91f44369fa0c"
      },
      "source": [
        "files.head()"
      ],
      "execution_count": null,
      "outputs": [
        {
          "output_type": "execute_result",
          "data": {
            "text/html": [
              "<div>\n",
              "<style scoped>\n",
              "    .dataframe tbody tr th:only-of-type {\n",
              "        vertical-align: middle;\n",
              "    }\n",
              "\n",
              "    .dataframe tbody tr th {\n",
              "        vertical-align: top;\n",
              "    }\n",
              "\n",
              "    .dataframe thead th {\n",
              "        text-align: right;\n",
              "    }\n",
              "</style>\n",
              "<table border=\"1\" class=\"dataframe\">\n",
              "  <thead>\n",
              "    <tr style=\"text-align: right;\">\n",
              "      <th></th>\n",
              "      <th>claims_id</th>\n",
              "      <th>claim_published</th>\n",
              "      <th>first_appearance</th>\n",
              "      <th>review_id</th>\n",
              "      <th>claim_reviewed</th>\n",
              "      <th>review_published</th>\n",
              "      <th>review_name</th>\n",
              "      <th>text</th>\n",
              "      <th>issue_id</th>\n",
              "      <th>keyword_id</th>\n",
              "      <th>keyword_name</th>\n",
              "      <th>country_id</th>\n",
              "      <th>country_name</th>\n",
              "      <th>has_parts</th>\n",
              "      <th>type</th>\n",
              "      <th>url</th>\n",
              "      <th>author</th>\n",
              "      <th>web_archive_url</th>\n",
              "      <th>abstract</th>\n",
              "      <th>start_time</th>\n",
              "      <th>end_time</th>\n",
              "      <th>organization_id</th>\n",
              "      <th>location</th>\n",
              "      <th>organization_name</th>\n",
              "      <th>image_id</th>\n",
              "      <th>image_type</th>\n",
              "      <th>image_content_url</th>\n",
              "      <th>language_id</th>\n",
              "      <th>language_name</th>\n",
              "      <th>language_code</th>\n",
              "    </tr>\n",
              "  </thead>\n",
              "  <tbody>\n",
              "    <tr>\n",
              "      <th>0</th>\n",
              "      <td>/claims/100</td>\n",
              "      <td>2019-12-13T00:00:00+00:00</td>\n",
              "      <td>/news_articles/598</td>\n",
              "      <td>/claim_reviews/100</td>\n",
              "      <td>Ukraine has put itself in a situation when ext...</td>\n",
              "      <td>2019-12-16T00:00:00+00:00</td>\n",
              "      <td>Normandy summit results: the EU plays on Russi...</td>\n",
              "      <td>This article misrepresents the actual German a...</td>\n",
              "      <td>/issues/177</td>\n",
              "      <td>['/keywords/61', '/keywords/76', '/keywords/77...</td>\n",
              "      <td>['Abandoned Ukraine', 'Angela Merkel', 'Emmanu...</td>\n",
              "      <td>['/countries/4', '/countries/9', '/countries/1...</td>\n",
              "      <td>['Russia', 'Ukraine', 'The West', 'EU', 'Germa...</td>\n",
              "      <td>['/claims/75', '/claims/79', '/claims/80', '/c...</td>\n",
              "      <td>http://schema.org/NewsArticle</td>\n",
              "      <td>https://sputnik.by/columnists/20191213/1043442...</td>\n",
              "      <td>/organizations/262</td>\n",
              "      <td>https://web.archive.org/web/20191213153206/htt...</td>\n",
              "      <td>На нынешней же встрече Зеленский (который, кст...</td>\n",
              "      <td>NaN</td>\n",
              "      <td>NaN</td>\n",
              "      <td>/organizations/262</td>\n",
              "      <td>/countries/55</td>\n",
              "      <td>sputnik.by // lifenews.ru</td>\n",
              "      <td>/image_objects/23</td>\n",
              "      <td>http://schema.org/ImageObject</td>\n",
              "      <td>https://api.veedoo.io/images/5e3150bc27830_2fd...</td>\n",
              "      <td>/languages/3</td>\n",
              "      <td>Russian</td>\n",
              "      <td>rus</td>\n",
              "    </tr>\n",
              "    <tr>\n",
              "      <th>1</th>\n",
              "      <td>/claims/1000</td>\n",
              "      <td>2019-09-26T00:00:00+00:00</td>\n",
              "      <td>/news_articles/1835</td>\n",
              "      <td>/claim_reviews/1000</td>\n",
              "      <td>Regardless who was behind the recent attack on...</td>\n",
              "      <td>2019-09-27T00:00:00+00:00</td>\n",
              "      <td>The US benefits from the attack on the Saudi o...</td>\n",
              "      <td>No evidence is provided to support the claim. ...</td>\n",
              "      <td>/issues/166</td>\n",
              "      <td>['/keywords/4', '/keywords/10', '/keywords/111']</td>\n",
              "      <td>['Conspiracy', 'Terrorism', 'Donald Trump']</td>\n",
              "      <td>['/countries/2', '/countries/3', '/countries/58']</td>\n",
              "      <td>['Iran', 'United States', 'Saudi Arabia']</td>\n",
              "      <td>['/claims/934', '/claims/941', '/claims/942', ...</td>\n",
              "      <td>http://schema.org/NewsArticle</td>\n",
              "      <td>https://southfront.org/who-really-benefits-fro...</td>\n",
              "      <td>/organizations/205</td>\n",
              "      <td>https://web.archive.org/web/20190927121413/htt...</td>\n",
              "      <td>NaN</td>\n",
              "      <td>NaN</td>\n",
              "      <td>NaN</td>\n",
              "      <td>/organizations/205</td>\n",
              "      <td>NaN</td>\n",
              "      <td>southfront.org</td>\n",
              "      <td>NaN</td>\n",
              "      <td>NaN</td>\n",
              "      <td>NaN</td>\n",
              "      <td>/languages/7</td>\n",
              "      <td>English</td>\n",
              "      <td>eng</td>\n",
              "    </tr>\n",
              "    <tr>\n",
              "      <th>2</th>\n",
              "      <td>/claims/1002</td>\n",
              "      <td>2019-09-23T00:00:00+00:00</td>\n",
              "      <td>/media_objects/1837</td>\n",
              "      <td>/claim_reviews/1002</td>\n",
              "      <td>Pilsudski is a historical figure, who establis...</td>\n",
              "      <td>2019-09-27T00:00:00+00:00</td>\n",
              "      <td>The Polish Legions of Pilsudski organized the ...</td>\n",
              "      <td>This message is a part of the Kremlin’s policy...</td>\n",
              "      <td>/issues/166</td>\n",
              "      <td>['/keywords/36', '/keywords/40', '/keywords/42...</td>\n",
              "      <td>['Genocide', 'WWII', 'Historical revisionism',...</td>\n",
              "      <td>['/countries/9', '/countries/24']</td>\n",
              "      <td>['Ukraine', 'Poland']</td>\n",
              "      <td>['/claims/934', '/claims/941', '/claims/942', ...</td>\n",
              "      <td>http://schema.org/MediaObject</td>\n",
              "      <td>https://youtube.com/watch?v=9wvNBUNML3Q&amp;t=250</td>\n",
              "      <td>/organizations/122</td>\n",
              "      <td>https://web.archive.org/web/20190927133752/htt...</td>\n",
              "      <td>Пилсудский фигура историческая, создавшая перв...</td>\n",
              "      <td>250.0</td>\n",
              "      <td>262.0</td>\n",
              "      <td>/organizations/122</td>\n",
              "      <td>/countries/4</td>\n",
              "      <td>Rossia 24</td>\n",
              "      <td>/image_objects/10</td>\n",
              "      <td>http://schema.org/ImageObject</td>\n",
              "      <td>https://api.veedoo.io/images/5e313449bca43_Ros...</td>\n",
              "      <td>/languages/3</td>\n",
              "      <td>Russian</td>\n",
              "      <td>rus</td>\n",
              "    </tr>\n",
              "    <tr>\n",
              "      <th>3</th>\n",
              "      <td>/claims/1003</td>\n",
              "      <td>2019-09-27T00:00:00+00:00</td>\n",
              "      <td>/media_objects/1838</td>\n",
              "      <td>/claim_reviews/1003</td>\n",
              "      <td>Washington (and to a large degree Brussels) ar...</td>\n",
              "      <td>2019-09-27T00:00:00+00:00</td>\n",
              "      <td>The West might use the Eastern Europeans as ca...</td>\n",
              "      <td>Conspiracy theory, presented without evidence....</td>\n",
              "      <td>/issues/166</td>\n",
              "      <td>['/keywords/20', '/keywords/107', '/keywords/2...</td>\n",
              "      <td>['Russophobia', 'Encircling Russia', 'Operatio...</td>\n",
              "      <td>['/countries/3', '/countries/11', '/countries/...</td>\n",
              "      <td>['United States', 'The West', 'Czech Republic'...</td>\n",
              "      <td>['/claims/934', '/claims/941', '/claims/942', ...</td>\n",
              "      <td>http://schema.org/MediaObject</td>\n",
              "      <td>https://www.fort-russ.com/2019/09/debunking-li...</td>\n",
              "      <td>/organizations/461</td>\n",
              "      <td>NaN</td>\n",
              "      <td>NaN</td>\n",
              "      <td>NaN</td>\n",
              "      <td>NaN</td>\n",
              "      <td>/organizations/461</td>\n",
              "      <td>NaN</td>\n",
              "      <td>fort-russ.com</td>\n",
              "      <td>NaN</td>\n",
              "      <td>NaN</td>\n",
              "      <td>NaN</td>\n",
              "      <td>/languages/7</td>\n",
              "      <td>English</td>\n",
              "      <td>eng</td>\n",
              "    </tr>\n",
              "    <tr>\n",
              "      <th>4</th>\n",
              "      <td>/claims/1004</td>\n",
              "      <td>2019-09-25T00:00:00+00:00</td>\n",
              "      <td>/news_articles/1839</td>\n",
              "      <td>/claim_reviews/1004</td>\n",
              "      <td>The beneficiary of the resolution of the Europ...</td>\n",
              "      <td>2019-09-27T00:00:00+00:00</td>\n",
              "      <td>The resolution of the European Parliament reli...</td>\n",
              "      <td>This message is part of the Kremlin’s policy o...</td>\n",
              "      <td>/issues/166</td>\n",
              "      <td>['/keywords/30', '/keywords/40', '/keywords/41...</td>\n",
              "      <td>['European Parliament', 'WWII', 'Adolf Hitler'...</td>\n",
              "      <td>['/countries/4', '/countries/30', '/countries/...</td>\n",
              "      <td>['Russia', 'Germany', 'Eastern Europe']</td>\n",
              "      <td>['/claims/934', '/claims/941', '/claims/942', ...</td>\n",
              "      <td>http://schema.org/NewsArticle</td>\n",
              "      <td>https://www.rubaltic.ru/article/politika-i-obs...</td>\n",
              "      <td>/organizations/335</td>\n",
              "      <td>https://web.archive.org/web/20190927092204/htt...</td>\n",
              "      <td>И в первую очередь она выгодна Германии, котор...</td>\n",
              "      <td>NaN</td>\n",
              "      <td>NaN</td>\n",
              "      <td>/organizations/335</td>\n",
              "      <td>NaN</td>\n",
              "      <td>rubaltic.ru</td>\n",
              "      <td>NaN</td>\n",
              "      <td>NaN</td>\n",
              "      <td>NaN</td>\n",
              "      <td>/languages/3</td>\n",
              "      <td>Russian</td>\n",
              "      <td>rus</td>\n",
              "    </tr>\n",
              "  </tbody>\n",
              "</table>\n",
              "</div>"
            ],
            "text/plain": [
              "      claims_id            claim_published  ... language_name language_code\n",
              "0   /claims/100  2019-12-13T00:00:00+00:00  ...       Russian           rus\n",
              "1  /claims/1000  2019-09-26T00:00:00+00:00  ...       English           eng\n",
              "2  /claims/1002  2019-09-23T00:00:00+00:00  ...       Russian           rus\n",
              "3  /claims/1003  2019-09-27T00:00:00+00:00  ...       English           eng\n",
              "4  /claims/1004  2019-09-25T00:00:00+00:00  ...       Russian           rus\n",
              "\n",
              "[5 rows x 30 columns]"
            ]
          },
          "metadata": {
            "tags": []
          },
          "execution_count": 324
        }
      ]
    },
    {
      "cell_type": "code",
      "metadata": {
        "id": "j9V9wMFDLsX_",
        "colab": {
          "base_uri": "https://localhost:8080/"
        },
        "outputId": "910d31eb-6963-4aaf-b6f0-f016e95cc360"
      },
      "source": [
        "files.columns"
      ],
      "execution_count": null,
      "outputs": [
        {
          "output_type": "execute_result",
          "data": {
            "text/plain": [
              "Index(['claims_id', 'claim_published', 'first_appearance', 'review_id',\n",
              "       'claim_reviewed', 'review_published', 'review_name', 'text', 'issue_id',\n",
              "       'keyword_id', 'keyword_name', 'country_id', 'country_name', 'has_parts',\n",
              "       'type', 'url', 'author', 'web_archive_url', 'abstract', 'start_time',\n",
              "       'end_time', 'organization_id', 'location', 'organization_name',\n",
              "       'image_id', 'image_type', 'image_content_url', 'language_id',\n",
              "       'language_name', 'language_code'],\n",
              "      dtype='object')"
            ]
          },
          "metadata": {
            "tags": []
          },
          "execution_count": 325
        }
      ]
    },
    {
      "cell_type": "markdown",
      "metadata": {
        "id": "4ebvgkLCezXm"
      },
      "source": [
        "**colunas renomeadas**\n",
        "\n",
        "- 'claims_id': Número único de identificação do alerta (Claim) de FakeNews.\n",
        "\n",
        "- 'claim_datetime': Data e hora da publicação do alerta de FakeNews.\n",
        "\n",
        "- 'claim_first': A primeira ocorrência de um alerta de FakeNews pra uma notícia.\n",
        "\n",
        "-  'review_id': Número único de identificação da avaliação da veracidade daquela notícia pelo EU vs Desinfo.\n",
        "\n",
        "- 'review_resume': Resumo da notícia original feita pelo EU vs Desinfo.\n",
        "\n",
        " 'review_datetime': Data e hora da públicação da avaliação da veracidade da notícia, ou seja, se ela é ou não fake news.\n",
        "\n",
        "- 'review_title': Título da avaliação de Fake News.\n",
        "\n",
        "- 'review_conclusion_html': Conclusão da acusação de fake news feita pelo EU vs Desinfo ainda em formato html.\n",
        "\n",
        "- 'review_conclusion': Conclusão da acusação de fake news feita pelo EU vs Desinfo.\n",
        "\n",
        "- 'issue_id': Número único de identificação da 'Issue'.\n",
        "\n",
        "- 'news_keyword_id': Número único de identificação de palavras-chave que aparecem nas notícias originais.\n",
        "\n",
        "- 'news_keyword_name': Nomes das palavras-chave que aparecem nas notícias originais.\n",
        "\n",
        "-'news_countrys_id': Número único de identificação dos países que são mensionados nas notícias originais.\n",
        "\n",
        "- 'news_countrys_name': Nome dos países que são mensionados nas notícias originais.\n",
        "\n",
        "- 'claims_total': Número único de identificação (id) de alertas de FakeNews feitas para aquela notícia.\n",
        "\n",
        "- 'news_type': Tipo do conteúdo que foi avaliado pelo US vs Definfo, temos avaliações de [artigos](http://schema.org/NewsArticle) e [mídia](https://schema.org/MediaObject).\n",
        "\n",
        "- 'news_url': Endereço web referente a cada notícia original.\n",
        "\n",
        "- 'news_organization_id': Número unico de identificação da instituição que produziu a notícia original.\n",
        "\n",
        "- 'news_url_archive': Arquivo salvo (html) da página web da notícia original.\n",
        "\n",
        "- 'news_part': Trecho aleatório da notícia original.\n",
        "\n",
        "- 'review_start_time'\n",
        "\n",
        "- 'review_end_time'\n",
        "\n",
        "- 'news_organization_location': Número unico de identificação do país que está localizado organização que produziu a notícia original.\n",
        "\n",
        "- 'news_organization_name': Nome da instituição que produziu o conteúdo da notícia original.\n",
        "\n",
        "- 'news_logo_id': Número único de identificação da logo marca da organização da notícia original.\n",
        "\n",
        "- 'news_logo_type': Tipo do objeto de mídia classificado pelo schema, neste caso, objeto de imagem.\n",
        "\n",
        "- 'news_logo_url': Logo marca da organização da notícia original.\n",
        "\n",
        "- 'news_language_id': Número único de identificação da lingua utilizada na reportagem original.\n",
        "\n",
        "- 'news_language_name': Nome da lingua utilizada na reportagem.\n",
        "\n",
        "- 'news_language_code': Representação do nome da língua pelas três primeiras letras.\n",
        "\n"
      ]
    },
    {
      "cell_type": "code",
      "metadata": {
        "id": "wY3JMwBPe0j1"
      },
      "source": [
        "rename_columns = ['claims_id', 'claim_datetime', 'claim_first', 'review_id', 'review_resume', \n",
        "'review_datetime','review_title', 'review_conclusion','issue_id', 'news_keyword_id', 'news_keyword',\n",
        "'news_countrys_id', 'news_countrys', 'claims_total', 'news_type', 'news_url', 'news_organization_id', \n",
        "'news_url_archive', 'news_part','review_start_time', 'review_end_time', 'news_organization_id', \n",
        "'news_organization_location','news_organization','news_logo_id','news_logo_type', 'news_logo_url', \n",
        "'news_language_id', 'news_language', 'news_language_code']"
      ],
      "execution_count": null,
      "outputs": []
    },
    {
      "cell_type": "code",
      "metadata": {
        "id": "CgKN1SyADVle"
      },
      "source": [
        "files.columns = rename_columns"
      ],
      "execution_count": null,
      "outputs": []
    },
    {
      "cell_type": "code",
      "metadata": {
        "colab": {
          "base_uri": "https://localhost:8080/",
          "height": 301
        },
        "id": "7_E5q9zEE4N2",
        "outputId": "246a2db3-7c7e-4dff-a530-b889fe0b4e06"
      },
      "source": [
        "files.head(2)"
      ],
      "execution_count": null,
      "outputs": [
        {
          "output_type": "execute_result",
          "data": {
            "text/html": [
              "<div>\n",
              "<style scoped>\n",
              "    .dataframe tbody tr th:only-of-type {\n",
              "        vertical-align: middle;\n",
              "    }\n",
              "\n",
              "    .dataframe tbody tr th {\n",
              "        vertical-align: top;\n",
              "    }\n",
              "\n",
              "    .dataframe thead th {\n",
              "        text-align: right;\n",
              "    }\n",
              "</style>\n",
              "<table border=\"1\" class=\"dataframe\">\n",
              "  <thead>\n",
              "    <tr style=\"text-align: right;\">\n",
              "      <th></th>\n",
              "      <th>claims_id</th>\n",
              "      <th>claim_datetime</th>\n",
              "      <th>claim_first</th>\n",
              "      <th>review_id</th>\n",
              "      <th>review_resume</th>\n",
              "      <th>review_datetime</th>\n",
              "      <th>review_title</th>\n",
              "      <th>review_conclusion</th>\n",
              "      <th>issue_id</th>\n",
              "      <th>news_keyword_id</th>\n",
              "      <th>news_keyword</th>\n",
              "      <th>news_countrys_id</th>\n",
              "      <th>news_countrys</th>\n",
              "      <th>claims_total</th>\n",
              "      <th>news_type</th>\n",
              "      <th>news_url</th>\n",
              "      <th>news_organization_id</th>\n",
              "      <th>news_url_archive</th>\n",
              "      <th>news_part</th>\n",
              "      <th>review_start_time</th>\n",
              "      <th>review_end_time</th>\n",
              "      <th>news_organization_id</th>\n",
              "      <th>news_organization_location</th>\n",
              "      <th>news_organization</th>\n",
              "      <th>news_logo_id</th>\n",
              "      <th>news_logo_type</th>\n",
              "      <th>news_logo_url</th>\n",
              "      <th>news_language_id</th>\n",
              "      <th>news_language</th>\n",
              "      <th>news_language_code</th>\n",
              "    </tr>\n",
              "  </thead>\n",
              "  <tbody>\n",
              "    <tr>\n",
              "      <th>0</th>\n",
              "      <td>/claims/100</td>\n",
              "      <td>2019-12-13T00:00:00+00:00</td>\n",
              "      <td>/news_articles/598</td>\n",
              "      <td>/claim_reviews/100</td>\n",
              "      <td>Ukraine has put itself in a situation when ext...</td>\n",
              "      <td>2019-12-16T00:00:00+00:00</td>\n",
              "      <td>Normandy summit results: the EU plays on Russi...</td>\n",
              "      <td>This article misrepresents the actual German a...</td>\n",
              "      <td>/issues/177</td>\n",
              "      <td>['/keywords/61', '/keywords/76', '/keywords/77...</td>\n",
              "      <td>['Abandoned Ukraine', 'Angela Merkel', 'Emmanu...</td>\n",
              "      <td>['/countries/4', '/countries/9', '/countries/1...</td>\n",
              "      <td>['Russia', 'Ukraine', 'The West', 'EU', 'Germa...</td>\n",
              "      <td>['/claims/75', '/claims/79', '/claims/80', '/c...</td>\n",
              "      <td>http://schema.org/NewsArticle</td>\n",
              "      <td>https://sputnik.by/columnists/20191213/1043442...</td>\n",
              "      <td>/organizations/262</td>\n",
              "      <td>https://web.archive.org/web/20191213153206/htt...</td>\n",
              "      <td>На нынешней же встрече Зеленский (который, кст...</td>\n",
              "      <td>NaN</td>\n",
              "      <td>NaN</td>\n",
              "      <td>/organizations/262</td>\n",
              "      <td>/countries/55</td>\n",
              "      <td>sputnik.by // lifenews.ru</td>\n",
              "      <td>/image_objects/23</td>\n",
              "      <td>http://schema.org/ImageObject</td>\n",
              "      <td>https://api.veedoo.io/images/5e3150bc27830_2fd...</td>\n",
              "      <td>/languages/3</td>\n",
              "      <td>Russian</td>\n",
              "      <td>rus</td>\n",
              "    </tr>\n",
              "    <tr>\n",
              "      <th>1</th>\n",
              "      <td>/claims/1000</td>\n",
              "      <td>2019-09-26T00:00:00+00:00</td>\n",
              "      <td>/news_articles/1835</td>\n",
              "      <td>/claim_reviews/1000</td>\n",
              "      <td>Regardless who was behind the recent attack on...</td>\n",
              "      <td>2019-09-27T00:00:00+00:00</td>\n",
              "      <td>The US benefits from the attack on the Saudi o...</td>\n",
              "      <td>No evidence is provided to support the claim. ...</td>\n",
              "      <td>/issues/166</td>\n",
              "      <td>['/keywords/4', '/keywords/10', '/keywords/111']</td>\n",
              "      <td>['Conspiracy', 'Terrorism', 'Donald Trump']</td>\n",
              "      <td>['/countries/2', '/countries/3', '/countries/58']</td>\n",
              "      <td>['Iran', 'United States', 'Saudi Arabia']</td>\n",
              "      <td>['/claims/934', '/claims/941', '/claims/942', ...</td>\n",
              "      <td>http://schema.org/NewsArticle</td>\n",
              "      <td>https://southfront.org/who-really-benefits-fro...</td>\n",
              "      <td>/organizations/205</td>\n",
              "      <td>https://web.archive.org/web/20190927121413/htt...</td>\n",
              "      <td>NaN</td>\n",
              "      <td>NaN</td>\n",
              "      <td>NaN</td>\n",
              "      <td>/organizations/205</td>\n",
              "      <td>NaN</td>\n",
              "      <td>southfront.org</td>\n",
              "      <td>NaN</td>\n",
              "      <td>NaN</td>\n",
              "      <td>NaN</td>\n",
              "      <td>/languages/7</td>\n",
              "      <td>English</td>\n",
              "      <td>eng</td>\n",
              "    </tr>\n",
              "  </tbody>\n",
              "</table>\n",
              "</div>"
            ],
            "text/plain": [
              "      claims_id             claim_datetime  ... news_language news_language_code\n",
              "0   /claims/100  2019-12-13T00:00:00+00:00  ...       Russian                rus\n",
              "1  /claims/1000  2019-09-26T00:00:00+00:00  ...       English                eng\n",
              "\n",
              "[2 rows x 30 columns]"
            ]
          },
          "metadata": {
            "tags": []
          },
          "execution_count": 328
        }
      ]
    },
    {
      "cell_type": "markdown",
      "metadata": {
        "id": "pBCBDTDSmtmu"
      },
      "source": [
        "*Como cada entrada deste data frame é referente a revisão de um alerta de fake news de uma notícia, apenas o index para identificar cada revisão seria o suficiente, visto que os demais IDs já possuem sua coluna correspondente na tabela.\n",
        "Diante disto, vamos separar os IDs em um DF separado, caso sejam necessários em consultas futuras e dropar do dataframe total.*"
      ]
    },
    {
      "cell_type": "code",
      "metadata": {
        "id": "6RiK-4s_lUEi"
      },
      "source": [
        "id_list = []\n",
        "for column in files.columns:\n",
        "    if 'id' in column:\n",
        "      id_list.append(column)\n",
        "df_id = files[id_list]\n",
        "df_total = files.drop(columns = id_list)"
      ],
      "execution_count": null,
      "outputs": []
    },
    {
      "cell_type": "code",
      "metadata": {
        "colab": {
          "base_uri": "https://localhost:8080/"
        },
        "id": "KebNrb8OqFeU",
        "outputId": "16e60b4e-ba39-4daf-c403-f9b512e5d49b"
      },
      "source": [
        "print(f\"Colunas do df total:{df_total.columns} \\n\\n Colunas do df id: {df_id.columns}\")"
      ],
      "execution_count": null,
      "outputs": [
        {
          "output_type": "stream",
          "text": [
            "Colunas do df total:Index(['claim_datetime', 'claim_first', 'review_resume', 'review_datetime',\n",
            "       'review_title', 'review_conclusion', 'news_keyword', 'news_countrys',\n",
            "       'claims_total', 'news_type', 'news_url', 'news_url_archive',\n",
            "       'news_part', 'review_start_time', 'review_end_time',\n",
            "       'news_organization_location', 'news_organization', 'news_logo_type',\n",
            "       'news_logo_url', 'news_language', 'news_language_code'],\n",
            "      dtype='object') \n",
            "\n",
            " Colunas do df id: Index(['claims_id', 'review_id', 'issue_id', 'news_keyword_id',\n",
            "       'news_countrys_id', 'news_organization_id', 'news_organization_id',\n",
            "       'news_organization_id', 'news_organization_id', 'news_logo_id',\n",
            "       'news_language_id'],\n",
            "      dtype='object')\n"
          ],
          "name": "stdout"
        }
      ]
    },
    {
      "cell_type": "code",
      "metadata": {
        "colab": {
          "base_uri": "https://localhost:8080/",
          "height": 301
        },
        "id": "XccW5t1jwjfF",
        "outputId": "89615d16-47f6-427d-be5b-2d894d6128c2"
      },
      "source": [
        "df_total.head(2)"
      ],
      "execution_count": null,
      "outputs": [
        {
          "output_type": "execute_result",
          "data": {
            "text/html": [
              "<div>\n",
              "<style scoped>\n",
              "    .dataframe tbody tr th:only-of-type {\n",
              "        vertical-align: middle;\n",
              "    }\n",
              "\n",
              "    .dataframe tbody tr th {\n",
              "        vertical-align: top;\n",
              "    }\n",
              "\n",
              "    .dataframe thead th {\n",
              "        text-align: right;\n",
              "    }\n",
              "</style>\n",
              "<table border=\"1\" class=\"dataframe\">\n",
              "  <thead>\n",
              "    <tr style=\"text-align: right;\">\n",
              "      <th></th>\n",
              "      <th>claim_datetime</th>\n",
              "      <th>claim_first</th>\n",
              "      <th>review_resume</th>\n",
              "      <th>review_datetime</th>\n",
              "      <th>review_title</th>\n",
              "      <th>review_conclusion</th>\n",
              "      <th>news_keyword</th>\n",
              "      <th>news_countrys</th>\n",
              "      <th>claims_total</th>\n",
              "      <th>news_type</th>\n",
              "      <th>news_url</th>\n",
              "      <th>news_url_archive</th>\n",
              "      <th>news_part</th>\n",
              "      <th>review_start_time</th>\n",
              "      <th>review_end_time</th>\n",
              "      <th>news_organization_location</th>\n",
              "      <th>news_organization</th>\n",
              "      <th>news_logo_type</th>\n",
              "      <th>news_logo_url</th>\n",
              "      <th>news_language</th>\n",
              "      <th>news_language_code</th>\n",
              "    </tr>\n",
              "  </thead>\n",
              "  <tbody>\n",
              "    <tr>\n",
              "      <th>0</th>\n",
              "      <td>2019-12-13T00:00:00+00:00</td>\n",
              "      <td>/news_articles/598</td>\n",
              "      <td>Ukraine has put itself in a situation when ext...</td>\n",
              "      <td>2019-12-16T00:00:00+00:00</td>\n",
              "      <td>Normandy summit results: the EU plays on Russi...</td>\n",
              "      <td>This article misrepresents the actual German a...</td>\n",
              "      <td>['Abandoned Ukraine', 'Angela Merkel', 'Emmanu...</td>\n",
              "      <td>['Russia', 'Ukraine', 'The West', 'EU', 'Germa...</td>\n",
              "      <td>['/claims/75', '/claims/79', '/claims/80', '/c...</td>\n",
              "      <td>http://schema.org/NewsArticle</td>\n",
              "      <td>https://sputnik.by/columnists/20191213/1043442...</td>\n",
              "      <td>https://web.archive.org/web/20191213153206/htt...</td>\n",
              "      <td>На нынешней же встрече Зеленский (который, кст...</td>\n",
              "      <td>NaN</td>\n",
              "      <td>NaN</td>\n",
              "      <td>/countries/55</td>\n",
              "      <td>sputnik.by // lifenews.ru</td>\n",
              "      <td>http://schema.org/ImageObject</td>\n",
              "      <td>https://api.veedoo.io/images/5e3150bc27830_2fd...</td>\n",
              "      <td>Russian</td>\n",
              "      <td>rus</td>\n",
              "    </tr>\n",
              "    <tr>\n",
              "      <th>1</th>\n",
              "      <td>2019-09-26T00:00:00+00:00</td>\n",
              "      <td>/news_articles/1835</td>\n",
              "      <td>Regardless who was behind the recent attack on...</td>\n",
              "      <td>2019-09-27T00:00:00+00:00</td>\n",
              "      <td>The US benefits from the attack on the Saudi o...</td>\n",
              "      <td>No evidence is provided to support the claim. ...</td>\n",
              "      <td>['Conspiracy', 'Terrorism', 'Donald Trump']</td>\n",
              "      <td>['Iran', 'United States', 'Saudi Arabia']</td>\n",
              "      <td>['/claims/934', '/claims/941', '/claims/942', ...</td>\n",
              "      <td>http://schema.org/NewsArticle</td>\n",
              "      <td>https://southfront.org/who-really-benefits-fro...</td>\n",
              "      <td>https://web.archive.org/web/20190927121413/htt...</td>\n",
              "      <td>NaN</td>\n",
              "      <td>NaN</td>\n",
              "      <td>NaN</td>\n",
              "      <td>NaN</td>\n",
              "      <td>southfront.org</td>\n",
              "      <td>NaN</td>\n",
              "      <td>NaN</td>\n",
              "      <td>English</td>\n",
              "      <td>eng</td>\n",
              "    </tr>\n",
              "  </tbody>\n",
              "</table>\n",
              "</div>"
            ],
            "text/plain": [
              "              claim_datetime  ... news_language_code\n",
              "0  2019-12-13T00:00:00+00:00  ...                rus\n",
              "1  2019-09-26T00:00:00+00:00  ...                eng\n",
              "\n",
              "[2 rows x 21 columns]"
            ]
          },
          "metadata": {
            "tags": []
          },
          "execution_count": 331
        }
      ]
    },
    {
      "cell_type": "markdown",
      "metadata": {
        "id": "sbil1cNYrmou"
      },
      "source": [
        "## **Mudança de data e hora**"
      ]
    },
    {
      "cell_type": "code",
      "metadata": {
        "id": "iAnAQbh1YSOR"
      },
      "source": [
        "import numpy as np\n"
      ],
      "execution_count": null,
      "outputs": []
    },
    {
      "cell_type": "markdown",
      "metadata": {
        "id": "-U50Wf2JmV1L"
      },
      "source": [
        "Número de linhas que contém quaisquer dados, exceto os dados faltantes (NAN)"
      ]
    },
    {
      "cell_type": "code",
      "metadata": {
        "colab": {
          "base_uri": "https://localhost:8080/"
        },
        "id": "C5O8AxnzZpw5",
        "outputId": "8916c57e-d18d-43da-9ddc-30b4fd8044ad"
      },
      "source": [
        "files.count()"
      ],
      "execution_count": null,
      "outputs": [
        {
          "output_type": "execute_result",
          "data": {
            "text/plain": [
              "claims_id                     7369\n",
              "claim_datetime                7369\n",
              "claim_first                   7369\n",
              "review_id                     7369\n",
              "review_resume                 7366\n",
              "review_datetime               7369\n",
              "review_title                  7369\n",
              "review_conclusion             7369\n",
              "issue_id                      7369\n",
              "news_keyword_id               7369\n",
              "news_keyword                  7369\n",
              "news_countrys_id              7369\n",
              "news_countrys                 7369\n",
              "claims_total                  7369\n",
              "news_type                     7369\n",
              "news_url                      7369\n",
              "news_organization_id          7369\n",
              "news_url_archive              3472\n",
              "news_part                      825\n",
              "review_start_time              375\n",
              "review_end_time                375\n",
              "news_organization_id          7369\n",
              "news_organization_location    1774\n",
              "news_organization             7369\n",
              "news_logo_id                  3023\n",
              "news_logo_type                3023\n",
              "news_logo_url                 3023\n",
              "news_language_id              3219\n",
              "news_language                 3219\n",
              "news_language_code            3219\n",
              "dtype: int64"
            ]
          },
          "metadata": {
            "tags": []
          },
          "execution_count": 333
        }
      ]
    },
    {
      "cell_type": "code",
      "metadata": {
        "id": "u4qpc9W1eu2M",
        "colab": {
          "base_uri": "https://localhost:8080/",
          "height": 564
        },
        "outputId": "aeff2edc-0bff-4b45-c209-d1e0bd33835d"
      },
      "source": [
        "df_mask=files['review_end_time'] != 'NAN'\n",
        "filtered_df = files[df_mask]\n",
        "filtered_df.head()"
      ],
      "execution_count": null,
      "outputs": [
        {
          "output_type": "execute_result",
          "data": {
            "text/html": [
              "<div>\n",
              "<style scoped>\n",
              "    .dataframe tbody tr th:only-of-type {\n",
              "        vertical-align: middle;\n",
              "    }\n",
              "\n",
              "    .dataframe tbody tr th {\n",
              "        vertical-align: top;\n",
              "    }\n",
              "\n",
              "    .dataframe thead th {\n",
              "        text-align: right;\n",
              "    }\n",
              "</style>\n",
              "<table border=\"1\" class=\"dataframe\">\n",
              "  <thead>\n",
              "    <tr style=\"text-align: right;\">\n",
              "      <th></th>\n",
              "      <th>claims_id</th>\n",
              "      <th>claim_datetime</th>\n",
              "      <th>claim_first</th>\n",
              "      <th>review_id</th>\n",
              "      <th>review_resume</th>\n",
              "      <th>review_datetime</th>\n",
              "      <th>review_title</th>\n",
              "      <th>review_conclusion</th>\n",
              "      <th>issue_id</th>\n",
              "      <th>news_keyword_id</th>\n",
              "      <th>news_keyword</th>\n",
              "      <th>news_countrys_id</th>\n",
              "      <th>news_countrys</th>\n",
              "      <th>claims_total</th>\n",
              "      <th>news_type</th>\n",
              "      <th>news_url</th>\n",
              "      <th>news_organization_id</th>\n",
              "      <th>news_url_archive</th>\n",
              "      <th>news_part</th>\n",
              "      <th>review_start_time</th>\n",
              "      <th>review_end_time</th>\n",
              "      <th>news_organization_id</th>\n",
              "      <th>news_organization_location</th>\n",
              "      <th>news_organization</th>\n",
              "      <th>news_logo_id</th>\n",
              "      <th>news_logo_type</th>\n",
              "      <th>news_logo_url</th>\n",
              "      <th>news_language_id</th>\n",
              "      <th>news_language</th>\n",
              "      <th>news_language_code</th>\n",
              "    </tr>\n",
              "  </thead>\n",
              "  <tbody>\n",
              "    <tr>\n",
              "      <th>0</th>\n",
              "      <td>/claims/100</td>\n",
              "      <td>2019-12-13T00:00:00+00:00</td>\n",
              "      <td>/news_articles/598</td>\n",
              "      <td>/claim_reviews/100</td>\n",
              "      <td>Ukraine has put itself in a situation when ext...</td>\n",
              "      <td>2019-12-16T00:00:00+00:00</td>\n",
              "      <td>Normandy summit results: the EU plays on Russi...</td>\n",
              "      <td>This article misrepresents the actual German a...</td>\n",
              "      <td>/issues/177</td>\n",
              "      <td>['/keywords/61', '/keywords/76', '/keywords/77...</td>\n",
              "      <td>['Abandoned Ukraine', 'Angela Merkel', 'Emmanu...</td>\n",
              "      <td>['/countries/4', '/countries/9', '/countries/1...</td>\n",
              "      <td>['Russia', 'Ukraine', 'The West', 'EU', 'Germa...</td>\n",
              "      <td>['/claims/75', '/claims/79', '/claims/80', '/c...</td>\n",
              "      <td>http://schema.org/NewsArticle</td>\n",
              "      <td>https://sputnik.by/columnists/20191213/1043442...</td>\n",
              "      <td>/organizations/262</td>\n",
              "      <td>https://web.archive.org/web/20191213153206/htt...</td>\n",
              "      <td>На нынешней же встрече Зеленский (который, кст...</td>\n",
              "      <td>NaN</td>\n",
              "      <td>NaN</td>\n",
              "      <td>/organizations/262</td>\n",
              "      <td>/countries/55</td>\n",
              "      <td>sputnik.by // lifenews.ru</td>\n",
              "      <td>/image_objects/23</td>\n",
              "      <td>http://schema.org/ImageObject</td>\n",
              "      <td>https://api.veedoo.io/images/5e3150bc27830_2fd...</td>\n",
              "      <td>/languages/3</td>\n",
              "      <td>Russian</td>\n",
              "      <td>rus</td>\n",
              "    </tr>\n",
              "    <tr>\n",
              "      <th>1</th>\n",
              "      <td>/claims/1000</td>\n",
              "      <td>2019-09-26T00:00:00+00:00</td>\n",
              "      <td>/news_articles/1835</td>\n",
              "      <td>/claim_reviews/1000</td>\n",
              "      <td>Regardless who was behind the recent attack on...</td>\n",
              "      <td>2019-09-27T00:00:00+00:00</td>\n",
              "      <td>The US benefits from the attack on the Saudi o...</td>\n",
              "      <td>No evidence is provided to support the claim. ...</td>\n",
              "      <td>/issues/166</td>\n",
              "      <td>['/keywords/4', '/keywords/10', '/keywords/111']</td>\n",
              "      <td>['Conspiracy', 'Terrorism', 'Donald Trump']</td>\n",
              "      <td>['/countries/2', '/countries/3', '/countries/58']</td>\n",
              "      <td>['Iran', 'United States', 'Saudi Arabia']</td>\n",
              "      <td>['/claims/934', '/claims/941', '/claims/942', ...</td>\n",
              "      <td>http://schema.org/NewsArticle</td>\n",
              "      <td>https://southfront.org/who-really-benefits-fro...</td>\n",
              "      <td>/organizations/205</td>\n",
              "      <td>https://web.archive.org/web/20190927121413/htt...</td>\n",
              "      <td>NaN</td>\n",
              "      <td>NaN</td>\n",
              "      <td>NaN</td>\n",
              "      <td>/organizations/205</td>\n",
              "      <td>NaN</td>\n",
              "      <td>southfront.org</td>\n",
              "      <td>NaN</td>\n",
              "      <td>NaN</td>\n",
              "      <td>NaN</td>\n",
              "      <td>/languages/7</td>\n",
              "      <td>English</td>\n",
              "      <td>eng</td>\n",
              "    </tr>\n",
              "    <tr>\n",
              "      <th>2</th>\n",
              "      <td>/claims/1002</td>\n",
              "      <td>2019-09-23T00:00:00+00:00</td>\n",
              "      <td>/media_objects/1837</td>\n",
              "      <td>/claim_reviews/1002</td>\n",
              "      <td>Pilsudski is a historical figure, who establis...</td>\n",
              "      <td>2019-09-27T00:00:00+00:00</td>\n",
              "      <td>The Polish Legions of Pilsudski organized the ...</td>\n",
              "      <td>This message is a part of the Kremlin’s policy...</td>\n",
              "      <td>/issues/166</td>\n",
              "      <td>['/keywords/36', '/keywords/40', '/keywords/42...</td>\n",
              "      <td>['Genocide', 'WWII', 'Historical revisionism',...</td>\n",
              "      <td>['/countries/9', '/countries/24']</td>\n",
              "      <td>['Ukraine', 'Poland']</td>\n",
              "      <td>['/claims/934', '/claims/941', '/claims/942', ...</td>\n",
              "      <td>http://schema.org/MediaObject</td>\n",
              "      <td>https://youtube.com/watch?v=9wvNBUNML3Q&amp;t=250</td>\n",
              "      <td>/organizations/122</td>\n",
              "      <td>https://web.archive.org/web/20190927133752/htt...</td>\n",
              "      <td>Пилсудский фигура историческая, создавшая перв...</td>\n",
              "      <td>250.0</td>\n",
              "      <td>262.0</td>\n",
              "      <td>/organizations/122</td>\n",
              "      <td>/countries/4</td>\n",
              "      <td>Rossia 24</td>\n",
              "      <td>/image_objects/10</td>\n",
              "      <td>http://schema.org/ImageObject</td>\n",
              "      <td>https://api.veedoo.io/images/5e313449bca43_Ros...</td>\n",
              "      <td>/languages/3</td>\n",
              "      <td>Russian</td>\n",
              "      <td>rus</td>\n",
              "    </tr>\n",
              "    <tr>\n",
              "      <th>3</th>\n",
              "      <td>/claims/1003</td>\n",
              "      <td>2019-09-27T00:00:00+00:00</td>\n",
              "      <td>/media_objects/1838</td>\n",
              "      <td>/claim_reviews/1003</td>\n",
              "      <td>Washington (and to a large degree Brussels) ar...</td>\n",
              "      <td>2019-09-27T00:00:00+00:00</td>\n",
              "      <td>The West might use the Eastern Europeans as ca...</td>\n",
              "      <td>Conspiracy theory, presented without evidence....</td>\n",
              "      <td>/issues/166</td>\n",
              "      <td>['/keywords/20', '/keywords/107', '/keywords/2...</td>\n",
              "      <td>['Russophobia', 'Encircling Russia', 'Operatio...</td>\n",
              "      <td>['/countries/3', '/countries/11', '/countries/...</td>\n",
              "      <td>['United States', 'The West', 'Czech Republic'...</td>\n",
              "      <td>['/claims/934', '/claims/941', '/claims/942', ...</td>\n",
              "      <td>http://schema.org/MediaObject</td>\n",
              "      <td>https://www.fort-russ.com/2019/09/debunking-li...</td>\n",
              "      <td>/organizations/461</td>\n",
              "      <td>NaN</td>\n",
              "      <td>NaN</td>\n",
              "      <td>NaN</td>\n",
              "      <td>NaN</td>\n",
              "      <td>/organizations/461</td>\n",
              "      <td>NaN</td>\n",
              "      <td>fort-russ.com</td>\n",
              "      <td>NaN</td>\n",
              "      <td>NaN</td>\n",
              "      <td>NaN</td>\n",
              "      <td>/languages/7</td>\n",
              "      <td>English</td>\n",
              "      <td>eng</td>\n",
              "    </tr>\n",
              "    <tr>\n",
              "      <th>4</th>\n",
              "      <td>/claims/1004</td>\n",
              "      <td>2019-09-25T00:00:00+00:00</td>\n",
              "      <td>/news_articles/1839</td>\n",
              "      <td>/claim_reviews/1004</td>\n",
              "      <td>The beneficiary of the resolution of the Europ...</td>\n",
              "      <td>2019-09-27T00:00:00+00:00</td>\n",
              "      <td>The resolution of the European Parliament reli...</td>\n",
              "      <td>This message is part of the Kremlin’s policy o...</td>\n",
              "      <td>/issues/166</td>\n",
              "      <td>['/keywords/30', '/keywords/40', '/keywords/41...</td>\n",
              "      <td>['European Parliament', 'WWII', 'Adolf Hitler'...</td>\n",
              "      <td>['/countries/4', '/countries/30', '/countries/...</td>\n",
              "      <td>['Russia', 'Germany', 'Eastern Europe']</td>\n",
              "      <td>['/claims/934', '/claims/941', '/claims/942', ...</td>\n",
              "      <td>http://schema.org/NewsArticle</td>\n",
              "      <td>https://www.rubaltic.ru/article/politika-i-obs...</td>\n",
              "      <td>/organizations/335</td>\n",
              "      <td>https://web.archive.org/web/20190927092204/htt...</td>\n",
              "      <td>И в первую очередь она выгодна Германии, котор...</td>\n",
              "      <td>NaN</td>\n",
              "      <td>NaN</td>\n",
              "      <td>/organizations/335</td>\n",
              "      <td>NaN</td>\n",
              "      <td>rubaltic.ru</td>\n",
              "      <td>NaN</td>\n",
              "      <td>NaN</td>\n",
              "      <td>NaN</td>\n",
              "      <td>/languages/3</td>\n",
              "      <td>Russian</td>\n",
              "      <td>rus</td>\n",
              "    </tr>\n",
              "  </tbody>\n",
              "</table>\n",
              "</div>"
            ],
            "text/plain": [
              "      claims_id             claim_datetime  ... news_language news_language_code\n",
              "0   /claims/100  2019-12-13T00:00:00+00:00  ...       Russian                rus\n",
              "1  /claims/1000  2019-09-26T00:00:00+00:00  ...       English                eng\n",
              "2  /claims/1002  2019-09-23T00:00:00+00:00  ...       Russian                rus\n",
              "3  /claims/1003  2019-09-27T00:00:00+00:00  ...       English                eng\n",
              "4  /claims/1004  2019-09-25T00:00:00+00:00  ...       Russian                rus\n",
              "\n",
              "[5 rows x 30 columns]"
            ]
          },
          "metadata": {
            "tags": []
          },
          "execution_count": 334
        }
      ]
    },
    {
      "cell_type": "markdown",
      "metadata": {
        "id": "8tLM8M1S2yaG"
      },
      "source": [
        "### Exploração e conclusão:"
      ]
    },
    {
      "cell_type": "markdown",
      "metadata": {
        "id": "SrRDJeeRlXb3"
      },
      "source": [
        "####**Não dá para definir o que são as colunas review_start_time e  review_end_time, pois elas não contém datas e sim números inteiros, sendo suas colunas em sua maior partes compostas de NAN's e sua minoria compostas desses números inteiros, os quais não representam informação útil para o estudo.**"
      ]
    },
    {
      "cell_type": "code",
      "metadata": {
        "colab": {
          "base_uri": "https://localhost:8080/"
        },
        "id": "1KGlr0QbhHR3",
        "outputId": "68b33ac8-ff6d-454c-ca03-d050f1c3a4b4"
      },
      "source": [
        "files[files['claims_id'] == '/claims/1002'].iloc[0]"
      ],
      "execution_count": null,
      "outputs": [
        {
          "output_type": "execute_result",
          "data": {
            "text/plain": [
              "claims_id                                                          /claims/1002\n",
              "claim_datetime                                        2019-09-23T00:00:00+00:00\n",
              "claim_first                                                 /media_objects/1837\n",
              "review_id                                                   /claim_reviews/1002\n",
              "review_resume                 Pilsudski is a historical figure, who establis...\n",
              "review_datetime                                       2019-09-27T00:00:00+00:00\n",
              "review_title                  The Polish Legions of Pilsudski organized the ...\n",
              "review_conclusion             This message is a part of the Kremlin’s policy...\n",
              "issue_id                                                            /issues/166\n",
              "news_keyword_id               ['/keywords/36', '/keywords/40', '/keywords/42...\n",
              "news_keyword                  ['Genocide', 'WWII', 'Historical revisionism',...\n",
              "news_countrys_id                              ['/countries/9', '/countries/24']\n",
              "news_countrys                                             ['Ukraine', 'Poland']\n",
              "claims_total                  ['/claims/934', '/claims/941', '/claims/942', ...\n",
              "news_type                                         http://schema.org/MediaObject\n",
              "news_url                          https://youtube.com/watch?v=9wvNBUNML3Q&t=250\n",
              "news_organization_id                                         /organizations/122\n",
              "news_url_archive              https://web.archive.org/web/20190927133752/htt...\n",
              "news_part                     Пилсудский фигура историческая, создавшая перв...\n",
              "review_start_time                                                           250\n",
              "review_end_time                                                             262\n",
              "news_organization_id                                         /organizations/122\n",
              "news_organization_location                                         /countries/4\n",
              "news_organization                                                     Rossia 24\n",
              "news_logo_id                                                  /image_objects/10\n",
              "news_logo_type                                    http://schema.org/ImageObject\n",
              "news_logo_url                 https://api.veedoo.io/images/5e313449bca43_Ros...\n",
              "news_language_id                                                   /languages/3\n",
              "news_language                                                           Russian\n",
              "news_language_code                                                          rus\n",
              "Name: 2, dtype: object"
            ]
          },
          "metadata": {
            "tags": []
          },
          "execution_count": 335
        }
      ]
    },
    {
      "cell_type": "code",
      "metadata": {
        "colab": {
          "base_uri": "https://localhost:8080/",
          "height": 137
        },
        "id": "HlwKOR3DjipH",
        "outputId": "bfd71043-4222-4d00-95e5-65e83fa87952"
      },
      "source": [
        "files['review_conclusion'].loc[2]"
      ],
      "execution_count": null,
      "outputs": [
        {
          "output_type": "execute_result",
          "data": {
            "application/vnd.google.colaboratory.intrinsic+json": {
              "type": "string"
            },
            "text/plain": [
              "\"This message is a part of the Kremlin’s policy of\\xa0historical revisionism - this historical manipulation is an effort to falsify Polish history in general. The Volyn Tragedy is a difficult mark in Polish-Ukrainian relations, and as such it is exploited by pro-Kremlin outlets, in an attempt to deepen the divisions.\\nIn the historical aspect, the statement that the “Polish Legions organized the Volyn Tragedy” is entirely ignorant. First of all, the Polish Legions existed throughout WWI (1914-1917/1918), while the Volyn Tragedy took place during WWII (1943-1944). The Polish Legions were established by Józef Piłsudski in August 1914 on the territory of Galicia - they became a formation of the Austro-Hungarian Army. Throughout 1917, the Austrian authorities disbanded the Legions as they refused to get subordinated to the German Army. After the proclamation of restoration of Poland's sovereignty (November 11, 1918), the soldiers and officers of the Polish Legions formed the core of the Polish Army.\\nThe Volyn Tragedy took place throughout 1943-1944 when tens of thousands of Poles living in Volyn and Galicia regions were murdered or expelled by the Ukrainian militia forces. The Polish historiography presents this event as an act of genocide or a series of large-scale massacres against the Poles realized by the Ukrainian nationalists. The Ukrainian historiography presents this event as two-side ethnic cleansings taking place during the military conflict between the Polish and Ukrainian militia forces throughout WWII.\\nSee other examples of the Russian historical revisionism concerning Poland here and\\xa0here.\\n\""
            ]
          },
          "metadata": {
            "tags": []
          },
          "execution_count": 336
        }
      ]
    },
    {
      "cell_type": "code",
      "metadata": {
        "colab": {
          "base_uri": "https://localhost:8080/"
        },
        "id": "vt6j-6mIZPGA",
        "outputId": "100adc68-4620-401c-a6b4-ecae8639e763"
      },
      "source": [
        "files.isnull().sum().sort_values(ascending=False)"
      ],
      "execution_count": null,
      "outputs": [
        {
          "output_type": "execute_result",
          "data": {
            "text/plain": [
              "review_start_time             6994\n",
              "review_end_time               6994\n",
              "news_part                     6544\n",
              "news_organization_location    5595\n",
              "news_logo_url                 4346\n",
              "news_logo_type                4346\n",
              "news_logo_id                  4346\n",
              "news_language                 4150\n",
              "news_language_code            4150\n",
              "news_language_id              4150\n",
              "news_url_archive              3897\n",
              "review_resume                    3\n",
              "claim_first                      0\n",
              "news_keyword_id                  0\n",
              "claim_datetime                   0\n",
              "review_id                        0\n",
              "review_datetime                  0\n",
              "review_title                     0\n",
              "review_conclusion                0\n",
              "issue_id                         0\n",
              "news_type                        0\n",
              "news_keyword                     0\n",
              "news_countrys_id                 0\n",
              "news_countrys                    0\n",
              "claims_total                     0\n",
              "news_url                         0\n",
              "news_organization_id             0\n",
              "news_organization_id             0\n",
              "news_organization                0\n",
              "claims_id                        0\n",
              "dtype: int64"
            ]
          },
          "metadata": {
            "tags": []
          },
          "execution_count": 337
        }
      ]
    },
    {
      "cell_type": "code",
      "metadata": {
        "id": "q5yph2xUrmBm",
        "colab": {
          "base_uri": "https://localhost:8080/"
        },
        "outputId": "480f6c44-94d1-4fec-94ae-d119123555a8"
      },
      "source": [
        "files['review_end_time'].fillna(np.nan)"
      ],
      "execution_count": null,
      "outputs": [
        {
          "output_type": "execute_result",
          "data": {
            "text/plain": [
              "0         NaN\n",
              "1         NaN\n",
              "2       262.0\n",
              "3         NaN\n",
              "4         NaN\n",
              "        ...  \n",
              "7364      NaN\n",
              "7365      NaN\n",
              "7366      NaN\n",
              "7367      NaN\n",
              "7368      NaN\n",
              "Name: review_end_time, Length: 7369, dtype: float64"
            ]
          },
          "metadata": {
            "tags": []
          },
          "execution_count": 338
        }
      ]
    },
    {
      "cell_type": "code",
      "metadata": {
        "id": "5gaNYTl6rl9t",
        "colab": {
          "base_uri": "https://localhost:8080/"
        },
        "outputId": "b1f1948c-94ee-4059-8e0e-9f5d9a5a6eb1"
      },
      "source": [
        "files['review_start_time']"
      ],
      "execution_count": null,
      "outputs": [
        {
          "output_type": "execute_result",
          "data": {
            "text/plain": [
              "0         NaN\n",
              "1         NaN\n",
              "2       250.0\n",
              "3         NaN\n",
              "4         NaN\n",
              "        ...  \n",
              "7364      NaN\n",
              "7365      NaN\n",
              "7366      NaN\n",
              "7367      NaN\n",
              "7368      NaN\n",
              "Name: review_start_time, Length: 7369, dtype: float64"
            ]
          },
          "metadata": {
            "tags": []
          },
          "execution_count": 339
        }
      ]
    },
    {
      "cell_type": "markdown",
      "metadata": {
        "id": "othgKFcbJ-_Y"
      },
      "source": [
        "**Informações sobre as colunas do dataframe:** "
      ]
    },
    {
      "cell_type": "code",
      "metadata": {
        "id": "U5JSDTwAGORf",
        "colab": {
          "base_uri": "https://localhost:8080/"
        },
        "outputId": "6050bffd-5d1e-4653-f8f2-b3edda5b8a63"
      },
      "source": [
        "files.info()"
      ],
      "execution_count": null,
      "outputs": [
        {
          "output_type": "stream",
          "text": [
            "<class 'pandas.core.frame.DataFrame'>\n",
            "RangeIndex: 7369 entries, 0 to 7368\n",
            "Data columns (total 30 columns):\n",
            " #   Column                      Non-Null Count  Dtype  \n",
            "---  ------                      --------------  -----  \n",
            " 0   claims_id                   7369 non-null   object \n",
            " 1   claim_datetime              7369 non-null   object \n",
            " 2   claim_first                 7369 non-null   object \n",
            " 3   review_id                   7369 non-null   object \n",
            " 4   review_resume               7366 non-null   object \n",
            " 5   review_datetime             7369 non-null   object \n",
            " 6   review_title                7369 non-null   object \n",
            " 7   review_conclusion           7369 non-null   object \n",
            " 8   issue_id                    7369 non-null   object \n",
            " 9   news_keyword_id             7369 non-null   object \n",
            " 10  news_keyword                7369 non-null   object \n",
            " 11  news_countrys_id            7369 non-null   object \n",
            " 12  news_countrys               7369 non-null   object \n",
            " 13  claims_total                7369 non-null   object \n",
            " 14  news_type                   7369 non-null   object \n",
            " 15  news_url                    7369 non-null   object \n",
            " 16  news_organization_id        7369 non-null   object \n",
            " 17  news_url_archive            3472 non-null   object \n",
            " 18  news_part                   825 non-null    object \n",
            " 19  review_start_time           375 non-null    float64\n",
            " 20  review_end_time             375 non-null    float64\n",
            " 21  news_organization_id        7369 non-null   object \n",
            " 22  news_organization_location  1774 non-null   object \n",
            " 23  news_organization           7369 non-null   object \n",
            " 24  news_logo_id                3023 non-null   object \n",
            " 25  news_logo_type              3023 non-null   object \n",
            " 26  news_logo_url               3023 non-null   object \n",
            " 27  news_language_id            3219 non-null   object \n",
            " 28  news_language               3219 non-null   object \n",
            " 29  news_language_code          3219 non-null   object \n",
            "dtypes: float64(2), object(28)\n",
            "memory usage: 1.7+ MB\n"
          ],
          "name": "stdout"
        }
      ]
    },
    {
      "cell_type": "code",
      "metadata": {
        "colab": {
          "base_uri": "https://localhost:8080/",
          "height": 301
        },
        "id": "AKWaieiTKK61",
        "outputId": "722c3870-e60d-48bc-ea4a-13d35e66550b"
      },
      "source": [
        "files.head(2)"
      ],
      "execution_count": null,
      "outputs": [
        {
          "output_type": "execute_result",
          "data": {
            "text/html": [
              "<div>\n",
              "<style scoped>\n",
              "    .dataframe tbody tr th:only-of-type {\n",
              "        vertical-align: middle;\n",
              "    }\n",
              "\n",
              "    .dataframe tbody tr th {\n",
              "        vertical-align: top;\n",
              "    }\n",
              "\n",
              "    .dataframe thead th {\n",
              "        text-align: right;\n",
              "    }\n",
              "</style>\n",
              "<table border=\"1\" class=\"dataframe\">\n",
              "  <thead>\n",
              "    <tr style=\"text-align: right;\">\n",
              "      <th></th>\n",
              "      <th>claims_id</th>\n",
              "      <th>claim_datetime</th>\n",
              "      <th>claim_first</th>\n",
              "      <th>review_id</th>\n",
              "      <th>review_resume</th>\n",
              "      <th>review_datetime</th>\n",
              "      <th>review_title</th>\n",
              "      <th>review_conclusion</th>\n",
              "      <th>issue_id</th>\n",
              "      <th>news_keyword_id</th>\n",
              "      <th>news_keyword</th>\n",
              "      <th>news_countrys_id</th>\n",
              "      <th>news_countrys</th>\n",
              "      <th>claims_total</th>\n",
              "      <th>news_type</th>\n",
              "      <th>news_url</th>\n",
              "      <th>news_organization_id</th>\n",
              "      <th>news_url_archive</th>\n",
              "      <th>news_part</th>\n",
              "      <th>review_start_time</th>\n",
              "      <th>review_end_time</th>\n",
              "      <th>news_organization_id</th>\n",
              "      <th>news_organization_location</th>\n",
              "      <th>news_organization</th>\n",
              "      <th>news_logo_id</th>\n",
              "      <th>news_logo_type</th>\n",
              "      <th>news_logo_url</th>\n",
              "      <th>news_language_id</th>\n",
              "      <th>news_language</th>\n",
              "      <th>news_language_code</th>\n",
              "    </tr>\n",
              "  </thead>\n",
              "  <tbody>\n",
              "    <tr>\n",
              "      <th>0</th>\n",
              "      <td>/claims/100</td>\n",
              "      <td>2019-12-13T00:00:00+00:00</td>\n",
              "      <td>/news_articles/598</td>\n",
              "      <td>/claim_reviews/100</td>\n",
              "      <td>Ukraine has put itself in a situation when ext...</td>\n",
              "      <td>2019-12-16T00:00:00+00:00</td>\n",
              "      <td>Normandy summit results: the EU plays on Russi...</td>\n",
              "      <td>This article misrepresents the actual German a...</td>\n",
              "      <td>/issues/177</td>\n",
              "      <td>['/keywords/61', '/keywords/76', '/keywords/77...</td>\n",
              "      <td>['Abandoned Ukraine', 'Angela Merkel', 'Emmanu...</td>\n",
              "      <td>['/countries/4', '/countries/9', '/countries/1...</td>\n",
              "      <td>['Russia', 'Ukraine', 'The West', 'EU', 'Germa...</td>\n",
              "      <td>['/claims/75', '/claims/79', '/claims/80', '/c...</td>\n",
              "      <td>http://schema.org/NewsArticle</td>\n",
              "      <td>https://sputnik.by/columnists/20191213/1043442...</td>\n",
              "      <td>/organizations/262</td>\n",
              "      <td>https://web.archive.org/web/20191213153206/htt...</td>\n",
              "      <td>На нынешней же встрече Зеленский (который, кст...</td>\n",
              "      <td>NaN</td>\n",
              "      <td>NaN</td>\n",
              "      <td>/organizations/262</td>\n",
              "      <td>/countries/55</td>\n",
              "      <td>sputnik.by // lifenews.ru</td>\n",
              "      <td>/image_objects/23</td>\n",
              "      <td>http://schema.org/ImageObject</td>\n",
              "      <td>https://api.veedoo.io/images/5e3150bc27830_2fd...</td>\n",
              "      <td>/languages/3</td>\n",
              "      <td>Russian</td>\n",
              "      <td>rus</td>\n",
              "    </tr>\n",
              "    <tr>\n",
              "      <th>1</th>\n",
              "      <td>/claims/1000</td>\n",
              "      <td>2019-09-26T00:00:00+00:00</td>\n",
              "      <td>/news_articles/1835</td>\n",
              "      <td>/claim_reviews/1000</td>\n",
              "      <td>Regardless who was behind the recent attack on...</td>\n",
              "      <td>2019-09-27T00:00:00+00:00</td>\n",
              "      <td>The US benefits from the attack on the Saudi o...</td>\n",
              "      <td>No evidence is provided to support the claim. ...</td>\n",
              "      <td>/issues/166</td>\n",
              "      <td>['/keywords/4', '/keywords/10', '/keywords/111']</td>\n",
              "      <td>['Conspiracy', 'Terrorism', 'Donald Trump']</td>\n",
              "      <td>['/countries/2', '/countries/3', '/countries/58']</td>\n",
              "      <td>['Iran', 'United States', 'Saudi Arabia']</td>\n",
              "      <td>['/claims/934', '/claims/941', '/claims/942', ...</td>\n",
              "      <td>http://schema.org/NewsArticle</td>\n",
              "      <td>https://southfront.org/who-really-benefits-fro...</td>\n",
              "      <td>/organizations/205</td>\n",
              "      <td>https://web.archive.org/web/20190927121413/htt...</td>\n",
              "      <td>NaN</td>\n",
              "      <td>NaN</td>\n",
              "      <td>NaN</td>\n",
              "      <td>/organizations/205</td>\n",
              "      <td>NaN</td>\n",
              "      <td>southfront.org</td>\n",
              "      <td>NaN</td>\n",
              "      <td>NaN</td>\n",
              "      <td>NaN</td>\n",
              "      <td>/languages/7</td>\n",
              "      <td>English</td>\n",
              "      <td>eng</td>\n",
              "    </tr>\n",
              "  </tbody>\n",
              "</table>\n",
              "</div>"
            ],
            "text/plain": [
              "      claims_id             claim_datetime  ... news_language news_language_code\n",
              "0   /claims/100  2019-12-13T00:00:00+00:00  ...       Russian                rus\n",
              "1  /claims/1000  2019-09-26T00:00:00+00:00  ...       English                eng\n",
              "\n",
              "[2 rows x 30 columns]"
            ]
          },
          "metadata": {
            "tags": []
          },
          "execution_count": 341
        }
      ]
    },
    {
      "cell_type": "markdown",
      "metadata": {
        "id": "PgiA-IYjE0rN"
      },
      "source": [
        "## Contagem de Palavras:\n",
        "\n",
        "**Países e keywords**\n"
      ]
    },
    {
      "cell_type": "code",
      "metadata": {
        "colab": {
          "base_uri": "https://localhost:8080/"
        },
        "id": "lfcRX99sKznJ",
        "outputId": "327b4b16-9df1-47f8-efe5-84e1011f2641"
      },
      "source": [
        "files['news_countrys'].count()"
      ],
      "execution_count": null,
      "outputs": [
        {
          "output_type": "execute_result",
          "data": {
            "text/plain": [
              "7369"
            ]
          },
          "metadata": {
            "tags": []
          },
          "execution_count": 342
        }
      ]
    },
    {
      "cell_type": "code",
      "metadata": {
        "id": "ZdKMjTfirl55",
        "colab": {
          "base_uri": "https://localhost:8080/"
        },
        "outputId": "0bd026ad-7d6d-4d36-8699-aebcbafa0ecb"
      },
      "source": [
        "files['count'] = files['news_countrys'].str.split().str.len()\n",
        "files['count']"
      ],
      "execution_count": null,
      "outputs": [
        {
          "output_type": "execute_result",
          "data": {
            "text/plain": [
              "0       7\n",
              "1       5\n",
              "2       2\n",
              "3       8\n",
              "4       4\n",
              "       ..\n",
              "7364    3\n",
              "7365    3\n",
              "7366    2\n",
              "7367    2\n",
              "7368    2\n",
              "Name: count, Length: 7369, dtype: int64"
            ]
          },
          "metadata": {
            "tags": []
          },
          "execution_count": 343
        }
      ]
    },
    {
      "cell_type": "markdown",
      "metadata": {
        "id": "eK0tAsn5ihVX"
      },
      "source": [
        "## Encadeamento:"
      ]
    },
    {
      "cell_type": "markdown",
      "metadata": {
        "id": "c9mJ5gPnnF8M"
      },
      "source": [
        "* **Strings representadas por listas precisam tornar-se listas conjuntas para serem usadas no estudo.**\n",
        "* Função usada é a Eval()\n",
        "* Usando o replace para substituir as ' '"
      ]
    },
    {
      "cell_type": "code",
      "metadata": {
        "id": "5bdIkYFFhvDR"
      },
      "source": [
        "from itertools import chain"
      ],
      "execution_count": null,
      "outputs": []
    },
    {
      "cell_type": "code",
      "metadata": {
        "id": "o5sjmWlNl5TY"
      },
      "source": [
        "#files['news_countrys'] = files['news_countrys'].str.replace(\"'\", \"\")"
      ],
      "execution_count": null,
      "outputs": []
    },
    {
      "cell_type": "code",
      "metadata": {
        "id": "lIiy7hSn_Qd7"
      },
      "source": [
        "#print(files['news_countrys'].str.rstrip())"
      ],
      "execution_count": null,
      "outputs": []
    },
    {
      "cell_type": "code",
      "metadata": {
        "id": "afgVxu3Zmu1r"
      },
      "source": [
        "#files['news_keyword'] = files['news_keyword'].str.replace(\"'\", \"\")"
      ],
      "execution_count": null,
      "outputs": []
    },
    {
      "cell_type": "code",
      "metadata": {
        "id": "-2z3nG0QjApx"
      },
      "source": [
        "#files[['news_countrys', 'news_keyword']]"
      ],
      "execution_count": null,
      "outputs": []
    },
    {
      "cell_type": "code",
      "metadata": {
        "colab": {
          "base_uri": "https://localhost:8080/",
          "height": 555
        },
        "id": "p82A4Yz0hux3",
        "outputId": "094bb578-6ffb-482c-dcef-39d8e0ae1215"
      },
      "source": [
        "df_files = files[['news_countrys','news_keyword_id','news_keyword','news_countrys_id']]\n",
        "df_files"
      ],
      "execution_count": null,
      "outputs": [
        {
          "output_type": "execute_result",
          "data": {
            "text/html": [
              "<div>\n",
              "<style scoped>\n",
              "    .dataframe tbody tr th:only-of-type {\n",
              "        vertical-align: middle;\n",
              "    }\n",
              "\n",
              "    .dataframe tbody tr th {\n",
              "        vertical-align: top;\n",
              "    }\n",
              "\n",
              "    .dataframe thead th {\n",
              "        text-align: right;\n",
              "    }\n",
              "</style>\n",
              "<table border=\"1\" class=\"dataframe\">\n",
              "  <thead>\n",
              "    <tr style=\"text-align: right;\">\n",
              "      <th></th>\n",
              "      <th>news_countrys</th>\n",
              "      <th>news_keyword_id</th>\n",
              "      <th>news_keyword</th>\n",
              "      <th>news_countrys_id</th>\n",
              "    </tr>\n",
              "  </thead>\n",
              "  <tbody>\n",
              "    <tr>\n",
              "      <th>0</th>\n",
              "      <td>['Russia', 'Ukraine', 'The West', 'EU', 'Germa...</td>\n",
              "      <td>['/keywords/61', '/keywords/76', '/keywords/77...</td>\n",
              "      <td>['Abandoned Ukraine', 'Angela Merkel', 'Emmanu...</td>\n",
              "      <td>['/countries/4', '/countries/9', '/countries/1...</td>\n",
              "    </tr>\n",
              "    <tr>\n",
              "      <th>1</th>\n",
              "      <td>['Iran', 'United States', 'Saudi Arabia']</td>\n",
              "      <td>['/keywords/4', '/keywords/10', '/keywords/111']</td>\n",
              "      <td>['Conspiracy', 'Terrorism', 'Donald Trump']</td>\n",
              "      <td>['/countries/2', '/countries/3', '/countries/58']</td>\n",
              "    </tr>\n",
              "    <tr>\n",
              "      <th>2</th>\n",
              "      <td>['Ukraine', 'Poland']</td>\n",
              "      <td>['/keywords/36', '/keywords/40', '/keywords/42...</td>\n",
              "      <td>['Genocide', 'WWII', 'Historical revisionism',...</td>\n",
              "      <td>['/countries/9', '/countries/24']</td>\n",
              "    </tr>\n",
              "    <tr>\n",
              "      <th>3</th>\n",
              "      <td>['United States', 'The West', 'Czech Republic'...</td>\n",
              "      <td>['/keywords/20', '/keywords/107', '/keywords/2...</td>\n",
              "      <td>['Russophobia', 'Encircling Russia', 'Operatio...</td>\n",
              "      <td>['/countries/3', '/countries/11', '/countries/...</td>\n",
              "    </tr>\n",
              "    <tr>\n",
              "      <th>4</th>\n",
              "      <td>['Russia', 'Germany', 'Eastern Europe']</td>\n",
              "      <td>['/keywords/30', '/keywords/40', '/keywords/41...</td>\n",
              "      <td>['European Parliament', 'WWII', 'Adolf Hitler'...</td>\n",
              "      <td>['/countries/4', '/countries/30', '/countries/...</td>\n",
              "    </tr>\n",
              "    <tr>\n",
              "      <th>...</th>\n",
              "      <td>...</td>\n",
              "      <td>...</td>\n",
              "      <td>...</td>\n",
              "      <td>...</td>\n",
              "    </tr>\n",
              "    <tr>\n",
              "      <th>7364</th>\n",
              "      <td>['US', 'EU', 'Syria']</td>\n",
              "      <td>['/keywords/9', '/keywords/12', '/keywords/52'...</td>\n",
              "      <td>['Syrian War', 'Middle East', 'The West', 'Sph...</td>\n",
              "      <td>['/countries/8', '/countries/14', '/countries/...</td>\n",
              "    </tr>\n",
              "    <tr>\n",
              "      <th>7365</th>\n",
              "      <td>['Russia', 'US', 'Ukraine']</td>\n",
              "      <td>['/keywords/4', '/keywords/41', '/keywords/81'...</td>\n",
              "      <td>['Conspiracy', 'Adolf Hitler', 'Ukrainian stat...</td>\n",
              "      <td>['/countries/4', '/countries/8', '/countries/9']</td>\n",
              "    </tr>\n",
              "    <tr>\n",
              "      <th>7366</th>\n",
              "      <td>['Russia', 'EU']</td>\n",
              "      <td>['/keywords/19', '/keywords/30', '/keywords/40...</td>\n",
              "      <td>['Nazi/Fascist', 'European Parliament', 'WWII'...</td>\n",
              "      <td>['/countries/4', '/countries/14']</td>\n",
              "    </tr>\n",
              "    <tr>\n",
              "      <th>7367</th>\n",
              "      <td>['Russia', 'EU']</td>\n",
              "      <td>['/keywords/19', '/keywords/30', '/keywords/40...</td>\n",
              "      <td>['Nazi/Fascist', 'European Parliament', 'WWII'...</td>\n",
              "      <td>['/countries/4', '/countries/14']</td>\n",
              "    </tr>\n",
              "    <tr>\n",
              "      <th>7368</th>\n",
              "      <td>['Russia', 'US']</td>\n",
              "      <td>['/keywords/8', '/keywords/84']</td>\n",
              "      <td>['Islamic extremism', 'Terrorism financing']</td>\n",
              "      <td>['/countries/4', '/countries/8']</td>\n",
              "    </tr>\n",
              "  </tbody>\n",
              "</table>\n",
              "<p>7369 rows × 4 columns</p>\n",
              "</div>"
            ],
            "text/plain": [
              "                                          news_countrys  ...                                   news_countrys_id\n",
              "0     ['Russia', 'Ukraine', 'The West', 'EU', 'Germa...  ...  ['/countries/4', '/countries/9', '/countries/1...\n",
              "1             ['Iran', 'United States', 'Saudi Arabia']  ...  ['/countries/2', '/countries/3', '/countries/58']\n",
              "2                                 ['Ukraine', 'Poland']  ...                  ['/countries/9', '/countries/24']\n",
              "3     ['United States', 'The West', 'Czech Republic'...  ...  ['/countries/3', '/countries/11', '/countries/...\n",
              "4               ['Russia', 'Germany', 'Eastern Europe']  ...  ['/countries/4', '/countries/30', '/countries/...\n",
              "...                                                 ...  ...                                                ...\n",
              "7364                              ['US', 'EU', 'Syria']  ...  ['/countries/8', '/countries/14', '/countries/...\n",
              "7365                        ['Russia', 'US', 'Ukraine']  ...   ['/countries/4', '/countries/8', '/countries/9']\n",
              "7366                                   ['Russia', 'EU']  ...                  ['/countries/4', '/countries/14']\n",
              "7367                                   ['Russia', 'EU']  ...                  ['/countries/4', '/countries/14']\n",
              "7368                                   ['Russia', 'US']  ...                   ['/countries/4', '/countries/8']\n",
              "\n",
              "[7369 rows x 4 columns]"
            ]
          },
          "metadata": {
            "tags": []
          },
          "execution_count": 349
        }
      ]
    },
    {
      "cell_type": "code",
      "metadata": {
        "id": "-N6vK4p5mi7y"
      },
      "source": [
        "files['news_countrys']  = files['news_countrys'].apply(lambda x: eval(x))\n",
        "files['news_keyword_id'] = files['news_keyword_id'].apply(lambda x: eval(x))\n",
        "files['news_keyword'] = files['news_keyword'].apply(lambda x: eval(x))\n",
        "files['news_countrys_id'] = files['news_countrys_id'].apply(lambda x: eval(x))"
      ],
      "execution_count": null,
      "outputs": []
    },
    {
      "cell_type": "markdown",
      "metadata": {
        "id": "Ent6415wpxo3"
      },
      "source": [
        "## Country:"
      ]
    },
    {
      "cell_type": "code",
      "metadata": {
        "id": "6snsVwIyodGI"
      },
      "source": [
        "countries_id = list(chain(*files['news_countrys_id']))\n",
        "countries_name = list(chain(*files['news_countrys']))"
      ],
      "execution_count": null,
      "outputs": []
    },
    {
      "cell_type": "markdown",
      "metadata": {
        "id": "sVEJUBVqp6mM"
      },
      "source": [
        "## Keyword:"
      ]
    },
    {
      "cell_type": "code",
      "metadata": {
        "id": "noH8ZmThp538"
      },
      "source": [
        "keywords_id = list(chain(*files['news_keyword_id']))\n",
        "keywords_name = list(chain(*files['news_keyword']))"
      ],
      "execution_count": null,
      "outputs": []
    },
    {
      "cell_type": "markdown",
      "metadata": {
        "id": "6UmMWr0KeJYA"
      },
      "source": [
        "## Pegando os 10 primeiros países mais citados para plotar no gráfico:"
      ]
    },
    {
      "cell_type": "markdown",
      "metadata": {
        "id": "nEc-Rta-c38M"
      },
      "source": [
        "### Passo a passo para plotar os gráficos com função:\n"
      ]
    },
    {
      "cell_type": "code",
      "metadata": {
        "id": "ftEfblHx9BOR"
      },
      "source": [
        ""
      ],
      "execution_count": null,
      "outputs": []
    },
    {
      "cell_type": "code",
      "metadata": {
        "id": "LyFMJqdtMiyB"
      },
      "source": [
        "from collections import Counter\n",
        "import matplotlib\n",
        "matplotlib.style.use('ggplot')\n",
        "import matplotlib.pyplot as plt"
      ],
      "execution_count": null,
      "outputs": []
    },
    {
      "cell_type": "code",
      "metadata": {
        "id": "u3Gt6KpX62lS"
      },
      "source": [
        "countries_dict = Counter(countries_name)\n",
        "sorted(countries_dict, key=countries_dict.get)\n",
        "countries_dict\n",
        "df = pd.DataFrame.from_dict(countries_dict, orient='index')\n",
        "df.rename(columns={0: 'Count'}, inplace = True)\n",
        "df.index.name = 'Countries'\n",
        "df_count_names = df.nlargest(10, 'Count')"
      ],
      "execution_count": null,
      "outputs": []
    },
    {
      "cell_type": "code",
      "metadata": {
        "id": "xbSjeVkzDW20"
      },
      "source": [
        "def plot_grafic(df_col, name):\n",
        "\n",
        "  countries_dict = Counter(name)\n",
        "  sorted(countries_dict, key=countries_dict.get)\n",
        "  countries_dict\n",
        "  df = pd.DataFrame.from_dict(countries_dict, orient='index')\n",
        "  df.rename(columns={0: 'Count'}, inplace = True)\n",
        "  df.index.name = 'Countries'\n",
        "  df_count_names = df.nlargest(10, 'Count')\n",
        "\n",
        "  val_num = df_count_names['Count']\n",
        "  val_name = df_count_names.index\n",
        "\n",
        "  plt.figure(figsize = (12,7))\n",
        "  plt.barh(val_name, val_num, align='center',color='salmon', edgecolor = 'salmon')\n",
        "  plt.legend(labels = ['Quantidade mais recorrente'])\n",
        "  plt.title(\"FAKE NEWS\")\n",
        "  plt.xlabel('Numbers')\n",
        "  plt.ylabel('Names')\n",
        "  #plt.ylim(-1, 35)\n",
        "  #plt.xlim(10,3300)\n",
        "  #plt.ylim(-1, 48)\n",
        "  #plt.xlim(10,750)\n",
        "\n",
        "  return plt.show()"
      ],
      "execution_count": null,
      "outputs": []
    },
    {
      "cell_type": "code",
      "metadata": {
        "id": "3roPeQsnEKee",
        "colab": {
          "base_uri": "https://localhost:8080/",
          "height": 462
        },
        "outputId": "2b5a06da-ab43-475a-f118-c56c08cc93ca"
      },
      "source": [
        "plot_grafic(df_count_names['Count'], countries_name)"
      ],
      "execution_count": null,
      "outputs": [
        {
          "output_type": "display_data",
          "data": {
            "image/png": "[encoded data removed]",
            "text/plain": [
              "<Figure size 864x504 with 1 Axes>"
            ]
          },
          "metadata": {
            "tags": []
          }
        }
      ]
    },
    {
      "cell_type": "code",
      "metadata": {
        "colab": {
          "base_uri": "https://localhost:8080/",
          "height": 462
        },
        "id": "oyOJOn-uGonv",
        "outputId": "f2b4fcb0-300a-40c1-ea31-7c5030bdda0c"
      },
      "source": [
        "plot_grafic(df_count_names['Count'], keywords_name)"
      ],
      "execution_count": null,
      "outputs": [
        {
          "output_type": "display_data",
          "data": {
            "image/png": "[encoded data removed]",
            "text/plain": [
              "<Figure size 864x504 with 1 Axes>"
            ]
          },
          "metadata": {
            "tags": []
          }
        }
      ]
    },
    {
      "cell_type": "markdown",
      "metadata": {
        "id": "3g-10P9ZqR54"
      },
      "source": [
        "## **Transformar em dicionário com as chaves sendo as IDs**\n",
        "\n",
        "####obs: essa etapa não está sendo utilizada no momento"
      ]
    },
    {
      "cell_type": "markdown",
      "metadata": {
        "id": "kEBBm6wSratI"
      },
      "source": [
        "### função set evita que hajam repetições de elementos, colocando no conjunto apenas um único elemento"
      ]
    },
    {
      "cell_type": "markdown",
      "metadata": {
        "id": "wG_TQYSJuKTO"
      },
      "source": [
        "## Dicionário de países:"
      ]
    },
    {
      "cell_type": "code",
      "metadata": {
        "id": "e6dUGuzntmHL",
        "colab": {
          "base_uri": "https://localhost:8080/"
        },
        "outputId": "798356e1-10e0-49c8-bc9f-dc90b7a18d4a"
      },
      "source": [
        "dict_countries= dict([(i,[a]) for i, a in set(zip(countries_id, countries_name))])\n",
        "dict_countries"
      ],
      "execution_count": null,
      "outputs": [
        {
          "output_type": "execute_result",
          "data": {
            "text/plain": [
              "{'/countries/1': ['Qatar'],\n",
              " '/countries/10': ['West'],\n",
              " '/countries/100': ['Switzerland'],\n",
              " '/countries/101': ['Luxembourg'],\n",
              " '/countries/102': ['FYROM'],\n",
              " '/countries/103': ['Dominican Republic'],\n",
              " '/countries/104': ['Mongolia'],\n",
              " '/countries/105': ['India'],\n",
              " '/countries/106': ['South Korea'],\n",
              " '/countries/107': ['Ireland'],\n",
              " '/countries/108': ['Cyprus'],\n",
              " '/countries/109': ['CEE'],\n",
              " '/countries/11': ['The West'],\n",
              " '/countries/110': ['SEE'],\n",
              " '/countries/111': ['Chechnya'],\n",
              " '/countries/112': ['Sudan'],\n",
              " '/countries/113': ['Islam'],\n",
              " '/countries/115': ['Yemen'],\n",
              " '/countries/116': ['David Icke'],\n",
              " '/countries/117': ['Al-Qaeda'],\n",
              " '/countries/118': ['Daesh'],\n",
              " '/countries/119': ['Mali'],\n",
              " '/countries/12': ['Montenegro'],\n",
              " '/countries/13': ['Europe'],\n",
              " '/countries/14': ['EU'],\n",
              " '/countries/15': ['The Netherlands'],\n",
              " '/countries/17': ['Syria'],\n",
              " '/countries/18': ['Turkey'],\n",
              " '/countries/19': ['Italy'],\n",
              " '/countries/2': ['Iran'],\n",
              " '/countries/20': ['Estonia'],\n",
              " '/countries/21': ['North Macedonia'],\n",
              " '/countries/22': ['Serbia'],\n",
              " '/countries/23': ['Bosnia and Herzegovina'],\n",
              " '/countries/24': ['Poland'],\n",
              " '/countries/25': ['USSR'],\n",
              " '/countries/26': ['Hungary'],\n",
              " '/countries/27': ['Venezuela'],\n",
              " '/countries/28': ['Moldova'],\n",
              " '/countries/29': ['Romania'],\n",
              " '/countries/3': ['United States'],\n",
              " '/countries/30': ['Germany'],\n",
              " '/countries/31': ['China'],\n",
              " '/countries/32': ['Libya'],\n",
              " '/countries/33': ['International'],\n",
              " '/countries/34': ['Afghanistan'],\n",
              " '/countries/35': ['UK'],\n",
              " '/countries/36': ['Sweden'],\n",
              " '/countries/37': ['Finland'],\n",
              " '/countries/38': ['Yugoslavia'],\n",
              " '/countries/4': ['Russia'],\n",
              " '/countries/40': ['Brazil'],\n",
              " '/countries/41': ['Colombia'],\n",
              " '/countries/42': ['Peru'],\n",
              " '/countries/43': ['Ecuador'],\n",
              " '/countries/44': ['Honduras'],\n",
              " '/countries/45': ['Paraguay'],\n",
              " '/countries/46': ['Chile'],\n",
              " '/countries/47': ['Israel'],\n",
              " '/countries/48': ['Guatemala'],\n",
              " '/countries/49': ['Lithuania'],\n",
              " '/countries/5': ['Iraq'],\n",
              " '/countries/50': ['Latvia'],\n",
              " '/countries/51': ['Mexico'],\n",
              " '/countries/52': ['Bolivia'],\n",
              " '/countries/53': ['France'],\n",
              " '/countries/54': ['Norway'],\n",
              " '/countries/55': ['Belarus'],\n",
              " '/countries/56': ['Hong Kong'],\n",
              " '/countries/57': ['Vatican'],\n",
              " '/countries/58': ['Saudi Arabia'],\n",
              " '/countries/59': ['Denmark'],\n",
              " '/countries/6': ['Armenia'],\n",
              " '/countries/60': ['Australia'],\n",
              " '/countries/61': ['Belgium'],\n",
              " '/countries/62': ['Georgia'],\n",
              " '/countries/63': ['Middle East'],\n",
              " '/countries/64': ['Czech Republic'],\n",
              " '/countries/65': ['Slovakia'],\n",
              " '/countries/66': ['Eastern Europe'],\n",
              " '/countries/67': ['Malaysia'],\n",
              " '/countries/68': ['Greece'],\n",
              " '/countries/69': ['Central Europe'],\n",
              " '/countries/7': ['Baltic states'],\n",
              " '/countries/70': ['Azerbaijan'],\n",
              " '/countries/71': ['Bulgaria'],\n",
              " '/countries/72': ['Kosovo'],\n",
              " '/countries/73': ['CIS'],\n",
              " '/countries/74': ['Japan'],\n",
              " '/countries/75': ['Spain'],\n",
              " '/countries/76': ['Cuba'],\n",
              " '/countries/77': ['Albania'],\n",
              " '/countries/78': ['Africa'],\n",
              " '/countries/79': ['Middle East and Africa'],\n",
              " '/countries/8': ['US'],\n",
              " '/countries/80': ['Croatia'],\n",
              " '/countries/81': ['Slovenia'],\n",
              " '/countries/82': ['Congo'],\n",
              " '/countries/83': ['Kazakhstan'],\n",
              " '/countries/84': ['Kurdistan'],\n",
              " '/countries/85': ['Jordan'],\n",
              " '/countries/86': ['Canada'],\n",
              " '/countries/88': ['Portugal'],\n",
              " '/countries/89': ['Austria'],\n",
              " '/countries/9': ['Ukraine'],\n",
              " '/countries/90': ['New Zealand'],\n",
              " '/countries/91': ['Egypt'],\n",
              " '/countries/92': ['Kirgizstan'],\n",
              " '/countries/93': ['Tajikistan'],\n",
              " '/countries/94': ['Uzbekistan'],\n",
              " '/countries/95': ['Turkmenistan'],\n",
              " '/countries/96': ['North Korea'],\n",
              " '/countries/97': ['Thailand'],\n",
              " 'None': ['None']}"
            ]
          },
          "metadata": {
            "tags": []
          },
          "execution_count": 358
        }
      ]
    },
    {
      "cell_type": "markdown",
      "metadata": {
        "id": "QV_dKE-YuP_I"
      },
      "source": [
        "##Dicionário de keywords:"
      ]
    },
    {
      "cell_type": "code",
      "metadata": {
        "id": "SPyWjhfOuHnN",
        "colab": {
          "base_uri": "https://localhost:8080/"
        },
        "outputId": "95e84bd5-113a-4995-9075-53f12234462c"
      },
      "source": [
        "dict_keywords = dict([(i,[a]) for i, a in set(zip(keywords_id, keywords_name))])\n",
        "dict_keywords"
      ],
      "execution_count": null,
      "outputs": [
        {
          "output_type": "execute_result",
          "data": {
            "text/plain": [
              "{'/keywords/1': ['fake news'],\n",
              " '/keywords/10': ['Terrorism'],\n",
              " '/keywords/100': ['Euromaidan'],\n",
              " '/keywords/101': ['Coup'],\n",
              " '/keywords/102': ['Occupation'],\n",
              " '/keywords/103': ['Minsk agreements'],\n",
              " '/keywords/104': ['Kerch'],\n",
              " '/keywords/105': ['Military'],\n",
              " '/keywords/106': ['Petro Poroshenko'],\n",
              " '/keywords/107': ['Encircling Russia'],\n",
              " '/keywords/108': ['Secret elites / global elites'],\n",
              " '/keywords/109': ['George Soros'],\n",
              " '/keywords/11': ['Crimea'],\n",
              " '/keywords/110': ['false flag'],\n",
              " '/keywords/111': ['Donald Trump'],\n",
              " '/keywords/112': ['Zelimkhan Khangoshvili'],\n",
              " '/keywords/113': ['Idlib'],\n",
              " '/keywords/114': ['election meddling'],\n",
              " '/keywords/115': ['Manipulated elections/referendum'],\n",
              " '/keywords/116': ['Elections'],\n",
              " '/keywords/117': ['Robert Mueller'],\n",
              " '/keywords/118': ['Destabilising Russia'],\n",
              " '/keywords/119': ['Civil war'],\n",
              " '/keywords/12': ['Middle East'],\n",
              " '/keywords/120': ['INF Treaty'],\n",
              " '/keywords/121': ['NGO'],\n",
              " '/keywords/122': ['Referendum'],\n",
              " '/keywords/123': ['Azov sea'],\n",
              " '/keywords/124': ['Christmas'],\n",
              " '/keywords/125': ['European values'],\n",
              " '/keywords/126': ['Migration crisis'],\n",
              " '/keywords/127': ['migration'],\n",
              " '/keywords/128': ['Deep state'],\n",
              " '/keywords/129': ['Chechnya'],\n",
              " '/keywords/13': ['War crimes'],\n",
              " '/keywords/130': ['Propaganda'],\n",
              " '/keywords/131': ['Puppets'],\n",
              " '/keywords/132': ['Visa liberalisation'],\n",
              " '/keywords/133': ['Colour revolutions'],\n",
              " '/keywords/134': ['Catholic church'],\n",
              " '/keywords/135': ['LNR'],\n",
              " '/keywords/136': ['DNR'],\n",
              " '/keywords/137': ['Russian language'],\n",
              " '/keywords/138': ['Human rights'],\n",
              " '/keywords/139': ['Sergei Skripal'],\n",
              " '/keywords/14': ['Donbas'],\n",
              " '/keywords/140': ['GRU'],\n",
              " '/keywords/141': ['United Nations'],\n",
              " '/keywords/142': ['Union State of Belarus and Russia'],\n",
              " '/keywords/143': ['Russian world'],\n",
              " '/keywords/144': ['Drugs'],\n",
              " '/keywords/145': ['WWI'],\n",
              " '/keywords/146': ['Kurdistan'],\n",
              " '/keywords/147': ['Azov Battalion'],\n",
              " '/keywords/148': ['Russo-Georgian War'],\n",
              " '/keywords/149': ['Natural resources'],\n",
              " '/keywords/15': ['Orthodox Church'],\n",
              " '/keywords/150': ['Military exercise'],\n",
              " '/keywords/151': ['Donald Tusk'],\n",
              " '/keywords/152': ['Democracy'],\n",
              " '/keywords/153': ['Cold War'],\n",
              " '/keywords/154': ['Donetsk'],\n",
              " '/keywords/155': ['Budapest memorandum'],\n",
              " '/keywords/156': ['Mainstream media'],\n",
              " '/keywords/157': ['Wikileaks'],\n",
              " '/keywords/158': ['Information war'],\n",
              " '/keywords/159': ['Eurasian economic union'],\n",
              " '/keywords/16': ['War in Ukraine'],\n",
              " '/keywords/160': ['novichok'],\n",
              " '/keywords/161': ['Julian Assange'],\n",
              " '/keywords/162': ['Diplomacy with Russia'],\n",
              " '/keywords/163': ['Nord Stream 2'],\n",
              " '/keywords/164': ['economy'],\n",
              " '/keywords/165': ['Economic difficulties'],\n",
              " '/keywords/166': ['EU disintegration'],\n",
              " '/keywords/167': ['Europe'],\n",
              " '/keywords/168': ['Euro-scepticism'],\n",
              " '/keywords/169': ['Mikhail Gorbachev'],\n",
              " '/keywords/17': ['Eastern Ukraine'],\n",
              " '/keywords/170': ['Secret services'],\n",
              " '/keywords/171': ['Dmitry Peskov'],\n",
              " '/keywords/172': ['Capitalists'],\n",
              " '/keywords/173': ['Racism'],\n",
              " '/keywords/174': ['Arab Spring'],\n",
              " '/keywords/175': [\"Russia's Ministry of Defence\"],\n",
              " '/keywords/176': ['Police'],\n",
              " '/keywords/177': ['euro'],\n",
              " '/keywords/178': ['Religion'],\n",
              " '/keywords/179': ['autocephaly'],\n",
              " '/keywords/18': ['Baltic states'],\n",
              " '/keywords/180': ['Maia Sandu'],\n",
              " '/keywords/181': ['Bashar al-Assad'],\n",
              " '/keywords/182': ['Biological weapons'],\n",
              " '/keywords/183': ['Lugar Laboratory'],\n",
              " '/keywords/184': ['Eastern Partnership'],\n",
              " '/keywords/185': ['Anglo-Saxon'],\n",
              " '/keywords/186': ['Winter War'],\n",
              " '/keywords/187': ['Energy'],\n",
              " '/keywords/188': ['Jean-Claude Juncker'],\n",
              " '/keywords/189': ['European Commission'],\n",
              " '/keywords/19': ['Nazi/Fascist'],\n",
              " '/keywords/190': ['Russian expansionism'],\n",
              " '/keywords/191': ['Muslim Brotherhood'],\n",
              " '/keywords/192': ['Black Sea'],\n",
              " '/keywords/193': ['BBC'],\n",
              " '/keywords/194': ['New Cold War'],\n",
              " '/keywords/195': ['Cyber'],\n",
              " '/keywords/196': ['North Africa'],\n",
              " '/keywords/197': ['IMF'],\n",
              " '/keywords/198': ['Facebook'],\n",
              " '/keywords/199': ['Google'],\n",
              " '/keywords/2': ['Russian superiority'],\n",
              " '/keywords/20': ['Russophobia'],\n",
              " '/keywords/200': ['Amnesty International'],\n",
              " '/keywords/201': ['social media'],\n",
              " '/keywords/202': ['Greenpeace'],\n",
              " '/keywords/203': ['Hillary Clinton'],\n",
              " '/keywords/204': ['Holodomor'],\n",
              " '/keywords/205': ['Repression'],\n",
              " '/keywords/206': ['Sphere of influence'],\n",
              " '/keywords/207': ['Demography'],\n",
              " '/keywords/208': ['Internet'],\n",
              " '/keywords/209': ['FSB'],\n",
              " '/keywords/21': ['Christianity'],\n",
              " '/keywords/210': ['International Law'],\n",
              " '/keywords/211': ['OSCE'],\n",
              " '/keywords/212': ['European Defence Agency'],\n",
              " '/keywords/213': ['Junta'],\n",
              " '/keywords/214': ['Stepan Bandera'],\n",
              " '/keywords/215': ['USAID'],\n",
              " '/keywords/216': ['South Ossetia'],\n",
              " '/keywords/217': ['Dictatorship'],\n",
              " '/keywords/218': ['Moon landing'],\n",
              " '/keywords/219': ['AfD'],\n",
              " '/keywords/22': ['MH17'],\n",
              " '/keywords/220': ['Lviv'],\n",
              " '/keywords/221': ['Satanism'],\n",
              " '/keywords/222': ['Hybrid war'],\n",
              " '/keywords/223': ['Africa'],\n",
              " '/keywords/224': ['Maria Zakharova'],\n",
              " '/keywords/225': ['Missile defence system'],\n",
              " '/keywords/226': ['Refugees'],\n",
              " '/keywords/227': ['MI6'],\n",
              " '/keywords/228': ['Arctic'],\n",
              " '/keywords/229': ['Caucasus'],\n",
              " '/keywords/23': ['Nuclear issues'],\n",
              " '/keywords/230': ['Carl Bildt'],\n",
              " '/keywords/231': ['Russia Today (RT)'],\n",
              " '/keywords/232': ['yellow vests'],\n",
              " '/keywords/233': ['GDR'],\n",
              " '/keywords/234': ['Transnistria'],\n",
              " '/keywords/235': ['EU regulations'],\n",
              " '/keywords/236': ['Lithuanian military'],\n",
              " '/keywords/237': ['Islamisation'],\n",
              " '/keywords/238': ['Abu Bakr al-Baghdadi'],\n",
              " '/keywords/239': ['Khan Sheikhoun'],\n",
              " '/keywords/24': ['Dmitry Kiselyov'],\n",
              " '/keywords/240': ['Jews'],\n",
              " '/keywords/241': ['CIS'],\n",
              " '/keywords/242': ['health'],\n",
              " '/keywords/243': ['Rothschild'],\n",
              " '/keywords/244': ['Alexander Lukashenko'],\n",
              " '/keywords/245': ['Crimean Tatars'],\n",
              " '/keywords/246': ['Joe Biden'],\n",
              " '/keywords/247': ['Queen Elizabeth II'],\n",
              " '/keywords/248': ['Democratic Party (US)'],\n",
              " '/keywords/249': ['Catalonia'],\n",
              " '/keywords/25': ['Sputnik'],\n",
              " '/keywords/250': ['Frank-Walter Steinmeier'],\n",
              " '/keywords/251': ['Mossad'],\n",
              " '/keywords/252': ['Miloš Zeman'],\n",
              " '/keywords/253': ['European army'],\n",
              " '/keywords/254': ['Jarosław Kaczynski'],\n",
              " '/keywords/255': ['Paedophilia'],\n",
              " '/keywords/256': ['Socialism'],\n",
              " '/keywords/257': ['Boris Yeltsin'],\n",
              " '/keywords/258': ['Katyn'],\n",
              " '/keywords/259': ['Joseph Goebbels'],\n",
              " '/keywords/26': ['Sanctions'],\n",
              " '/keywords/260': ['Jihad'],\n",
              " '/keywords/261': ['Andrzej Duda'],\n",
              " '/keywords/262': ['Barack Obama'],\n",
              " '/keywords/263': ['Brussels'],\n",
              " '/keywords/264': ['Ethnic Russians'],\n",
              " '/keywords/265': ['World Bank'],\n",
              " '/keywords/266': ['fake statistics'],\n",
              " '/keywords/267': ['Territorial dispute'],\n",
              " '/keywords/268': ['Karelia'],\n",
              " '/keywords/269': ['Sergey Shoigu'],\n",
              " '/keywords/27': ['DPR'],\n",
              " '/keywords/270': ['Maria Butina'],\n",
              " '/keywords/271': ['FBI'],\n",
              " '/keywords/272': ['Middle East and North Africa'],\n",
              " '/keywords/273': ['Civil Society'],\n",
              " '/keywords/274': ['Dmitry Medvedev'],\n",
              " '/keywords/275': ['Human Rights Watch'],\n",
              " '/keywords/276': ['laboratory'],\n",
              " '/keywords/277': ['Virus / bacteria threat'],\n",
              " '/keywords/278': ['European Council'],\n",
              " '/keywords/279': ['culture'],\n",
              " '/keywords/28': ['LPR'],\n",
              " '/keywords/280': ['ethnic tension'],\n",
              " '/keywords/281': ['Nobel Prize'],\n",
              " '/keywords/282': ['Rail-roads'],\n",
              " '/keywords/283': ['Hunter Biden'],\n",
              " '/keywords/284': ['children'],\n",
              " '/keywords/285': ['Neutrality'],\n",
              " '/keywords/286': ['UNHCR'],\n",
              " '/keywords/287': ['State oppression'],\n",
              " '/keywords/288': ['New World Order'],\n",
              " '/keywords/289': ['education'],\n",
              " '/keywords/29': ['Provocation'],\n",
              " '/keywords/290': ['Nagorno-Karabakh'],\n",
              " '/keywords/291': ['ECHR'],\n",
              " '/keywords/292': ['Council of Europe'],\n",
              " '/keywords/293': ['Abkhazia'],\n",
              " '/keywords/294': ['EFP'],\n",
              " '/keywords/295': ['Kurt Volker'],\n",
              " '/keywords/296': ['EU elections 2019'],\n",
              " '/keywords/297': ['Dalia Grybauskaitė'],\n",
              " '/keywords/298': ['Austria-Hungary'],\n",
              " '/keywords/299': ['Operation Barbarossa'],\n",
              " '/keywords/3': ['Western values'],\n",
              " '/keywords/30': ['European Parliament'],\n",
              " '/keywords/300': ['Asia'],\n",
              " '/keywords/301': ['humanitarian aid'],\n",
              " '/keywords/302': ['Monuments'],\n",
              " '/keywords/303': ['Stealing children'],\n",
              " '/keywords/304': ['Alexei Navalny'],\n",
              " '/keywords/305': ['Vladimir Zhirinovsky'],\n",
              " '/keywords/306': ['G7'],\n",
              " '/keywords/307': ['Microsoft'],\n",
              " '/keywords/308': ['Forest Brothers'],\n",
              " '/keywords/309': ['Odessa'],\n",
              " '/keywords/31': ['EU/NATO enlargement'],\n",
              " '/keywords/310': ['Kharkiv'],\n",
              " '/keywords/311': ['Sergei Gavrilov'],\n",
              " '/keywords/312': ['Mikheil Saakashvili'],\n",
              " '/keywords/313': ['9/11'],\n",
              " '/keywords/314': ['Chernobyl'],\n",
              " '/keywords/315': ['Boris Johnson'],\n",
              " '/keywords/316': ['Notre Dame'],\n",
              " '/keywords/317': ['Siberia'],\n",
              " '/keywords/318': ['Holocaust'],\n",
              " '/keywords/32': ['CIA'],\n",
              " '/keywords/320': ['Benjamin Netanyahu'],\n",
              " '/keywords/321': ['YouTube'],\n",
              " '/keywords/322': ['Twitter'],\n",
              " '/keywords/323': ['United States of Europe'],\n",
              " '/keywords/324': ['Greenland purchase'],\n",
              " '/keywords/325': ['Sexual assault'],\n",
              " '/keywords/326': ['Ursula von der Leyen'],\n",
              " '/keywords/327': ['Nicolas Maduro'],\n",
              " '/keywords/328': ['Baltic sea'],\n",
              " '/keywords/329': ['Nikolay Patrushev'],\n",
              " '/keywords/33': ['Western Balkans'],\n",
              " '/keywords/330': ['John McCain'],\n",
              " '/keywords/331': ['Theresa May'],\n",
              " '/keywords/332': ['Schengen'],\n",
              " '/keywords/333': ['Radiation'],\n",
              " '/keywords/334': ['experiments'],\n",
              " '/keywords/335': ['Diseases'],\n",
              " '/keywords/336': ['WHO'],\n",
              " '/keywords/337': ['Viktor Orban'],\n",
              " '/keywords/338': ['Foreign mercenaries'],\n",
              " '/keywords/339': ['Alexander Hug'],\n",
              " '/keywords/34': ['Kosovo'],\n",
              " '/keywords/340': ['Mediterranean Sea'],\n",
              " '/keywords/341': ['Patriarch Filaret'],\n",
              " '/keywords/342': ['The New York Times'],\n",
              " '/keywords/343': ['G20'],\n",
              " '/keywords/344': ['Belt and Road Initiative'],\n",
              " '/keywords/345': ['Nathalie Loiseau'],\n",
              " '/keywords/346': ['AA/DCFTA'],\n",
              " '/keywords/347': ['Kherson'],\n",
              " '/keywords/348': ['Perversion'],\n",
              " '/keywords/349': ['Rosatom'],\n",
              " '/keywords/35': ['Bosnia war'],\n",
              " '/keywords/350': ['Big business'],\n",
              " '/keywords/351': ['ICJ'],\n",
              " '/keywords/352': ['Heinz-Christian Strache'],\n",
              " '/keywords/353': ['Sebastian Kurz'],\n",
              " '/keywords/354': ['Mediterranean'],\n",
              " '/keywords/355': ['Victoria Nuland'],\n",
              " '/keywords/356': ['legislation'],\n",
              " '/keywords/357': ['European Court of Justice'],\n",
              " '/keywords/358': ['Austria'],\n",
              " '/keywords/359': ['Odessa tragedy'],\n",
              " '/keywords/36': ['Genocide'],\n",
              " '/keywords/360': ['Vatican'],\n",
              " '/keywords/361': ['Right Sector'],\n",
              " '/keywords/362': ['Rosneft'],\n",
              " '/keywords/364': ['Novorossiya'],\n",
              " '/keywords/365': ['Zbigniew Brzezinski'],\n",
              " '/keywords/366': ['Federica Mogherini'],\n",
              " '/keywords/367': ['SBU'],\n",
              " '/keywords/368': ['Pope Francis'],\n",
              " '/keywords/369': ['Edward Snowden'],\n",
              " '/keywords/37': ['Al-Qaeda'],\n",
              " '/keywords/370': ['The Guardian'],\n",
              " '/keywords/371': ['PODEMOS'],\n",
              " '/keywords/373': ['Yulia Tymoshenko'],\n",
              " '/keywords/374': ['Aleppo'],\n",
              " '/keywords/375': ['Transcarpathia'],\n",
              " '/keywords/376': ['Alexander Litvinenko'],\n",
              " '/keywords/377': ['food'],\n",
              " '/keywords/378': ['vaccination'],\n",
              " '/keywords/379': ['Ivangorod'],\n",
              " '/keywords/38': ['Yugoslavia'],\n",
              " '/keywords/380': ['Madeleine Albright'],\n",
              " '/keywords/381': ['Global Compact for Migration'],\n",
              " '/keywords/382': ['Pavlo Klimkin'],\n",
              " '/keywords/383': ['TurkStream'],\n",
              " '/keywords/384': ['European Union'],\n",
              " '/keywords/385': ['UN'],\n",
              " '/keywords/386': ['CNN'],\n",
              " '/keywords/387': ['Eurovision'],\n",
              " '/keywords/388': ['Oleksandr Turchynov'],\n",
              " '/keywords/389': ['Andriy Parubiy'],\n",
              " '/keywords/39': ['Muslim/Islam'],\n",
              " '/keywords/390': ['Berkut'],\n",
              " '/keywords/391': ['Other'],\n",
              " '/keywords/392': ['Markus Ederer'],\n",
              " '/keywords/393': ['Marine Le Pen'],\n",
              " '/keywords/394': ['slavery'],\n",
              " '/keywords/395': ['Mikhail Khodorkovsky'],\n",
              " '/keywords/396': ['Bestiality'],\n",
              " '/keywords/397': ['Sexual harassment'],\n",
              " '/keywords/398': ['US'],\n",
              " '/keywords/399': ['Cologne assaults'],\n",
              " '/keywords/4': ['Conspiracy'],\n",
              " '/keywords/40': ['WWII'],\n",
              " '/keywords/400': ['Mark Zuckerberg'],\n",
              " '/keywords/401': ['Surveillance'],\n",
              " '/keywords/402': ['Central Asia'],\n",
              " '/keywords/403': ['Trident Juncture'],\n",
              " '/keywords/404': ['Interpol'],\n",
              " '/keywords/405': ['Frontex'],\n",
              " '/keywords/406': ['Trolls'],\n",
              " '/keywords/407': ['Badri Patarkatsishvili'],\n",
              " '/keywords/409': ['Leonid Kalashnikov'],\n",
              " '/keywords/41': ['Adolf Hitler'],\n",
              " '/keywords/410': ['Valdai Club'],\n",
              " '/keywords/411': ['Jessikka Aro'],\n",
              " '/keywords/412': ['Johan Bäckman'],\n",
              " '/keywords/413': ['Ilja Janitskin'],\n",
              " '/keywords/414': ['fake rape'],\n",
              " '/keywords/415': ['animal cruelty'],\n",
              " '/keywords/416': ['Mustafa Dzhemilev'],\n",
              " '/keywords/417': ['Milorad Dodik'],\n",
              " '/keywords/418': ['Oleg Sentsov'],\n",
              " '/keywords/419': ['Il-20'],\n",
              " '/keywords/42': ['Historical revisionism'],\n",
              " '/keywords/420': ['Gennady Onishchenko'],\n",
              " '/keywords/421': ['Igor Giorgadze'],\n",
              " '/keywords/422': ['Viktor Zolotov'],\n",
              " '/keywords/424': ['Amesbury poisoning'],\n",
              " '/keywords/426': ['Necrophilia'],\n",
              " '/keywords/427': ['Åland'],\n",
              " '/keywords/43': ['gas'],\n",
              " '/keywords/430': ['Anna Politkovskaya'],\n",
              " '/keywords/431': ['UEFA'],\n",
              " '/keywords/432': ['ethnic cleansing'],\n",
              " '/keywords/434': ['Boris Berezovsky'],\n",
              " '/keywords/435': ['World Cup'],\n",
              " '/keywords/436': ['TV Zvezda'],\n",
              " '/keywords/437': ['Andrej Babiš'],\n",
              " '/keywords/438': ['Lisa case'],\n",
              " '/keywords/439': ['Kim Jong-un'],\n",
              " '/keywords/44': ['Oligarchs'],\n",
              " '/keywords/440': ['Arkady Babchenko'],\n",
              " '/keywords/441': ['Fancy Bear'],\n",
              " '/keywords/442': ['Sharia law'],\n",
              " '/keywords/446': ['KGB'],\n",
              " '/keywords/447': ['Boris Nemtsov'],\n",
              " '/keywords/448': ['Sigmar Gabriel'],\n",
              " '/keywords/449': ['IOC'],\n",
              " '/keywords/45': ['Trade'],\n",
              " '/keywords/450': ['Igor Dodon'],\n",
              " '/keywords/453': ['Traian Băsescu'],\n",
              " '/keywords/454': ['PESCO'],\n",
              " '/keywords/455': ['October Revolution'],\n",
              " '/keywords/456': ['Timo Soini'],\n",
              " '/keywords/457': ['James Comey'],\n",
              " '/keywords/458': ['fake letter'],\n",
              " '/keywords/459': ['Osama bin Laden'],\n",
              " '/keywords/46': ['War preparation'],\n",
              " '/keywords/460': ['Hamid Karzai'],\n",
              " '/keywords/461': ['Saddam Hussein'],\n",
              " '/keywords/462': ['Slobodan Milošević'],\n",
              " '/keywords/463': ['Dilma Rousseff'],\n",
              " '/keywords/464': ['Flanders'],\n",
              " '/keywords/465': ['Russia'],\n",
              " '/keywords/466': ['Turkey'],\n",
              " '/keywords/467': ['Morgan Freeman'],\n",
              " '/keywords/468': ['SPD'],\n",
              " '/keywords/469': ['EU'],\n",
              " '/keywords/47': ['WWIII'],\n",
              " '/keywords/471': ['Al Jazeera'],\n",
              " '/keywords/472': ['Euronews'],\n",
              " '/keywords/473': ['Association Agreement'],\n",
              " '/keywords/474': ['War against Russia'],\n",
              " '/keywords/475': ['Annexation'],\n",
              " '/keywords/476': ['RT'],\n",
              " '/keywords/477': ['Soldiers'],\n",
              " '/keywords/478': ['Martin Schultz'],\n",
              " '/keywords/479': ['West'],\n",
              " '/keywords/48': ['Warmongering'],\n",
              " '/keywords/480': ['Slavic'],\n",
              " '/keywords/481': ['Das neue Europa'],\n",
              " '/keywords/482': ['Chaos'],\n",
              " '/keywords/483': ['London attacks'],\n",
              " '/keywords/484': ['Richard Coudenhove-Kalergi'],\n",
              " '/keywords/485': ['DW'],\n",
              " '/keywords/486': ['Lisbon Treaty'],\n",
              " '/keywords/487': ['ICC'],\n",
              " '/keywords/488': ['Wanna Cry'],\n",
              " '/keywords/489': ['NSA'],\n",
              " '/keywords/49': ['Viktor Yanukovych'],\n",
              " '/keywords/490': ['Aggression'],\n",
              " '/keywords/491': ['Weapons'],\n",
              " '/keywords/492': ['EEU'],\n",
              " '/keywords/493': ['Van der Bellen'],\n",
              " '/keywords/494': ['Die Welt'],\n",
              " '/keywords/495': ['Arseniy Yatsenyuk'],\n",
              " '/keywords/496': ['Paris attacks'],\n",
              " '/keywords/497': ['Front National'],\n",
              " '/keywords/498': ['Andrej Kiska'],\n",
              " '/keywords/499': ['Jehova Witnesses'],\n",
              " '/keywords/5': ['NATO'],\n",
              " '/keywords/50': ['Rule of law'],\n",
              " '/keywords/500': ['Rex Tillerson'],\n",
              " '/keywords/501': ['DCFTA/AA'],\n",
              " '/keywords/502': ['Rockefeller'],\n",
              " '/keywords/503': ['Oleg Anashenko'],\n",
              " '/keywords/504': ['Nadiya Savchenko'],\n",
              " '/keywords/505': ['Planned Parenthood'],\n",
              " '/keywords/506': ['Vitaly Churkin'],\n",
              " '/keywords/507': ['McLaren Report'],\n",
              " '/keywords/508': ['Avdiivka'],\n",
              " '/keywords/509': ['Peter Omtzigt'],\n",
              " '/keywords/51': ['Freedom of speech'],\n",
              " '/keywords/510': ['Diversion'],\n",
              " '/keywords/511': ['Walter Hallstein'],\n",
              " '/keywords/512': ['John Podesta'],\n",
              " '/keywords/513': ['Centre Against Terrorism and Hybrid Threats'],\n",
              " '/keywords/514': ['Václav Havel'],\n",
              " '/keywords/515': ['Threat'],\n",
              " '/keywords/516': ['Alexandrov choir'],\n",
              " '/keywords/517': ['The Financial Times'],\n",
              " '/keywords/518': ['SYRIZA'],\n",
              " '/keywords/519': ['António Guterres'],\n",
              " '/keywords/52': ['The West'],\n",
              " '/keywords/520': ['Anna Soroka'],\n",
              " '/keywords/521': ['Military superiority'],\n",
              " '/keywords/522': ['Arsen Pavlov (Motorola)'],\n",
              " '/keywords/523': ['Islam'],\n",
              " '/keywords/524': ['Genghis Khan'],\n",
              " '/keywords/525': ['TTIP'],\n",
              " '/keywords/526': ['Janusz Korwin-Mikke'],\n",
              " '/keywords/527': ['Bigniew Brzezinski'],\n",
              " '/keywords/528': ['GMOs'],\n",
              " '/keywords/529': ['WTO'],\n",
              " '/keywords/53': ['WADA'],\n",
              " '/keywords/530': ['Nigel Farage'],\n",
              " '/keywords/531': ['François Hollande'],\n",
              " '/keywords/532': ['Artificial state of Ukraine'],\n",
              " '/keywords/533': ['Warsaw Summit'],\n",
              " '/keywords/534': ['Dmitry Yarosh'],\n",
              " '/keywords/535': ['Brussels attacks'],\n",
              " '/keywords/536': ['Panama Papers'],\n",
              " '/keywords/537': ['Jo Cox'],\n",
              " '/keywords/538': ['Euro 2016'],\n",
              " '/keywords/539': ['Grey Wolves'],\n",
              " '/keywords/54': ['Olympics'],\n",
              " '/keywords/540': ['Geoffrey Pyatt'],\n",
              " '/keywords/541': ['Militarisation'],\n",
              " '/keywords/542': ['Tatars'],\n",
              " '/keywords/543': ['Sadiq Khan'],\n",
              " '/keywords/544': ['Yukos'],\n",
              " '/keywords/545': ['Hezbollah'],\n",
              " '/keywords/547': ['Jimmy Carter'],\n",
              " '/keywords/548': ['Pavel Usanov'],\n",
              " '/keywords/549': ['Igor Korotchenko'],\n",
              " '/keywords/55': ['USSR'],\n",
              " '/keywords/550': ['John Kerry'],\n",
              " '/keywords/552': ['Ukrainian army'],\n",
              " '/keywords/553': ['Jan Tombinski'],\n",
              " '/keywords/554': ['Sebastien Bellin'],\n",
              " '/keywords/555': ['Nicolas Sarkozy'],\n",
              " '/keywords/556': ['Radovan Karadžić'],\n",
              " '/keywords/557': ['Ivan Dovbash'],\n",
              " '/keywords/558': ['Aleksey Dovbash'],\n",
              " '/keywords/559': ['Flydubai'],\n",
              " '/keywords/56': ['LGBT'],\n",
              " '/keywords/560': ['Germanwings'],\n",
              " '/keywords/561': ['Visegrad'],\n",
              " '/keywords/562': ['Nikita Krushchev'],\n",
              " '/keywords/565': ['Tom Curley'],\n",
              " '/keywords/566': ['Natalie Jaresko'],\n",
              " '/keywords/567': ['Judge Scalia'],\n",
              " '/keywords/568': ['Alexei Kudrin'],\n",
              " '/keywords/569': [\"Ya'akov Margi\"],\n",
              " '/keywords/57': ['Ukraine'],\n",
              " '/keywords/570': ['Ban Ki-Moon'],\n",
              " '/keywords/572': ['Yegor Kvasnyuk'],\n",
              " '/keywords/573': ['Taras Shevchenko'],\n",
              " '/keywords/574': ['Leonid Reshetnikov'],\n",
              " '/keywords/575': ['Wolfgang Herles'],\n",
              " '/keywords/576': ['Flight 9268'],\n",
              " '/keywords/577': ['Davos'],\n",
              " '/keywords/578': ['Yuri Trutnev'],\n",
              " '/keywords/579': ['Bohuslav Sobotka'],\n",
              " '/keywords/58': ['Hate Speech'],\n",
              " '/keywords/580': ['Artem Sheinin'],\n",
              " '/keywords/581': ['Boris Gryzlov'],\n",
              " '/keywords/582': ['Vladislav Surkov'],\n",
              " '/keywords/583': ['Kristalina Georgieva'],\n",
              " '/keywords/584': ['PEGIDA'],\n",
              " '/keywords/585': ['Ivan Mazepa'],\n",
              " '/keywords/586': ['Leonid Kravchuk'],\n",
              " '/keywords/587': ['Boiko Borissov'],\n",
              " '/keywords/588': ['Yuri Andropov'],\n",
              " '/keywords/59': ['Organised crime'],\n",
              " '/keywords/590': ['Michael Jackson'],\n",
              " '/keywords/592': ['The Daily Telegraph'],\n",
              " '/keywords/593': ['Vlad Kolesnikov'],\n",
              " '/keywords/594': ['SU-24'],\n",
              " '/keywords/595': ['Yevhen Konoplianka'],\n",
              " '/keywords/596': ['Ashton Carter'],\n",
              " '/keywords/597': ['Eka Zguladze'],\n",
              " '/keywords/598': ['Alexander Khudilaynen'],\n",
              " '/keywords/599': ['Victor Bondarev'],\n",
              " '/keywords/6': ['Kaliningrad'],\n",
              " '/keywords/60': ['Ukrainian disintegration'],\n",
              " '/keywords/600': ['Milo Dukanovic'],\n",
              " '/keywords/601': ['Charlie Hebdo'],\n",
              " '/keywords/602': ['The Wall Street Journal'],\n",
              " '/keywords/603': ['Krasen Stancev'],\n",
              " '/keywords/604': ['Viktor Gvozd'],\n",
              " '/keywords/605': ['The Independent'],\n",
              " '/keywords/606': ['Rosen Plevneliev'],\n",
              " '/keywords/607': ['David Cameron'],\n",
              " '/keywords/608': ['Le Figaro'],\n",
              " '/keywords/61': ['Abandoned Ukraine'],\n",
              " '/keywords/62': ['Intelligence services'],\n",
              " '/keywords/63': ['Juan Guaido'],\n",
              " '/keywords/64': ['Corruption'],\n",
              " '/keywords/65': ['Anti-Russian'],\n",
              " '/keywords/66': ['Protest'],\n",
              " '/keywords/67': ['Joseph Stalin'],\n",
              " '/keywords/68': ['Molotov-Ribbentrop Pact'],\n",
              " '/keywords/69': ['Sovereignty'],\n",
              " '/keywords/7': ['Daesh'],\n",
              " '/keywords/70': ['World War 2'],\n",
              " '/keywords/71': ['Red Army'],\n",
              " '/keywords/72': ['Censorship'],\n",
              " '/keywords/73': ['Media'],\n",
              " '/keywords/74': ['Jens Stoltenberg'],\n",
              " '/keywords/75': ['Recep Tayyip Erdoğan'],\n",
              " '/keywords/76': ['Angela Merkel'],\n",
              " '/keywords/77': ['Emmanuel Macron'],\n",
              " '/keywords/78': ['US presence in Europe'],\n",
              " '/keywords/79': ['Brexit'],\n",
              " '/keywords/8': ['Islamic extremism'],\n",
              " '/keywords/80': ['Doping'],\n",
              " '/keywords/81': ['Ukrainian statehood'],\n",
              " '/keywords/82': ['Climate'],\n",
              " '/keywords/83': ['Paris Agreement'],\n",
              " '/keywords/84': ['Terrorism financing'],\n",
              " '/keywords/85': ['OPCW'],\n",
              " '/keywords/86': ['Douma'],\n",
              " '/keywords/87': ['Chemical weapons/attack'],\n",
              " '/keywords/88': ['White Helmets'],\n",
              " '/keywords/89': ['Greta Thunberg'],\n",
              " '/keywords/9': ['Syrian War'],\n",
              " '/keywords/90': ['security threat'],\n",
              " '/keywords/91': ['illegal annexation'],\n",
              " '/keywords/92': ['Sergei Magnitsky'],\n",
              " '/keywords/93': ['Bill Browder'],\n",
              " '/keywords/94': ['Imperialism/colonialism'],\n",
              " '/keywords/95': ['Anti-Semitism'],\n",
              " '/keywords/96': ['Volodymyr Zelensky'],\n",
              " '/keywords/97': ['Vladimir Putin'],\n",
              " '/keywords/98': ['Mike Pompeo'],\n",
              " '/keywords/99': ['Sergei Lavrov'],\n",
              " 'None': ['None']}"
            ]
          },
          "metadata": {
            "tags": []
          },
          "execution_count": 359
        }
      ]
    },
    {
      "cell_type": "markdown",
      "metadata": {
        "id": "B2cg7CTFulXv"
      },
      "source": [
        "## Etapa gráfica:\n",
        "\n",
        "Função Counter - contar a incidência de países.\n",
        "\n",
        "Sorted - colocar em ordem alfabética as keys."
      ]
    },
    {
      "cell_type": "code",
      "metadata": {
        "id": "pbHQyMw8pux7"
      },
      "source": [
        "keywords = Counter(keywords_name)\n",
        "sorted(keywords, key=keywords.get)\n",
        "keywords"
      ],
      "execution_count": null,
      "outputs": []
    },
    {
      "cell_type": "markdown",
      "metadata": {
        "id": "c-xo66jO3Rhx"
      },
      "source": [
        "## Próximos passos: \n",
        "\n",
        "Encontrar uma maneira de limitar numericamente a exibição das keywords;\n",
        "\n",
        "Limitar o gráfico de países, porém, por região onde estão localizados."
      ]
    },
    {
      "cell_type": "markdown",
      "metadata": {
        "id": "wVh3tSDQqILI"
      },
      "source": [
        "# **Fazer um split e retirar as stopwords:**"
      ]
    },
    {
      "cell_type": "code",
      "metadata": {
        "id": "R9-gWf4Mq1sv",
        "colab": {
          "base_uri": "https://localhost:8080/",
          "height": 202
        },
        "outputId": "be2353f3-1008-4012-f419-56501fe33d9a"
      },
      "source": [
        "files.reset_index(inplace=True)\n",
        "files.head(1)"
      ],
      "execution_count": null,
      "outputs": [
        {
          "output_type": "execute_result",
          "data": {
            "text/html": [
              "<div>\n",
              "<style scoped>\n",
              "    .dataframe tbody tr th:only-of-type {\n",
              "        vertical-align: middle;\n",
              "    }\n",
              "\n",
              "    .dataframe tbody tr th {\n",
              "        vertical-align: top;\n",
              "    }\n",
              "\n",
              "    .dataframe thead th {\n",
              "        text-align: right;\n",
              "    }\n",
              "</style>\n",
              "<table border=\"1\" class=\"dataframe\">\n",
              "  <thead>\n",
              "    <tr style=\"text-align: right;\">\n",
              "      <th></th>\n",
              "      <th>index</th>\n",
              "      <th>claims_id</th>\n",
              "      <th>claim_datetime</th>\n",
              "      <th>claim_first</th>\n",
              "      <th>review_id</th>\n",
              "      <th>review_resume</th>\n",
              "      <th>review_datetime</th>\n",
              "      <th>review_title</th>\n",
              "      <th>review_conclusion</th>\n",
              "      <th>issue_id</th>\n",
              "      <th>news_keyword_id</th>\n",
              "      <th>news_keyword</th>\n",
              "      <th>news_countrys_id</th>\n",
              "      <th>news_countrys</th>\n",
              "      <th>claims_total</th>\n",
              "      <th>news_type</th>\n",
              "      <th>news_url</th>\n",
              "      <th>news_organization_id</th>\n",
              "      <th>news_url_archive</th>\n",
              "      <th>news_part</th>\n",
              "      <th>review_start_time</th>\n",
              "      <th>review_end_time</th>\n",
              "      <th>news_organization_id</th>\n",
              "      <th>news_organization_location</th>\n",
              "      <th>news_organization</th>\n",
              "      <th>news_logo_id</th>\n",
              "      <th>news_logo_type</th>\n",
              "      <th>news_logo_url</th>\n",
              "      <th>news_language_id</th>\n",
              "      <th>news_language</th>\n",
              "      <th>news_language_code</th>\n",
              "      <th>count</th>\n",
              "    </tr>\n",
              "  </thead>\n",
              "  <tbody>\n",
              "    <tr>\n",
              "      <th>0</th>\n",
              "      <td>0</td>\n",
              "      <td>/claims/100</td>\n",
              "      <td>2019-12-13T00:00:00+00:00</td>\n",
              "      <td>/news_articles/598</td>\n",
              "      <td>/claim_reviews/100</td>\n",
              "      <td>Ukraine has put itself in a situation when ext...</td>\n",
              "      <td>2019-12-16T00:00:00+00:00</td>\n",
              "      <td>Normandy summit results: the EU plays on Russi...</td>\n",
              "      <td>This article misrepresents the actual German a...</td>\n",
              "      <td>/issues/177</td>\n",
              "      <td>[/keywords/61, /keywords/76, /keywords/77, /ke...</td>\n",
              "      <td>[Abandoned Ukraine, Angela Merkel, Emmanuel Ma...</td>\n",
              "      <td>[/countries/4, /countries/9, /countries/11, /c...</td>\n",
              "      <td>[Russia, Ukraine, The West, EU, Germany, France]</td>\n",
              "      <td>['/claims/75', '/claims/79', '/claims/80', '/c...</td>\n",
              "      <td>http://schema.org/NewsArticle</td>\n",
              "      <td>https://sputnik.by/columnists/20191213/1043442...</td>\n",
              "      <td>/organizations/262</td>\n",
              "      <td>https://web.archive.org/web/20191213153206/htt...</td>\n",
              "      <td>На нынешней же встрече Зеленский (который, кст...</td>\n",
              "      <td>NaN</td>\n",
              "      <td>NaN</td>\n",
              "      <td>/organizations/262</td>\n",
              "      <td>/countries/55</td>\n",
              "      <td>sputnik.by // lifenews.ru</td>\n",
              "      <td>/image_objects/23</td>\n",
              "      <td>http://schema.org/ImageObject</td>\n",
              "      <td>https://api.veedoo.io/images/5e3150bc27830_2fd...</td>\n",
              "      <td>/languages/3</td>\n",
              "      <td>Russian</td>\n",
              "      <td>rus</td>\n",
              "      <td>7</td>\n",
              "    </tr>\n",
              "  </tbody>\n",
              "</table>\n",
              "</div>"
            ],
            "text/plain": [
              "   index    claims_id  ... news_language_code count\n",
              "0      0  /claims/100  ...                rus     7\n",
              "\n",
              "[1 rows x 32 columns]"
            ]
          },
          "metadata": {
            "tags": []
          },
          "execution_count": 361
        }
      ]
    },
    {
      "cell_type": "code",
      "metadata": {
        "colab": {
          "base_uri": "https://localhost:8080/"
        },
        "id": "C_qhuDT4_Vmj",
        "outputId": "30682a32-d3e7-45de-f313-15cc60f4d6e6"
      },
      "source": [
        "files = files.dropna(subset=[\"review_resume\"])\n",
        "print(files)\n"
      ],
      "execution_count": null,
      "outputs": [
        {
          "output_type": "stream",
          "text": [
            "      index     claims_id  ... news_language_code count\n",
            "0         0   /claims/100  ...                rus     7\n",
            "1         1  /claims/1000  ...                eng     5\n",
            "2         2  /claims/1002  ...                rus     2\n",
            "3         3  /claims/1003  ...                eng     8\n",
            "4         4  /claims/1004  ...                rus     4\n",
            "...     ...           ...  ...                ...   ...\n",
            "7364   7364   /claims/996  ...                ger     3\n",
            "7365   7365   /claims/997  ...                blr     3\n",
            "7366   7366   /claims/998  ...                ger     2\n",
            "7367   7367   /claims/998  ...                ger     2\n",
            "7368   7368   /claims/999  ...                hun     2\n",
            "\n",
            "[7366 rows x 32 columns]\n"
          ],
          "name": "stdout"
        }
      ]
    },
    {
      "cell_type": "code",
      "metadata": {
        "colab": {
          "base_uri": "https://localhost:8080/"
        },
        "id": "SP1wWpfn_MCx",
        "outputId": "4c7a95bb-0ac8-4c1d-8091-1d957860a04e"
      },
      "source": [
        "files.review_resume.isnull().sum()"
      ],
      "execution_count": null,
      "outputs": [
        {
          "output_type": "execute_result",
          "data": {
            "text/plain": [
              "0"
            ]
          },
          "metadata": {
            "tags": []
          },
          "execution_count": 363
        }
      ]
    },
    {
      "cell_type": "code",
      "metadata": {
        "id": "kYUubN-1BY8Q"
      },
      "source": [
        "from nltk.tokenize import word_tokenize as WordTokenizer\n",
        "tokens = files['review_resume'].apply(nltk.word_tokenize)"
      ],
      "execution_count": null,
      "outputs": []
    },
    {
      "cell_type": "code",
      "metadata": {
        "id": "NiDlWJuRCQQd"
      },
      "source": [
        ""
      ],
      "execution_count": null,
      "outputs": []
    },
    {
      "cell_type": "code",
      "metadata": {
        "id": "s7umE9TXzJ8g"
      },
      "source": [
        "stopwords = nltk.corpus.stopwords.words('portuguese')\n",
        "stopwords = list(set(stopwords))\n",
        "stopwords = stopwords + list(punctuation)"
      ],
      "execution_count": null,
      "outputs": []
    },
    {
      "cell_type": "code",
      "metadata": {
        "id": "FbwPtM2ZrA-N"
      },
      "source": [
        "#função para retirar as stopwords\n",
        "#faz-se primeiro uma lista vazia para inserir as palavras que não são stopwords\n",
        "#percorre a lista e preenche com as palavras sem stopwords, retorna cada palavra em uma lista de palavras que vai ser usada para o plot do gráfico.\n",
        "def remove_stopwords(word_list):\n",
        "        text_garbage = word_list.apply(lambda x: re.sub('[0-9]|,|\\.|/|$|\\(|\\)|-|\\+|:|•', ' ', x))\n",
        "        #text_garbage = ['\\r', '\\n', \"he\\xa0\", \"»\", \"«\", \"''\", \",\", \".\", '\"', \"?\", \":\"]\n",
        "        for i in text_garbage:\n",
        "          word_list = word_list.replace(str(i), '')\n",
        "\n",
        "        word_list = word_list.lower()\n",
        "        sentences = []\n",
        "        sentences = nltk.sent_tokenize(word_list)\n",
        "        for i in range(len(sentences)):\n",
        "            words = nltk.word_tokenize(sentences[i])\n",
        "            newwords = [word for word in words if word not in stopwords.words('english')]\n",
        "            #sentences[i] = ' '.join(newwords)\n",
        "        return newwords\n"
      ],
      "execution_count": null,
      "outputs": []
    },
    {
      "cell_type": "code",
      "metadata": {
        "id": "setTIuJqranQ"
      },
      "source": [
        "list_words = []\n",
        "for index, row in files.iterrows():\n",
        "  list_words.append(remove_stopwords(row['review_resume'].apply(lambda x: str(x))))"
      ],
      "execution_count": null,
      "outputs": []
    },
    {
      "cell_type": "code",
      "metadata": {
        "id": "8wJfaqxkdpID"
      },
      "source": [
        "list_words"
      ],
      "execution_count": null,
      "outputs": []
    },
    {
      "cell_type": "markdown",
      "metadata": {
        "id": "eqDDAwQio7wr"
      },
      "source": [
        "### Plotar o gráfico das palavras corridas no resumo:"
      ]
    },
    {
      "cell_type": "code",
      "metadata": {
        "id": "53Ga3_-rrizR"
      },
      "source": [
        "words = Counter(grafic_words)\n",
        "sorted(keywords, key=keywords.get)\n",
        "words"
      ],
      "execution_count": null,
      "outputs": []
    },
    {
      "cell_type": "code",
      "metadata": {
        "id": "DBV59wBVvWBM"
      },
      "source": [
        ""
      ],
      "execution_count": null,
      "outputs": []
    }
  ]
}