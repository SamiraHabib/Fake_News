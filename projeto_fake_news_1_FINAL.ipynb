{
  "nbformat": 4,
  "nbformat_minor": 0,
  "metadata": {
    "colab": {
      "name": "projeto - fake news 1 FINAL.ipynb",
      "provenance": [],
      "collapsed_sections": [],
      "include_colab_link": true
    },
    "kernelspec": {
      "name": "python3",
      "display_name": "Python 3"
    },
    "language_info": {
      "name": "python"
    }
  },
  "cells": [
    {
      "cell_type": "markdown",
      "metadata": {
        "id": "view-in-github",
        "colab_type": "text"
      },
      "source": [
        "<a href=\"https://colab.research.google.com/github/SamiraHabib/Fake_News/blob/main/projeto_fake_news_1_FINAL.ipynb\" target=\"_parent\"><img src=\"https://colab.research.google.com/assets/colab-badge.svg\" alt=\"Open In Colab\"/></a>"
      ]
    },
    {
      "cell_type": "markdown",
      "metadata": {
        "id": "gFJnlXLvG8Ud"
      },
      "source": [
        "##**Entendendo o dataset**\n",
        "\n",
        "  Os dados utilizados neste notebook foram coletados através de web scrapping, e são referentes ao banco de dados do site [EU vs Desinfo](https://euvsdisinfo.eu/disinformation-cases/) que, por sua vez é baseado em análises do _East Stratcom Task Force_.\n",
        "\n",
        "A _East Stratcom Task Force_ é uma organização para explicar melhor os valores, interesses e políticas da União Euripeia nos países parceiros da europa oriental. E trabalha em parceria com instituições e delegações da União Europeia nos países da Parceria Oriental, na Ásia Central e na Federação da Rússia.\n",
        "O trabalho da task force consiste em conscientizar sobre o impacto negativo da desinformação que se origina em fontes pró Governo Russo e é disseminada na europa oriental e além.\n",
        "\n",
        "  Este banco de dados possui uma série de avaliações de notícias que podem\n",
        "fornecer uma representação parcial, distorcida ou falsa da realidade. Por se apresentarem como notícias, é possível inferir que estas tem a intenção de causar desinformação, desta forma, podem ser englobadas como _Fake News_ na definição do conceito utilizado neste trabalho.\n",
        "\n",
        "Desta forma, o conteúdo deste banco de dados é formado, de cada entrada sendo avaliações de _Fake News_ feitas pelo EU vs Desinfo sobre acusações de desinformação em notícias que apoiam o governo da Russia (_Kremlin_)."
      ]
    },
    {
      "cell_type": "code",
      "metadata": {
        "id": "hntnIxujJTQ7"
      },
      "source": [
        "import pandas as pd\n",
        "import numpy as np"
      ],
      "execution_count": null,
      "outputs": []
    },
    {
      "cell_type": "code",
      "metadata": {
        "colab": {
          "base_uri": "https://localhost:8080/"
        },
        "id": "dY5E95VgIv_o",
        "outputId": "bd501a86-81de-4f63-826f-50dfffb4f7d2"
      },
      "source": [
        "import nltk \n",
        "from nltk.corpus import stopwords \n",
        "import json\n",
        "import re\n",
        "from string import punctuation\n",
        "from unicodedata import normalize\n",
        "%pylab inline\n",
        "import nltk\n",
        "import gensim"
      ],
      "execution_count": null,
      "outputs": [
        {
          "output_type": "stream",
          "text": [
            "Populating the interactive namespace from numpy and matplotlib\n"
          ],
          "name": "stdout"
        }
      ]
    },
    {
      "cell_type": "code",
      "metadata": {
        "colab": {
          "base_uri": "https://localhost:8080/"
        },
        "id": "H5FWO9tlI1wZ",
        "outputId": "52672828-dc61-4948-8c69-48b12031a96d"
      },
      "source": [
        "!pip install stop-words"
      ],
      "execution_count": null,
      "outputs": [
        {
          "output_type": "stream",
          "text": [
            "Requirement already satisfied: stop-words in /usr/local/lib/python3.7/dist-packages (2018.7.23)\n"
          ],
          "name": "stdout"
        }
      ]
    },
    {
      "cell_type": "code",
      "metadata": {
        "colab": {
          "base_uri": "https://localhost:8080/"
        },
        "id": "9PkpzaIsIvxc",
        "outputId": "6794b93c-f39d-43f3-f01e-740d92820799"
      },
      "source": [
        "nltk.download('stopwords')\n",
        "nltk.download('wordnet')\n",
        "nltk.download('punkt')\n",
        "nltk.download('rslp')"
      ],
      "execution_count": null,
      "outputs": [
        {
          "output_type": "stream",
          "text": [
            "[nltk_data] Downloading package stopwords to /root/nltk_data...\n",
            "[nltk_data]   Package stopwords is already up-to-date!\n",
            "[nltk_data] Downloading package wordnet to /root/nltk_data...\n",
            "[nltk_data]   Package wordnet is already up-to-date!\n",
            "[nltk_data] Downloading package punkt to /root/nltk_data...\n",
            "[nltk_data]   Package punkt is already up-to-date!\n",
            "[nltk_data] Downloading package rslp to /root/nltk_data...\n",
            "[nltk_data]   Package rslp is already up-to-date!\n"
          ],
          "name": "stdout"
        },
        {
          "output_type": "execute_result",
          "data": {
            "text/plain": [
              "True"
            ]
          },
          "metadata": {
            "tags": []
          },
          "execution_count": 16
        }
      ]
    },
    {
      "cell_type": "code",
      "metadata": {
        "id": "7X1H_iJzJVRV"
      },
      "source": [
        "files = pd.read_csv('/content/data.csv')"
      ],
      "execution_count": null,
      "outputs": []
    },
    {
      "cell_type": "code",
      "metadata": {
        "id": "fonL3JwaJx7f",
        "colab": {
          "base_uri": "https://localhost:8080/",
          "height": 564
        },
        "outputId": "d8e4bd1f-1983-4cb6-8c40-754ff282340c"
      },
      "source": [
        "files.head()"
      ],
      "execution_count": null,
      "outputs": [
        {
          "output_type": "execute_result",
          "data": {
            "text/html": [
              "<div>\n",
              "<style scoped>\n",
              "    .dataframe tbody tr th:only-of-type {\n",
              "        vertical-align: middle;\n",
              "    }\n",
              "\n",
              "    .dataframe tbody tr th {\n",
              "        vertical-align: top;\n",
              "    }\n",
              "\n",
              "    .dataframe thead th {\n",
              "        text-align: right;\n",
              "    }\n",
              "</style>\n",
              "<table border=\"1\" class=\"dataframe\">\n",
              "  <thead>\n",
              "    <tr style=\"text-align: right;\">\n",
              "      <th></th>\n",
              "      <th>Unnamed: 0</th>\n",
              "      <th>claims_id</th>\n",
              "      <th>claim_published</th>\n",
              "      <th>first_appearance</th>\n",
              "      <th>review_id</th>\n",
              "      <th>is_part_of</th>\n",
              "      <th>claim_reviewed</th>\n",
              "      <th>review_published</th>\n",
              "      <th>review_name</th>\n",
              "      <th>html_text</th>\n",
              "      <th>text</th>\n",
              "      <th>issue_id</th>\n",
              "      <th>keyword_id</th>\n",
              "      <th>keyword_name</th>\n",
              "      <th>country_id</th>\n",
              "      <th>country_name</th>\n",
              "      <th>appearances</th>\n",
              "      <th>has_parts</th>\n",
              "      <th>creative_work_id</th>\n",
              "      <th>type</th>\n",
              "      <th>url</th>\n",
              "      <th>author</th>\n",
              "      <th>claim</th>\n",
              "      <th>web_archive_url</th>\n",
              "      <th>abstract</th>\n",
              "      <th>in_language</th>\n",
              "      <th>start_time</th>\n",
              "      <th>end_time</th>\n",
              "      <th>organization_id</th>\n",
              "      <th>location</th>\n",
              "      <th>organization_name</th>\n",
              "      <th>image_id</th>\n",
              "      <th>image_type</th>\n",
              "      <th>image_content_url</th>\n",
              "      <th>language_id</th>\n",
              "      <th>language_name</th>\n",
              "      <th>language_code</th>\n",
              "    </tr>\n",
              "  </thead>\n",
              "  <tbody>\n",
              "    <tr>\n",
              "      <th>0</th>\n",
              "      <td>0</td>\n",
              "      <td>/claims/100</td>\n",
              "      <td>2019-12-13T00:00:00+00:00</td>\n",
              "      <td>/news_articles/598</td>\n",
              "      <td>/claim_reviews/100</td>\n",
              "      <td>/issues/177</td>\n",
              "      <td>Ukraine has put itself in a situation when ext...</td>\n",
              "      <td>2019-12-16T00:00:00+00:00</td>\n",
              "      <td>Normandy summit results: the EU plays on Russi...</td>\n",
              "      <td>&lt;p&gt;This article misrepresents the actual Germa...</td>\n",
              "      <td>This article misrepresents the actual German a...</td>\n",
              "      <td>/issues/177</td>\n",
              "      <td>['/keywords/61', '/keywords/76', '/keywords/77...</td>\n",
              "      <td>['Abandoned Ukraine', 'Angela Merkel', 'Emmanu...</td>\n",
              "      <td>['/countries/4', '/countries/9', '/countries/1...</td>\n",
              "      <td>['Russia', 'Ukraine', 'The West', 'EU', 'Germa...</td>\n",
              "      <td>/news_articles/598</td>\n",
              "      <td>['/claims/75', '/claims/79', '/claims/80', '/c...</td>\n",
              "      <td>/news_articles/598</td>\n",
              "      <td>http://schema.org/NewsArticle</td>\n",
              "      <td>https://sputnik.by/columnists/20191213/1043442...</td>\n",
              "      <td>/organizations/262</td>\n",
              "      <td>/claims/100</td>\n",
              "      <td>https://web.archive.org/web/20191213153206/htt...</td>\n",
              "      <td>На нынешней же встрече Зеленский (который, кст...</td>\n",
              "      <td>/languages/3</td>\n",
              "      <td>NaN</td>\n",
              "      <td>NaN</td>\n",
              "      <td>/organizations/262</td>\n",
              "      <td>/countries/55</td>\n",
              "      <td>sputnik.by // lifenews.ru</td>\n",
              "      <td>/image_objects/23</td>\n",
              "      <td>http://schema.org/ImageObject</td>\n",
              "      <td>https://api.veedoo.io/images/5e3150bc27830_2fd...</td>\n",
              "      <td>/languages/3</td>\n",
              "      <td>Russian</td>\n",
              "      <td>rus</td>\n",
              "    </tr>\n",
              "    <tr>\n",
              "      <th>1</th>\n",
              "      <td>1</td>\n",
              "      <td>/claims/1000</td>\n",
              "      <td>2019-09-26T00:00:00+00:00</td>\n",
              "      <td>/news_articles/1835</td>\n",
              "      <td>/claim_reviews/1000</td>\n",
              "      <td>/issues/166</td>\n",
              "      <td>Regardless who was behind the recent attack on...</td>\n",
              "      <td>2019-09-27T00:00:00+00:00</td>\n",
              "      <td>The US benefits from the attack on the Saudi o...</td>\n",
              "      <td>&lt;p&gt;No evidence is provided to support the clai...</td>\n",
              "      <td>No evidence is provided to support the claim. ...</td>\n",
              "      <td>/issues/166</td>\n",
              "      <td>['/keywords/4', '/keywords/10', '/keywords/111']</td>\n",
              "      <td>['Conspiracy', 'Terrorism', 'Donald Trump']</td>\n",
              "      <td>['/countries/2', '/countries/3', '/countries/58']</td>\n",
              "      <td>['Iran', 'United States', 'Saudi Arabia']</td>\n",
              "      <td>/news_articles/1835</td>\n",
              "      <td>['/claims/934', '/claims/941', '/claims/942', ...</td>\n",
              "      <td>/news_articles/1835</td>\n",
              "      <td>http://schema.org/NewsArticle</td>\n",
              "      <td>https://southfront.org/who-really-benefits-fro...</td>\n",
              "      <td>/organizations/205</td>\n",
              "      <td>/claims/1000</td>\n",
              "      <td>https://web.archive.org/web/20190927121413/htt...</td>\n",
              "      <td>NaN</td>\n",
              "      <td>/languages/7</td>\n",
              "      <td>NaN</td>\n",
              "      <td>NaN</td>\n",
              "      <td>/organizations/205</td>\n",
              "      <td>NaN</td>\n",
              "      <td>southfront.org</td>\n",
              "      <td>NaN</td>\n",
              "      <td>NaN</td>\n",
              "      <td>NaN</td>\n",
              "      <td>/languages/7</td>\n",
              "      <td>English</td>\n",
              "      <td>eng</td>\n",
              "    </tr>\n",
              "    <tr>\n",
              "      <th>2</th>\n",
              "      <td>2</td>\n",
              "      <td>/claims/1002</td>\n",
              "      <td>2019-09-23T00:00:00+00:00</td>\n",
              "      <td>/media_objects/1837</td>\n",
              "      <td>/claim_reviews/1002</td>\n",
              "      <td>/issues/166</td>\n",
              "      <td>Pilsudski is a historical figure, who establis...</td>\n",
              "      <td>2019-09-27T00:00:00+00:00</td>\n",
              "      <td>The Polish Legions of Pilsudski organized the ...</td>\n",
              "      <td>&lt;p&gt;This message is a part of the Kremlin’s pol...</td>\n",
              "      <td>This message is a part of the Kremlin’s policy...</td>\n",
              "      <td>/issues/166</td>\n",
              "      <td>['/keywords/36', '/keywords/40', '/keywords/42...</td>\n",
              "      <td>['Genocide', 'WWII', 'Historical revisionism',...</td>\n",
              "      <td>['/countries/9', '/countries/24']</td>\n",
              "      <td>['Ukraine', 'Poland']</td>\n",
              "      <td>/media_objects/1837</td>\n",
              "      <td>['/claims/934', '/claims/941', '/claims/942', ...</td>\n",
              "      <td>/media_objects/1837</td>\n",
              "      <td>http://schema.org/MediaObject</td>\n",
              "      <td>https://youtube.com/watch?v=9wvNBUNML3Q&amp;t=250</td>\n",
              "      <td>/organizations/122</td>\n",
              "      <td>/claims/1002</td>\n",
              "      <td>https://web.archive.org/web/20190927133752/htt...</td>\n",
              "      <td>Пилсудский фигура историческая, создавшая перв...</td>\n",
              "      <td>/languages/3</td>\n",
              "      <td>250.0</td>\n",
              "      <td>262.0</td>\n",
              "      <td>/organizations/122</td>\n",
              "      <td>/countries/4</td>\n",
              "      <td>Rossia 24</td>\n",
              "      <td>/image_objects/10</td>\n",
              "      <td>http://schema.org/ImageObject</td>\n",
              "      <td>https://api.veedoo.io/images/5e313449bca43_Ros...</td>\n",
              "      <td>/languages/3</td>\n",
              "      <td>Russian</td>\n",
              "      <td>rus</td>\n",
              "    </tr>\n",
              "    <tr>\n",
              "      <th>3</th>\n",
              "      <td>3</td>\n",
              "      <td>/claims/1003</td>\n",
              "      <td>2019-09-27T00:00:00+00:00</td>\n",
              "      <td>/media_objects/1838</td>\n",
              "      <td>/claim_reviews/1003</td>\n",
              "      <td>/issues/166</td>\n",
              "      <td>Washington (and to a large degree Brussels) ar...</td>\n",
              "      <td>2019-09-27T00:00:00+00:00</td>\n",
              "      <td>The West might use the Eastern Europeans as ca...</td>\n",
              "      <td>&lt;p&gt;&lt;a href=\"https://euvsdisinfo.eu/why-authori...</td>\n",
              "      <td>Conspiracy theory, presented without evidence....</td>\n",
              "      <td>/issues/166</td>\n",
              "      <td>['/keywords/20', '/keywords/107', '/keywords/2...</td>\n",
              "      <td>['Russophobia', 'Encircling Russia', 'Operatio...</td>\n",
              "      <td>['/countries/3', '/countries/11', '/countries/...</td>\n",
              "      <td>['United States', 'The West', 'Czech Republic'...</td>\n",
              "      <td>/media_objects/1838</td>\n",
              "      <td>['/claims/934', '/claims/941', '/claims/942', ...</td>\n",
              "      <td>/media_objects/1838</td>\n",
              "      <td>http://schema.org/MediaObject</td>\n",
              "      <td>https://www.fort-russ.com/2019/09/debunking-li...</td>\n",
              "      <td>/organizations/461</td>\n",
              "      <td>/claims/1003</td>\n",
              "      <td>NaN</td>\n",
              "      <td>NaN</td>\n",
              "      <td>/languages/7</td>\n",
              "      <td>NaN</td>\n",
              "      <td>NaN</td>\n",
              "      <td>/organizations/461</td>\n",
              "      <td>NaN</td>\n",
              "      <td>fort-russ.com</td>\n",
              "      <td>NaN</td>\n",
              "      <td>NaN</td>\n",
              "      <td>NaN</td>\n",
              "      <td>/languages/7</td>\n",
              "      <td>English</td>\n",
              "      <td>eng</td>\n",
              "    </tr>\n",
              "    <tr>\n",
              "      <th>4</th>\n",
              "      <td>4</td>\n",
              "      <td>/claims/1004</td>\n",
              "      <td>2019-09-25T00:00:00+00:00</td>\n",
              "      <td>/news_articles/1839</td>\n",
              "      <td>/claim_reviews/1004</td>\n",
              "      <td>/issues/166</td>\n",
              "      <td>The beneficiary of the resolution of the Europ...</td>\n",
              "      <td>2019-09-27T00:00:00+00:00</td>\n",
              "      <td>The resolution of the European Parliament reli...</td>\n",
              "      <td>&lt;p&gt;This message is part of the Kremlin’s polic...</td>\n",
              "      <td>This message is part of the Kremlin’s policy o...</td>\n",
              "      <td>/issues/166</td>\n",
              "      <td>['/keywords/30', '/keywords/40', '/keywords/41...</td>\n",
              "      <td>['European Parliament', 'WWII', 'Adolf Hitler'...</td>\n",
              "      <td>['/countries/4', '/countries/30', '/countries/...</td>\n",
              "      <td>['Russia', 'Germany', 'Eastern Europe']</td>\n",
              "      <td>/news_articles/1839</td>\n",
              "      <td>['/claims/934', '/claims/941', '/claims/942', ...</td>\n",
              "      <td>/news_articles/1839</td>\n",
              "      <td>http://schema.org/NewsArticle</td>\n",
              "      <td>https://www.rubaltic.ru/article/politika-i-obs...</td>\n",
              "      <td>/organizations/335</td>\n",
              "      <td>/claims/1004</td>\n",
              "      <td>https://web.archive.org/web/20190927092204/htt...</td>\n",
              "      <td>И в первую очередь она выгодна Германии, котор...</td>\n",
              "      <td>/languages/3</td>\n",
              "      <td>NaN</td>\n",
              "      <td>NaN</td>\n",
              "      <td>/organizations/335</td>\n",
              "      <td>NaN</td>\n",
              "      <td>rubaltic.ru</td>\n",
              "      <td>NaN</td>\n",
              "      <td>NaN</td>\n",
              "      <td>NaN</td>\n",
              "      <td>/languages/3</td>\n",
              "      <td>Russian</td>\n",
              "      <td>rus</td>\n",
              "    </tr>\n",
              "  </tbody>\n",
              "</table>\n",
              "</div>"
            ],
            "text/plain": [
              "   Unnamed: 0     claims_id  ... language_name language_code\n",
              "0           0   /claims/100  ...       Russian           rus\n",
              "1           1  /claims/1000  ...       English           eng\n",
              "2           2  /claims/1002  ...       Russian           rus\n",
              "3           3  /claims/1003  ...       English           eng\n",
              "4           4  /claims/1004  ...       Russian           rus\n",
              "\n",
              "[5 rows x 37 columns]"
            ]
          },
          "metadata": {
            "tags": []
          },
          "execution_count": 18
        }
      ]
    },
    {
      "cell_type": "markdown",
      "metadata": {
        "id": "Mswf6x_YYOH7"
      },
      "source": [
        "##**Dicionário de dados**"
      ]
    },
    {
      "cell_type": "markdown",
      "metadata": {
        "id": "bY5rl3nt8oov"
      },
      "source": [
        "**Dicionário dos dados do dataset original:**\n",
        "\n",
        "- 'Unnamed: 0': Número  único de identificação de cada linha de entrada, identico ao index.\n",
        "\n",
        "- 'claims_id': Número único de identificação do alerta (Claim) de FakeNews.\n",
        "\n",
        "- 'claim_published': Data e hora da publicação do alerta de FakeNews.\n",
        "\n",
        "- 'first_appearance': A primeira ocorrência de um alerta de FakeNews pra uma notícia.\n",
        "\n",
        "-  'review_id': Número único de identificação da avaliação da veracidade daquela notícia pelo EU vs Desinfo.\n",
        "\n",
        "- 'is_part_of': Número único de identificação da _Issue_.\n",
        "\n",
        "- 'claim_reviewed': Resumo da notícia original feita pelo EU vs Desinfo.\n",
        "\n",
        "- 'review_published': Data e hora da públicação da avaliação da veracidade da notícia, ou seja, se ela é ou não fake news.\n",
        "\n",
        "- 'review_name': Título da avaliação de Fake News.\n",
        "\n",
        "- 'html_text': Conclusão da acusação de fake news feita pelo EU vs Desinfo ainda em formato html.\n",
        "\n",
        "- 'text': Conclusão da acusação de fake news.\n",
        "\n",
        "- 'issue_id': Número único de identificação da 'Issue'.\n",
        "\n",
        "- 'keyword_id': Número único de identificação da palavra-chave.\n",
        "\n",
        "- 'keyword_name': Nome da palavra-chave.\n",
        "\n",
        "-'country_id': Número único de identificação dos países que são mensionados na notícia.\n",
        "\n",
        "- 'country_name': Nome dos países que são mensionados na notícia.\n",
        "\n",
        "- 'appearances': A primeira ocorrência de um alerta de FakeNews pra uma notícia.\n",
        "\n",
        "- 'has_parts': Número único de identificação (id) de alertas de FakeNews feitas para aquela notícia.\n",
        "\n",
        "- 'creative_work_id': Número único de identificação de um trabalho criativo, igual a coluna first_appearence.\n",
        "\n",
        "- 'type': Tipo do conteúdo que foi avaliado pelo US vs Definfo, temos avaliações de [artigos](http://schema.org/NewsArticle) e [mídia](https://schema.org/MediaObject).\n",
        "\n",
        "- 'url': Endereço web referente a cada notícia original.\n",
        "\n",
        "- 'author': Número unico de identificação da instituição que produziu a notícia original.\n",
        "\n",
        "- 'claim':  Número único de identificação do alerta de FakeNews.\n",
        "\n",
        "- 'web_archive_url': Arquivo salvo (html) da página web da notícia original.\n",
        "\n",
        "- 'abstract': Trecho aleatório da notícia original.\n",
        "\n",
        "- 'in_language': Número único de identificação da lingua utilizada na reportagem original.\n",
        "\n",
        "- 'start_time'\n",
        "- 'end_time'\n",
        "\n",
        "- 'organization_id': Número unico de identificação da instituição que produziu a notícia original\n",
        "\n",
        "- 'location': Número unico de identificação do país que está localizado organização que produziu a notícia original.\n",
        "\n",
        "- 'organization_name': Nome da instituição que produziu o conteúdo da notícia original.\n",
        "\n",
        "- 'image_id': Número único de identificação da logo marca da organização da notícia original.\n",
        "\n",
        "- 'image_type': Tipo do objeto de mídia classificado pelo schema, neste caso, objeto de imagem.\n",
        "\n",
        "- 'image_content_url': Logo marca da organização da notícia original.\n",
        "\n",
        "- 'language_id': Número único de identificação da lingua utilizada na reportagem original.\n",
        "\n",
        "- 'language_name': Nome da lingua utilizada na reportagem.\n",
        "\n",
        "- 'language_code': Representação do nome da língua pelas três primeiras letras."
      ]
    },
    {
      "cell_type": "markdown",
      "metadata": {
        "id": "28anfeioIeGu"
      },
      "source": [
        "**Descobrindo o que significa: Criando o dicionário**\n",
        "\n",
        "- *Selecionamos colunas específicas em ingles (pra facilitar o entendimento do site original) e analisamos as informações das colunas*"
      ]
    },
    {
      "cell_type": "code",
      "metadata": {
        "colab": {
          "base_uri": "https://localhost:8080/"
        },
        "id": "7E9qKVQa74N1",
        "outputId": "c52cbdb8-234f-4a0a-c561-73949849821d"
      },
      "source": [
        "files[files['language_code'] == 'eng'].iloc[0]"
      ],
      "execution_count": null,
      "outputs": [
        {
          "output_type": "execute_result",
          "data": {
            "text/plain": [
              "Unnamed: 0                                                           1\n",
              "claims_id                                                 /claims/1000\n",
              "claim_published                              2019-09-26T00:00:00+00:00\n",
              "first_appearance                                   /news_articles/1835\n",
              "review_id                                          /claim_reviews/1000\n",
              "is_part_of                                                 /issues/166\n",
              "claim_reviewed       Regardless who was behind the recent attack on...\n",
              "review_published                             2019-09-27T00:00:00+00:00\n",
              "review_name          The US benefits from the attack on the Saudi o...\n",
              "html_text            <p>No evidence is provided to support the clai...\n",
              "text                 No evidence is provided to support the claim. ...\n",
              "issue_id                                                   /issues/166\n",
              "keyword_id            ['/keywords/4', '/keywords/10', '/keywords/111']\n",
              "keyword_name               ['Conspiracy', 'Terrorism', 'Donald Trump']\n",
              "country_id           ['/countries/2', '/countries/3', '/countries/58']\n",
              "country_name                 ['Iran', 'United States', 'Saudi Arabia']\n",
              "appearances                                        /news_articles/1835\n",
              "has_parts            ['/claims/934', '/claims/941', '/claims/942', ...\n",
              "creative_work_id                                   /news_articles/1835\n",
              "type                                     http://schema.org/NewsArticle\n",
              "url                  https://southfront.org/who-really-benefits-fro...\n",
              "author                                              /organizations/205\n",
              "claim                                                     /claims/1000\n",
              "web_archive_url      https://web.archive.org/web/20190927121413/htt...\n",
              "abstract                                                           NaN\n",
              "in_language                                               /languages/7\n",
              "start_time                                                         NaN\n",
              "end_time                                                           NaN\n",
              "organization_id                                     /organizations/205\n",
              "location                                                           NaN\n",
              "organization_name                                       southfront.org\n",
              "image_id                                                           NaN\n",
              "image_type                                                         NaN\n",
              "image_content_url                                                  NaN\n",
              "language_id                                               /languages/7\n",
              "language_name                                                  English\n",
              "language_code                                                      eng\n",
              "Name: 1, dtype: object"
            ]
          },
          "metadata": {
            "tags": []
          },
          "execution_count": 19
        }
      ]
    },
    {
      "cell_type": "markdown",
      "metadata": {
        "id": "0kmuauutU9H9"
      },
      "source": [
        "- *Acessamos a url da notícia original*"
      ]
    },
    {
      "cell_type": "code",
      "metadata": {
        "colab": {
          "base_uri": "https://localhost:8080/",
          "height": 35
        },
        "id": "Ws6dMStrIk5n",
        "outputId": "8ddc8507-b70c-442c-f38f-3633d2d9eea7"
      },
      "source": [
        "files[files['language_code'] == 'eng']['url'].iloc[0]"
      ],
      "execution_count": null,
      "outputs": [
        {
          "output_type": "execute_result",
          "data": {
            "application/vnd.google.colaboratory.intrinsic+json": {
              "type": "string"
            },
            "text/plain": [
              "'https://southfront.org/who-really-benefits-from-iranian-attack-on-saudi-arabia/'"
            ]
          },
          "metadata": {
            "tags": []
          },
          "execution_count": 20
        }
      ]
    },
    {
      "cell_type": "markdown",
      "metadata": {
        "id": "uCC9JGBJKmIE"
      },
      "source": [
        "- *Acessamos também a avaliação da FakeNews no site da EU vs Desinfo, pesquisando por data e palavra chave diretamente no site, chegamos no  [link](https://euvsdisinfo.eu/report/the-us-benefits-from-the-attack-on-the-saudi-oil-facility) referente a notícia.*"
      ]
    },
    {
      "cell_type": "markdown",
      "metadata": {
        "id": "jbjimcl6TxE1"
      },
      "source": [
        "##**Dropando colunas inúteis e duplicadas**\n",
        "\n",
        "Como podemos perceber no **dicionário dos dados do dataset original**, a coluna 'Unnamed: 0' não é necessária pois trata-se de uma coluna com os indexes do CSV na transformação deste arquivo pra um DataFrame. \n",
        "Existem também, colunas com informações repetidas e, para facilitar o mapeamento, destacamos as que se repetem por tópicos de colunas iguais:\n",
        "\n",
        "- is_part_of -  inssue_id\n",
        "\n",
        "- appearances - creative_work_ID - fist apparence\n",
        "\n",
        "- claim - claim_ID\n",
        "\n",
        "- in_language - language_id\n",
        "\n",
        "- organization_id - author\n",
        "\n",
        "- html_text - text\n",
        "\n",
        "Diante deste problema, vamos eliminar colunas duplicadas e inúteis. Mas vamos também melhorar a identificação dos dados do nosso DataFrame renomeando todas as colunas com uma melhor escolha semântica.\n",
        "\n"
      ]
    },
    {
      "cell_type": "code",
      "metadata": {
        "colab": {
          "base_uri": "https://localhost:8080/"
        },
        "id": "ZoFzeKckO8Tl",
        "outputId": "765bb055-a26f-418d-a821-cfb5c80edbd0"
      },
      "source": [
        "files.info()"
      ],
      "execution_count": null,
      "outputs": [
        {
          "output_type": "stream",
          "text": [
            "<class 'pandas.core.frame.DataFrame'>\n",
            "RangeIndex: 7369 entries, 0 to 7368\n",
            "Data columns (total 37 columns):\n",
            " #   Column             Non-Null Count  Dtype  \n",
            "---  ------             --------------  -----  \n",
            " 0   Unnamed: 0         7369 non-null   int64  \n",
            " 1   claims_id          7369 non-null   object \n",
            " 2   claim_published    7369 non-null   object \n",
            " 3   first_appearance   7369 non-null   object \n",
            " 4   review_id          7369 non-null   object \n",
            " 5   is_part_of         7369 non-null   object \n",
            " 6   claim_reviewed     7366 non-null   object \n",
            " 7   review_published   7369 non-null   object \n",
            " 8   review_name        7369 non-null   object \n",
            " 9   html_text          7369 non-null   object \n",
            " 10  text               7369 non-null   object \n",
            " 11  issue_id           7369 non-null   object \n",
            " 12  keyword_id         7369 non-null   object \n",
            " 13  keyword_name       7369 non-null   object \n",
            " 14  country_id         7369 non-null   object \n",
            " 15  country_name       7369 non-null   object \n",
            " 16  appearances        7369 non-null   object \n",
            " 17  has_parts          7369 non-null   object \n",
            " 18  creative_work_id   7369 non-null   object \n",
            " 19  type               7369 non-null   object \n",
            " 20  url                7369 non-null   object \n",
            " 21  author             7369 non-null   object \n",
            " 22  claim              7369 non-null   object \n",
            " 23  web_archive_url    3472 non-null   object \n",
            " 24  abstract           825 non-null    object \n",
            " 25  in_language        3219 non-null   object \n",
            " 26  start_time         375 non-null    float64\n",
            " 27  end_time           375 non-null    float64\n",
            " 28  organization_id    7369 non-null   object \n",
            " 29  location           1774 non-null   object \n",
            " 30  organization_name  7369 non-null   object \n",
            " 31  image_id           3023 non-null   object \n",
            " 32  image_type         3023 non-null   object \n",
            " 33  image_content_url  3023 non-null   object \n",
            " 34  language_id        3219 non-null   object \n",
            " 35  language_name      3219 non-null   object \n",
            " 36  language_code      3219 non-null   object \n",
            "dtypes: float64(2), int64(1), object(34)\n",
            "memory usage: 2.1+ MB\n"
          ],
          "name": "stdout"
        }
      ]
    },
    {
      "cell_type": "code",
      "metadata": {
        "id": "vtZmDrIrKhyU"
      },
      "source": [
        "del_cols = ['is_part_of', 'appearances', 'creative_work_id', 'claim', 'in_language', 'Unnamed: 0', 'html_text', 'organization_id']\n",
        "files.drop(del_cols, axis = 1, inplace = True)"
      ],
      "execution_count": null,
      "outputs": []
    },
    {
      "cell_type": "code",
      "metadata": {
        "id": "A7jrlXXiJJYK",
        "colab": {
          "base_uri": "https://localhost:8080/",
          "height": 284
        },
        "outputId": "cef6ae14-fec2-4128-e5fa-03655355c60f"
      },
      "source": [
        "files.head(2)"
      ],
      "execution_count": null,
      "outputs": [
        {
          "output_type": "execute_result",
          "data": {
            "text/html": [
              "<div>\n",
              "<style scoped>\n",
              "    .dataframe tbody tr th:only-of-type {\n",
              "        vertical-align: middle;\n",
              "    }\n",
              "\n",
              "    .dataframe tbody tr th {\n",
              "        vertical-align: top;\n",
              "    }\n",
              "\n",
              "    .dataframe thead th {\n",
              "        text-align: right;\n",
              "    }\n",
              "</style>\n",
              "<table border=\"1\" class=\"dataframe\">\n",
              "  <thead>\n",
              "    <tr style=\"text-align: right;\">\n",
              "      <th></th>\n",
              "      <th>claims_id</th>\n",
              "      <th>claim_published</th>\n",
              "      <th>first_appearance</th>\n",
              "      <th>review_id</th>\n",
              "      <th>claim_reviewed</th>\n",
              "      <th>review_published</th>\n",
              "      <th>review_name</th>\n",
              "      <th>text</th>\n",
              "      <th>issue_id</th>\n",
              "      <th>keyword_id</th>\n",
              "      <th>keyword_name</th>\n",
              "      <th>country_id</th>\n",
              "      <th>country_name</th>\n",
              "      <th>has_parts</th>\n",
              "      <th>type</th>\n",
              "      <th>url</th>\n",
              "      <th>author</th>\n",
              "      <th>web_archive_url</th>\n",
              "      <th>abstract</th>\n",
              "      <th>start_time</th>\n",
              "      <th>end_time</th>\n",
              "      <th>location</th>\n",
              "      <th>organization_name</th>\n",
              "      <th>image_id</th>\n",
              "      <th>image_type</th>\n",
              "      <th>image_content_url</th>\n",
              "      <th>language_id</th>\n",
              "      <th>language_name</th>\n",
              "      <th>language_code</th>\n",
              "    </tr>\n",
              "  </thead>\n",
              "  <tbody>\n",
              "    <tr>\n",
              "      <th>0</th>\n",
              "      <td>/claims/100</td>\n",
              "      <td>2019-12-13T00:00:00+00:00</td>\n",
              "      <td>/news_articles/598</td>\n",
              "      <td>/claim_reviews/100</td>\n",
              "      <td>Ukraine has put itself in a situation when ext...</td>\n",
              "      <td>2019-12-16T00:00:00+00:00</td>\n",
              "      <td>Normandy summit results: the EU plays on Russi...</td>\n",
              "      <td>This article misrepresents the actual German a...</td>\n",
              "      <td>/issues/177</td>\n",
              "      <td>['/keywords/61', '/keywords/76', '/keywords/77...</td>\n",
              "      <td>['Abandoned Ukraine', 'Angela Merkel', 'Emmanu...</td>\n",
              "      <td>['/countries/4', '/countries/9', '/countries/1...</td>\n",
              "      <td>['Russia', 'Ukraine', 'The West', 'EU', 'Germa...</td>\n",
              "      <td>['/claims/75', '/claims/79', '/claims/80', '/c...</td>\n",
              "      <td>http://schema.org/NewsArticle</td>\n",
              "      <td>https://sputnik.by/columnists/20191213/1043442...</td>\n",
              "      <td>/organizations/262</td>\n",
              "      <td>https://web.archive.org/web/20191213153206/htt...</td>\n",
              "      <td>На нынешней же встрече Зеленский (который, кст...</td>\n",
              "      <td>NaN</td>\n",
              "      <td>NaN</td>\n",
              "      <td>/countries/55</td>\n",
              "      <td>sputnik.by // lifenews.ru</td>\n",
              "      <td>/image_objects/23</td>\n",
              "      <td>http://schema.org/ImageObject</td>\n",
              "      <td>https://api.veedoo.io/images/5e3150bc27830_2fd...</td>\n",
              "      <td>/languages/3</td>\n",
              "      <td>Russian</td>\n",
              "      <td>rus</td>\n",
              "    </tr>\n",
              "    <tr>\n",
              "      <th>1</th>\n",
              "      <td>/claims/1000</td>\n",
              "      <td>2019-09-26T00:00:00+00:00</td>\n",
              "      <td>/news_articles/1835</td>\n",
              "      <td>/claim_reviews/1000</td>\n",
              "      <td>Regardless who was behind the recent attack on...</td>\n",
              "      <td>2019-09-27T00:00:00+00:00</td>\n",
              "      <td>The US benefits from the attack on the Saudi o...</td>\n",
              "      <td>No evidence is provided to support the claim. ...</td>\n",
              "      <td>/issues/166</td>\n",
              "      <td>['/keywords/4', '/keywords/10', '/keywords/111']</td>\n",
              "      <td>['Conspiracy', 'Terrorism', 'Donald Trump']</td>\n",
              "      <td>['/countries/2', '/countries/3', '/countries/58']</td>\n",
              "      <td>['Iran', 'United States', 'Saudi Arabia']</td>\n",
              "      <td>['/claims/934', '/claims/941', '/claims/942', ...</td>\n",
              "      <td>http://schema.org/NewsArticle</td>\n",
              "      <td>https://southfront.org/who-really-benefits-fro...</td>\n",
              "      <td>/organizations/205</td>\n",
              "      <td>https://web.archive.org/web/20190927121413/htt...</td>\n",
              "      <td>NaN</td>\n",
              "      <td>NaN</td>\n",
              "      <td>NaN</td>\n",
              "      <td>NaN</td>\n",
              "      <td>southfront.org</td>\n",
              "      <td>NaN</td>\n",
              "      <td>NaN</td>\n",
              "      <td>NaN</td>\n",
              "      <td>/languages/7</td>\n",
              "      <td>English</td>\n",
              "      <td>eng</td>\n",
              "    </tr>\n",
              "  </tbody>\n",
              "</table>\n",
              "</div>"
            ],
            "text/plain": [
              "      claims_id            claim_published  ... language_name language_code\n",
              "0   /claims/100  2019-12-13T00:00:00+00:00  ...       Russian           rus\n",
              "1  /claims/1000  2019-09-26T00:00:00+00:00  ...       English           eng\n",
              "\n",
              "[2 rows x 29 columns]"
            ]
          },
          "metadata": {
            "tags": []
          },
          "execution_count": 23
        }
      ]
    },
    {
      "cell_type": "code",
      "metadata": {
        "id": "j9V9wMFDLsX_",
        "colab": {
          "base_uri": "https://localhost:8080/"
        },
        "outputId": "d1e2215c-59d8-47f1-a591-10b97cdee92e"
      },
      "source": [
        "files.columns"
      ],
      "execution_count": null,
      "outputs": [
        {
          "output_type": "execute_result",
          "data": {
            "text/plain": [
              "Index(['claims_id', 'claim_published', 'first_appearance', 'review_id',\n",
              "       'claim_reviewed', 'review_published', 'review_name', 'text', 'issue_id',\n",
              "       'keyword_id', 'keyword_name', 'country_id', 'country_name', 'has_parts',\n",
              "       'type', 'url', 'author', 'web_archive_url', 'abstract', 'start_time',\n",
              "       'end_time', 'location', 'organization_name', 'image_id', 'image_type',\n",
              "       'image_content_url', 'language_id', 'language_name', 'language_code'],\n",
              "      dtype='object')"
            ]
          },
          "metadata": {
            "tags": []
          },
          "execution_count": 24
        }
      ]
    },
    {
      "cell_type": "markdown",
      "metadata": {
        "id": "0k5vR2i6XbVM"
      },
      "source": [
        "##**Novo dicionário de dados**"
      ]
    },
    {
      "cell_type": "markdown",
      "metadata": {
        "id": "4ebvgkLCezXm"
      },
      "source": [
        "**colunas renomeadas**\n",
        "\n",
        "- 'claims_id': Número único de identificação do alerta (Claim) de FakeNews.\n",
        "\n",
        "- 'claim_datetime': Data e hora da publicação do alerta de FakeNews.\n",
        "\n",
        "- 'claim_first': A primeira ocorrência de um alerta de FakeNews pra uma notícia.\n",
        "\n",
        "-  'review_id': Número único de identificação da avaliação da veracidade daquela notícia pelo EU vs Desinfo.\n",
        "\n",
        "- 'review_resume': Resumo da notícia original feita pelo EU vs Desinfo.\n",
        "\n",
        " 'review_datetime': Data e hora da públicação da avaliação da veracidade da notícia, ou seja, se ela é ou não fake news.\n",
        "\n",
        "- 'review_title': Título da avaliação de Fake News.\n",
        "\n",
        "- 'review_conclusion_html': Conclusão da acusação de fake news feita pelo EU vs Desinfo ainda em formato html.\n",
        "\n",
        "- 'review_conclusion': Conclusão da acusação de fake news feita pelo EU vs Desinfo.\n",
        "\n",
        "- 'issue_id': Número único de identificação da 'Issue'.\n",
        "\n",
        "- 'news_keyword_id': Número único de identificação de palavras-chave que aparecem nas notícias originais.\n",
        "\n",
        "- 'news_keyword_name': Nomes das palavras-chave que aparecem nas notícias originais.\n",
        "\n",
        "-'news_countrys_id': Número único de identificação dos países que são mensionados nas notícias originais.\n",
        "\n",
        "- 'news_countrys_name': Nome dos países que são mensionados nas notícias originais.\n",
        "\n",
        "- 'claims_total': Número único de identificação (id) de alertas de FakeNews feitas para aquela notícia.\n",
        "\n",
        "- 'news_type': Tipo do conteúdo que foi avaliado pelo US vs Definfo, temos avaliações de [artigos](http://schema.org/NewsArticle) e [mídia](https://schema.org/MediaObject).\n",
        "\n",
        "- 'news_url': Endereço web referente a cada notícia original.\n",
        "\n",
        "- 'news_organization_id': Número unico de identificação da instituição que produziu a notícia original.\n",
        "\n",
        "- 'news_url_archive': Arquivo salvo (html) da página web da notícia original.\n",
        "\n",
        "- 'news_part': Trecho aleatório da notícia original.\n",
        "\n",
        "- 'review_start_time'\n",
        "\n",
        "- 'review_end_time'\n",
        "\n",
        "- 'news_organization_location': Número unico de identificação do país que está localizado organização que produziu a notícia original.\n",
        "\n",
        "- 'news_organization_name': Nome da instituição que produziu o conteúdo da notícia original.\n",
        "\n",
        "- 'news_logo_id': Número único de identificação da logo marca da organização da notícia original.\n",
        "\n",
        "- 'news_logo_type': Tipo do objeto de mídia classificado pelo schema, neste caso, objeto de imagem.\n",
        "\n",
        "- 'news_logo_url': Logo marca da organização da notícia original.\n",
        "\n",
        "- 'news_language_id': Número único de identificação da lingua utilizada na reportagem original.\n",
        "\n",
        "- 'news_language_name': Nome da lingua utilizada na reportagem.\n",
        "\n",
        "- 'news_language_code': Representação do nome da língua pelas três primeiras letras.\n",
        "\n"
      ]
    },
    {
      "cell_type": "code",
      "metadata": {
        "id": "wY3JMwBPe0j1"
      },
      "source": [
        "rename_columns = ['claims_id', 'claim_datetime', 'claim_first', 'review_id', 'review_resume', \n",
        "'review_datetime','review_title', 'review_conclusion','issue_id', 'news_keyword_id', 'news_keyword',\n",
        "'news_countries_id', 'news_countries', 'claims_total', 'news_type', 'news_url', 'news_org_id', 'news_url_archive', \n",
        "'news_part','review_start_time', 'review_end_time', 'news_org_location','news_org',\n",
        "'news_logo_id','news_logo_type', 'news_logo_url', 'news_language_id', 'news_language', 'news_language_code']"
      ],
      "execution_count": null,
      "outputs": []
    },
    {
      "cell_type": "code",
      "metadata": {
        "id": "CgKN1SyADVle"
      },
      "source": [
        "files.columns = rename_columns"
      ],
      "execution_count": null,
      "outputs": []
    },
    {
      "cell_type": "code",
      "metadata": {
        "colab": {
          "base_uri": "https://localhost:8080/",
          "height": 301
        },
        "id": "7_E5q9zEE4N2",
        "outputId": "ca6b63a3-779d-4e65-d2e6-15041eba7cc4"
      },
      "source": [
        "files.head(2)"
      ],
      "execution_count": null,
      "outputs": [
        {
          "output_type": "execute_result",
          "data": {
            "text/html": [
              "<div>\n",
              "<style scoped>\n",
              "    .dataframe tbody tr th:only-of-type {\n",
              "        vertical-align: middle;\n",
              "    }\n",
              "\n",
              "    .dataframe tbody tr th {\n",
              "        vertical-align: top;\n",
              "    }\n",
              "\n",
              "    .dataframe thead th {\n",
              "        text-align: right;\n",
              "    }\n",
              "</style>\n",
              "<table border=\"1\" class=\"dataframe\">\n",
              "  <thead>\n",
              "    <tr style=\"text-align: right;\">\n",
              "      <th></th>\n",
              "      <th>claims_id</th>\n",
              "      <th>claim_datetime</th>\n",
              "      <th>claim_first</th>\n",
              "      <th>review_id</th>\n",
              "      <th>review_resume</th>\n",
              "      <th>review_datetime</th>\n",
              "      <th>review_title</th>\n",
              "      <th>review_conclusion</th>\n",
              "      <th>issue_id</th>\n",
              "      <th>news_keyword_id</th>\n",
              "      <th>news_keyword</th>\n",
              "      <th>news_countries_id</th>\n",
              "      <th>news_countries</th>\n",
              "      <th>claims_total</th>\n",
              "      <th>news_type</th>\n",
              "      <th>news_url</th>\n",
              "      <th>news_org_id</th>\n",
              "      <th>news_url_archive</th>\n",
              "      <th>news_part</th>\n",
              "      <th>review_start_time</th>\n",
              "      <th>review_end_time</th>\n",
              "      <th>news_org_location</th>\n",
              "      <th>news_org</th>\n",
              "      <th>news_logo_id</th>\n",
              "      <th>news_logo_type</th>\n",
              "      <th>news_logo_url</th>\n",
              "      <th>news_language_id</th>\n",
              "      <th>news_language</th>\n",
              "      <th>news_language_code</th>\n",
              "    </tr>\n",
              "  </thead>\n",
              "  <tbody>\n",
              "    <tr>\n",
              "      <th>0</th>\n",
              "      <td>/claims/100</td>\n",
              "      <td>2019-12-13T00:00:00+00:00</td>\n",
              "      <td>/news_articles/598</td>\n",
              "      <td>/claim_reviews/100</td>\n",
              "      <td>Ukraine has put itself in a situation when ext...</td>\n",
              "      <td>2019-12-16T00:00:00+00:00</td>\n",
              "      <td>Normandy summit results: the EU plays on Russi...</td>\n",
              "      <td>This article misrepresents the actual German a...</td>\n",
              "      <td>/issues/177</td>\n",
              "      <td>['/keywords/61', '/keywords/76', '/keywords/77...</td>\n",
              "      <td>['Abandoned Ukraine', 'Angela Merkel', 'Emmanu...</td>\n",
              "      <td>['/countries/4', '/countries/9', '/countries/1...</td>\n",
              "      <td>['Russia', 'Ukraine', 'The West', 'EU', 'Germa...</td>\n",
              "      <td>['/claims/75', '/claims/79', '/claims/80', '/c...</td>\n",
              "      <td>http://schema.org/NewsArticle</td>\n",
              "      <td>https://sputnik.by/columnists/20191213/1043442...</td>\n",
              "      <td>/organizations/262</td>\n",
              "      <td>https://web.archive.org/web/20191213153206/htt...</td>\n",
              "      <td>На нынешней же встрече Зеленский (который, кст...</td>\n",
              "      <td>NaN</td>\n",
              "      <td>NaN</td>\n",
              "      <td>/countries/55</td>\n",
              "      <td>sputnik.by // lifenews.ru</td>\n",
              "      <td>/image_objects/23</td>\n",
              "      <td>http://schema.org/ImageObject</td>\n",
              "      <td>https://api.veedoo.io/images/5e3150bc27830_2fd...</td>\n",
              "      <td>/languages/3</td>\n",
              "      <td>Russian</td>\n",
              "      <td>rus</td>\n",
              "    </tr>\n",
              "    <tr>\n",
              "      <th>1</th>\n",
              "      <td>/claims/1000</td>\n",
              "      <td>2019-09-26T00:00:00+00:00</td>\n",
              "      <td>/news_articles/1835</td>\n",
              "      <td>/claim_reviews/1000</td>\n",
              "      <td>Regardless who was behind the recent attack on...</td>\n",
              "      <td>2019-09-27T00:00:00+00:00</td>\n",
              "      <td>The US benefits from the attack on the Saudi o...</td>\n",
              "      <td>No evidence is provided to support the claim. ...</td>\n",
              "      <td>/issues/166</td>\n",
              "      <td>['/keywords/4', '/keywords/10', '/keywords/111']</td>\n",
              "      <td>['Conspiracy', 'Terrorism', 'Donald Trump']</td>\n",
              "      <td>['/countries/2', '/countries/3', '/countries/58']</td>\n",
              "      <td>['Iran', 'United States', 'Saudi Arabia']</td>\n",
              "      <td>['/claims/934', '/claims/941', '/claims/942', ...</td>\n",
              "      <td>http://schema.org/NewsArticle</td>\n",
              "      <td>https://southfront.org/who-really-benefits-fro...</td>\n",
              "      <td>/organizations/205</td>\n",
              "      <td>https://web.archive.org/web/20190927121413/htt...</td>\n",
              "      <td>NaN</td>\n",
              "      <td>NaN</td>\n",
              "      <td>NaN</td>\n",
              "      <td>NaN</td>\n",
              "      <td>southfront.org</td>\n",
              "      <td>NaN</td>\n",
              "      <td>NaN</td>\n",
              "      <td>NaN</td>\n",
              "      <td>/languages/7</td>\n",
              "      <td>English</td>\n",
              "      <td>eng</td>\n",
              "    </tr>\n",
              "  </tbody>\n",
              "</table>\n",
              "</div>"
            ],
            "text/plain": [
              "      claims_id             claim_datetime  ... news_language news_language_code\n",
              "0   /claims/100  2019-12-13T00:00:00+00:00  ...       Russian                rus\n",
              "1  /claims/1000  2019-09-26T00:00:00+00:00  ...       English                eng\n",
              "\n",
              "[2 rows x 29 columns]"
            ]
          },
          "metadata": {
            "tags": []
          },
          "execution_count": 27
        }
      ]
    },
    {
      "cell_type": "markdown",
      "metadata": {
        "id": "OU1aDp3YG8j5"
      },
      "source": [
        "##**Transformando pseudo listas em listas reais**"
      ]
    },
    {
      "cell_type": "markdown",
      "metadata": {
        "id": "uc54T8NVtMJX"
      },
      "source": [
        "*As colunas que possuem lista na verdade apenas estão representadas como listas, mas são na verdade strings. Para resolver este problema, vamos utilizar a função EVAL, que reconhece um padrão de estruturas em python e transforma a entrada neste padrão identificado*"
      ]
    },
    {
      "cell_type": "code",
      "metadata": {
        "id": "mic_gsU0m6rb"
      },
      "source": [
        "from itertools import chain"
      ],
      "execution_count": null,
      "outputs": []
    },
    {
      "cell_type": "code",
      "metadata": {
        "id": "doPm05Vaa1XL"
      },
      "source": [
        "notList_list = ['news_countries','news_keyword_id','news_keyword','news_countries_id','claims_total']"
      ],
      "execution_count": null,
      "outputs": []
    },
    {
      "cell_type": "code",
      "metadata": {
        "id": "z58SQOqbijqN"
      },
      "source": [
        "files['news_countries']  = files['news_countries'].apply(lambda x: eval(x))\n",
        "files['news_keyword_id'] = files['news_keyword_id'].apply(lambda x: eval(x))\n",
        "files['news_keyword'] = files['news_keyword'].apply(lambda x: eval(x))\n",
        "files['news_countries_id'] = files['news_countries_id'].apply(lambda x: eval(x))\n",
        "files['claims_total'] = files['claims_total'].apply(lambda x: eval(x))"
      ],
      "execution_count": null,
      "outputs": []
    },
    {
      "cell_type": "markdown",
      "metadata": {
        "id": "rV9mUjIMd0Xe"
      },
      "source": [
        "##**Limpando ruídos do texto**"
      ]
    },
    {
      "cell_type": "markdown",
      "metadata": {
        "id": "b2cTYO3l_0Tf"
      },
      "source": [
        "**Removendo as linhas vazias de texto**"
      ]
    },
    {
      "cell_type": "code",
      "metadata": {
        "colab": {
          "base_uri": "https://localhost:8080/"
        },
        "id": "oA1-Q01tqG5d",
        "outputId": "a938234d-9a27-4f68-cac9-3365d72621b5"
      },
      "source": [
        "files[files['review_resume'].isnull() == True].index"
      ],
      "execution_count": null,
      "outputs": [
        {
          "output_type": "execute_result",
          "data": {
            "text/plain": [
              "Int64Index([3934, 3935, 3939], dtype='int64')"
            ]
          },
          "metadata": {
            "tags": []
          },
          "execution_count": 41
        }
      ]
    },
    {
      "cell_type": "code",
      "metadata": {
        "id": "oVC9l9-yl6J1"
      },
      "source": [
        "files.dropna(subset = ['review_resume'], inplace = True) "
      ],
      "execution_count": null,
      "outputs": []
    },
    {
      "cell_type": "code",
      "metadata": {
        "id": "3nMhyGqP2_YL"
      },
      "source": [
        "files.reset_index(inplace= True)"
      ],
      "execution_count": null,
      "outputs": []
    },
    {
      "cell_type": "code",
      "metadata": {
        "colab": {
          "base_uri": "https://localhost:8080/"
        },
        "id": "pcVq6ikC3eZa",
        "outputId": "36f111ec-a7e3-434a-8bc7-20d215cff78e"
      },
      "source": [
        "files.pop('index')"
      ],
      "execution_count": null,
      "outputs": [
        {
          "output_type": "execute_result",
          "data": {
            "text/plain": [
              "0          0\n",
              "1          1\n",
              "2          2\n",
              "3          3\n",
              "4          4\n",
              "        ... \n",
              "7361    7364\n",
              "7362    7365\n",
              "7363    7366\n",
              "7364    7367\n",
              "7365    7368\n",
              "Name: index, Length: 7366, dtype: int64"
            ]
          },
          "metadata": {
            "tags": []
          },
          "execution_count": 44
        }
      ]
    },
    {
      "cell_type": "code",
      "metadata": {
        "colab": {
          "base_uri": "https://localhost:8080/",
          "height": 69
        },
        "id": "T8jLt6FYnNZu",
        "outputId": "350c2d5e-22f2-4506-f72a-8d83cd76ac7c"
      },
      "source": [
        "files[files['review_resume'].isnull() == True]"
      ],
      "execution_count": null,
      "outputs": [
        {
          "output_type": "execute_result",
          "data": {
            "text/html": [
              "<div>\n",
              "<style scoped>\n",
              "    .dataframe tbody tr th:only-of-type {\n",
              "        vertical-align: middle;\n",
              "    }\n",
              "\n",
              "    .dataframe tbody tr th {\n",
              "        vertical-align: top;\n",
              "    }\n",
              "\n",
              "    .dataframe thead th {\n",
              "        text-align: right;\n",
              "    }\n",
              "</style>\n",
              "<table border=\"1\" class=\"dataframe\">\n",
              "  <thead>\n",
              "    <tr style=\"text-align: right;\">\n",
              "      <th></th>\n",
              "      <th>claims_id</th>\n",
              "      <th>claim_datetime</th>\n",
              "      <th>claim_first</th>\n",
              "      <th>review_id</th>\n",
              "      <th>review_resume</th>\n",
              "      <th>review_datetime</th>\n",
              "      <th>review_title</th>\n",
              "      <th>review_conclusion</th>\n",
              "      <th>issue_id</th>\n",
              "      <th>news_keyword_id</th>\n",
              "      <th>news_keyword</th>\n",
              "      <th>news_countries_id</th>\n",
              "      <th>news_countries</th>\n",
              "      <th>claims_total</th>\n",
              "      <th>news_type</th>\n",
              "      <th>news_url</th>\n",
              "      <th>news_org_id</th>\n",
              "      <th>news_url_archive</th>\n",
              "      <th>news_part</th>\n",
              "      <th>review_start_time</th>\n",
              "      <th>review_end_time</th>\n",
              "      <th>news_org_location</th>\n",
              "      <th>news_org</th>\n",
              "      <th>news_logo_id</th>\n",
              "      <th>news_logo_type</th>\n",
              "      <th>news_logo_url</th>\n",
              "      <th>news_language_id</th>\n",
              "      <th>news_language</th>\n",
              "      <th>news_language_code</th>\n",
              "    </tr>\n",
              "  </thead>\n",
              "  <tbody>\n",
              "  </tbody>\n",
              "</table>\n",
              "</div>"
            ],
            "text/plain": [
              "Empty DataFrame\n",
              "Columns: [claims_id, claim_datetime, claim_first, review_id, review_resume, review_datetime, review_title, review_conclusion, issue_id, news_keyword_id, news_keyword, news_countries_id, news_countries, claims_total, news_type, news_url, news_org_id, news_url_archive, news_part, review_start_time, review_end_time, news_org_location, news_org, news_logo_id, news_logo_type, news_logo_url, news_language_id, news_language, news_language_code]\n",
              "Index: []"
            ]
          },
          "metadata": {
            "tags": []
          },
          "execution_count": 45
        }
      ]
    },
    {
      "cell_type": "markdown",
      "metadata": {
        "id": "KzurAlatHbeq"
      },
      "source": [
        "**Removendo pontuação, caracteres especiais e transformando em minúsculo**"
      ]
    },
    {
      "cell_type": "code",
      "metadata": {
        "id": "1qAEaunGz4hE"
      },
      "source": [
        "import json\n",
        "import re\n",
        "from string import punctuation\n",
        "from unicodedata import normalize"
      ],
      "execution_count": null,
      "outputs": []
    },
    {
      "cell_type": "code",
      "metadata": {
        "id": "-1mCY-kGz4VE"
      },
      "source": [
        "def pre_process (column):\n",
        "\n",
        "  df_preprocess = pd.DataFrame()\n",
        "\n",
        "  #Retirando acentuação e transformando em minúsculo\n",
        "  normalized_list = []\n",
        "\n",
        "  for item in column:\n",
        "    norm = normalize('NFKD', item).encode('ASCII', 'ignore').decode('ASCII')\n",
        "    normalized_list.append(norm.lower())\n",
        "\n",
        "  df_preprocess['normalized'] = normalized_list\n",
        "\n",
        "  #Retirando expressões regulares\n",
        "  cleam_words = []\n",
        "  text_garbage = ['\\r', '\\n', \"he\\xa0\", \"»\", \"«\", \"'\", '\\\"', \".\", \",\", \")\", \"(\", \"http\"]\n",
        "\n",
        "  for word in df_preprocess['normalized']:\n",
        "    new_word = re.sub(r'[0-9]|,|\\.|/|$|\\(|\\)|-|\\+|:|•',\"\", word)\n",
        "    if new_word != \"\":\n",
        "      cleam_words.append(new_word)\n",
        "\n",
        "  df_preprocess['cleam_words'] = cleam_words\n",
        "  for i in text_garbage:\n",
        "    df_preprocess['cleam_words'] = df_preprocess['cleam_words'].replace(i, '')\n",
        "\n",
        "\n",
        "  return df_preprocess['cleam_words']"
      ],
      "execution_count": null,
      "outputs": []
    },
    {
      "cell_type": "code",
      "metadata": {
        "id": "jGYAJtDY_P4X"
      },
      "source": [
        "files['review_resume'] = pre_process(files['review_resume'])\n",
        "files['review_title'] = pre_process(files['review_title'])\n",
        "files['review_conclusion'] = pre_process(files['review_conclusion'])"
      ],
      "execution_count": null,
      "outputs": []
    },
    {
      "cell_type": "markdown",
      "metadata": {
        "id": "jnz0toBGJMax"
      },
      "source": [
        "##**Recuperando informação**"
      ]
    },
    {
      "cell_type": "code",
      "metadata": {
        "colab": {
          "base_uri": "https://localhost:8080/"
        },
        "id": "XbBClYufspuy",
        "outputId": "48add40c-d09a-48d7-8d85-4d0fee4306b2"
      },
      "source": [
        "files.info()"
      ],
      "execution_count": null,
      "outputs": [
        {
          "output_type": "stream",
          "text": [
            "<class 'pandas.core.frame.DataFrame'>\n",
            "RangeIndex: 7366 entries, 0 to 7365\n",
            "Data columns (total 29 columns):\n",
            " #   Column              Non-Null Count  Dtype  \n",
            "---  ------              --------------  -----  \n",
            " 0   claims_id           7366 non-null   object \n",
            " 1   claim_datetime      7366 non-null   object \n",
            " 2   claim_first         7366 non-null   object \n",
            " 3   review_id           7366 non-null   object \n",
            " 4   review_resume       7366 non-null   object \n",
            " 5   review_datetime     7366 non-null   object \n",
            " 6   review_title        7366 non-null   object \n",
            " 7   review_conclusion   7366 non-null   object \n",
            " 8   issue_id            7366 non-null   object \n",
            " 9   news_keyword_id     7366 non-null   object \n",
            " 10  news_keyword        7366 non-null   object \n",
            " 11  news_countries_id   7366 non-null   object \n",
            " 12  news_countries      7366 non-null   object \n",
            " 13  claims_total        7366 non-null   object \n",
            " 14  news_type           7366 non-null   object \n",
            " 15  news_url            7366 non-null   object \n",
            " 16  news_org_id         7366 non-null   object \n",
            " 17  news_url_archive    3472 non-null   object \n",
            " 18  news_part           825 non-null    object \n",
            " 19  review_start_time   375 non-null    float64\n",
            " 20  review_end_time     375 non-null    float64\n",
            " 21  news_org_location   1773 non-null   object \n",
            " 22  news_org            7366 non-null   object \n",
            " 23  news_logo_id        3021 non-null   object \n",
            " 24  news_logo_type      3021 non-null   object \n",
            " 25  news_logo_url       3021 non-null   object \n",
            " 26  news_language_id    3219 non-null   object \n",
            " 27  news_language       3219 non-null   object \n",
            " 28  news_language_code  3219 non-null   object \n",
            "dtypes: float64(2), object(27)\n",
            "memory usage: 1.6+ MB\n"
          ],
          "name": "stdout"
        }
      ]
    },
    {
      "cell_type": "markdown",
      "metadata": {
        "id": "n6dSaZP7tdOx"
      },
      "source": [
        "*Percorremos cada item das duas colunas que possuem informações do ID de cada país utilizado nesse dataset e o nome dos países referentes a estes IDs, respectivamente, e transformamos em duas grandes listas diferentes mantendo a ordem em que os ítens aparecem, inclusive as repetições.*"
      ]
    },
    {
      "cell_type": "code",
      "metadata": {
        "id": "QykBx3F9JLsK"
      },
      "source": [
        "countries_id = list(chain(*files['news_countries_id']))\n",
        "countries_name = list(chain(*files['news_countries']))"
      ],
      "execution_count": null,
      "outputs": []
    },
    {
      "cell_type": "markdown",
      "metadata": {
        "id": "Y3A1cAreuvLj"
      },
      "source": [
        "*Agora vamos unir os itens das duas listas de acordo com as suas respectivas posições na ordem das listas. Excluir os que se repetem e transformar em um dicionário*"
      ]
    },
    {
      "cell_type": "code",
      "metadata": {
        "id": "awLBu3SJJLn-"
      },
      "source": [
        "countries_dict = dict(set(zip(countries_id, countries_name)))"
      ],
      "execution_count": null,
      "outputs": []
    },
    {
      "cell_type": "code",
      "metadata": {
        "colab": {
          "base_uri": "https://localhost:8080/"
        },
        "id": "QUifrMxEG2k0",
        "outputId": "370e500c-05e0-4895-80b7-f84efd621e05"
      },
      "source": [
        "countries_dict"
      ],
      "execution_count": null,
      "outputs": [
        {
          "output_type": "execute_result",
          "data": {
            "text/plain": [
              "{'/countries/1': 'Qatar',\n",
              " '/countries/10': 'West',\n",
              " '/countries/100': 'Switzerland',\n",
              " '/countries/101': 'Luxembourg',\n",
              " '/countries/102': 'FYROM',\n",
              " '/countries/103': 'Dominican Republic',\n",
              " '/countries/104': 'Mongolia',\n",
              " '/countries/105': 'India',\n",
              " '/countries/106': 'South Korea',\n",
              " '/countries/107': 'Ireland',\n",
              " '/countries/108': 'Cyprus',\n",
              " '/countries/109': 'CEE',\n",
              " '/countries/11': 'The West',\n",
              " '/countries/110': 'SEE',\n",
              " '/countries/111': 'Chechnya',\n",
              " '/countries/112': 'Sudan',\n",
              " '/countries/113': 'Islam',\n",
              " '/countries/115': 'Yemen',\n",
              " '/countries/116': 'David Icke',\n",
              " '/countries/117': 'Al-Qaeda',\n",
              " '/countries/118': 'Daesh',\n",
              " '/countries/119': 'Mali',\n",
              " '/countries/12': 'Montenegro',\n",
              " '/countries/13': 'Europe',\n",
              " '/countries/14': 'EU',\n",
              " '/countries/15': 'The Netherlands',\n",
              " '/countries/17': 'Syria',\n",
              " '/countries/18': 'Turkey',\n",
              " '/countries/19': 'Italy',\n",
              " '/countries/2': 'Iran',\n",
              " '/countries/20': 'Estonia',\n",
              " '/countries/21': 'North Macedonia',\n",
              " '/countries/22': 'Serbia',\n",
              " '/countries/23': 'Bosnia and Herzegovina',\n",
              " '/countries/24': 'Poland',\n",
              " '/countries/25': 'USSR',\n",
              " '/countries/26': 'Hungary',\n",
              " '/countries/27': 'Venezuela',\n",
              " '/countries/28': 'Moldova',\n",
              " '/countries/29': 'Romania',\n",
              " '/countries/3': 'United States',\n",
              " '/countries/30': 'Germany',\n",
              " '/countries/31': 'China',\n",
              " '/countries/32': 'Libya',\n",
              " '/countries/33': 'International',\n",
              " '/countries/34': 'Afghanistan',\n",
              " '/countries/35': 'UK',\n",
              " '/countries/36': 'Sweden',\n",
              " '/countries/37': 'Finland',\n",
              " '/countries/38': 'Yugoslavia',\n",
              " '/countries/4': 'Russia',\n",
              " '/countries/40': 'Brazil',\n",
              " '/countries/41': 'Colombia',\n",
              " '/countries/42': 'Peru',\n",
              " '/countries/43': 'Ecuador',\n",
              " '/countries/44': 'Honduras',\n",
              " '/countries/45': 'Paraguay',\n",
              " '/countries/46': 'Chile',\n",
              " '/countries/47': 'Israel',\n",
              " '/countries/48': 'Guatemala',\n",
              " '/countries/49': 'Lithuania',\n",
              " '/countries/5': 'Iraq',\n",
              " '/countries/50': 'Latvia',\n",
              " '/countries/51': 'Mexico',\n",
              " '/countries/52': 'Bolivia',\n",
              " '/countries/53': 'France',\n",
              " '/countries/54': 'Norway',\n",
              " '/countries/55': 'Belarus',\n",
              " '/countries/56': 'Hong Kong',\n",
              " '/countries/57': 'Vatican',\n",
              " '/countries/58': 'Saudi Arabia',\n",
              " '/countries/59': 'Denmark',\n",
              " '/countries/6': 'Armenia',\n",
              " '/countries/60': 'Australia',\n",
              " '/countries/61': 'Belgium',\n",
              " '/countries/62': 'Georgia',\n",
              " '/countries/63': 'Middle East',\n",
              " '/countries/64': 'Czech Republic',\n",
              " '/countries/65': 'Slovakia',\n",
              " '/countries/66': 'Eastern Europe',\n",
              " '/countries/67': 'Malaysia',\n",
              " '/countries/68': 'Greece',\n",
              " '/countries/69': 'Central Europe',\n",
              " '/countries/7': 'Baltic states',\n",
              " '/countries/70': 'Azerbaijan',\n",
              " '/countries/71': 'Bulgaria',\n",
              " '/countries/72': 'Kosovo',\n",
              " '/countries/73': 'CIS',\n",
              " '/countries/74': 'Japan',\n",
              " '/countries/75': 'Spain',\n",
              " '/countries/76': 'Cuba',\n",
              " '/countries/77': 'Albania',\n",
              " '/countries/78': 'Africa',\n",
              " '/countries/79': 'Middle East and Africa',\n",
              " '/countries/8': 'US',\n",
              " '/countries/80': 'Croatia',\n",
              " '/countries/81': 'Slovenia',\n",
              " '/countries/82': 'Congo',\n",
              " '/countries/83': 'Kazakhstan',\n",
              " '/countries/84': 'Kurdistan',\n",
              " '/countries/85': 'Jordan',\n",
              " '/countries/86': 'Canada',\n",
              " '/countries/88': 'Portugal',\n",
              " '/countries/89': 'Austria',\n",
              " '/countries/9': 'Ukraine',\n",
              " '/countries/90': 'New Zealand',\n",
              " '/countries/91': 'Egypt',\n",
              " '/countries/92': 'Kirgizstan',\n",
              " '/countries/93': 'Tajikistan',\n",
              " '/countries/94': 'Uzbekistan',\n",
              " '/countries/95': 'Turkmenistan',\n",
              " '/countries/96': 'North Korea',\n",
              " '/countries/97': 'Thailand',\n",
              " 'None': 'None'}"
            ]
          },
          "metadata": {
            "tags": []
          },
          "execution_count": 52
        }
      ]
    },
    {
      "cell_type": "markdown",
      "metadata": {
        "id": "rQ1tD5fiw30D"
      },
      "source": [
        "*Com a estrutura de dicionário criada, vamos agora substituir na coluna 'news_organization_location' os IDs dos países pelos nomes correspondentes.*"
      ]
    },
    {
      "cell_type": "code",
      "metadata": {
        "colab": {
          "base_uri": "https://localhost:8080/"
        },
        "id": "ENUIC4VSBs9N",
        "outputId": "5e3ef1e2-39fb-438a-ba25-63257ec63371"
      },
      "source": [
        "len(files[files['news_org_location'].isnull() == True])"
      ],
      "execution_count": null,
      "outputs": [
        {
          "output_type": "execute_result",
          "data": {
            "text/plain": [
              "5593"
            ]
          },
          "metadata": {
            "tags": []
          },
          "execution_count": 53
        }
      ]
    },
    {
      "cell_type": "code",
      "metadata": {
        "id": "O02F-1zJGkZt"
      },
      "source": [
        "files.replace({'news_org_location' : countries_dict}, inplace = True)"
      ],
      "execution_count": null,
      "outputs": []
    },
    {
      "cell_type": "code",
      "metadata": {
        "colab": {
          "base_uri": "https://localhost:8080/"
        },
        "id": "FAGFQh68GoeS",
        "outputId": "bcc3e473-5265-453e-ebe2-9236f44a9b4d"
      },
      "source": [
        "files['news_org_location']"
      ],
      "execution_count": null,
      "outputs": [
        {
          "output_type": "execute_result",
          "data": {
            "text/plain": [
              "0       Belarus\n",
              "1           NaN\n",
              "2        Russia\n",
              "3           NaN\n",
              "4           NaN\n",
              "         ...   \n",
              "7361        NaN\n",
              "7362        NaN\n",
              "7363        NaN\n",
              "7364        NaN\n",
              "7365        NaN\n",
              "Name: news_org_location, Length: 7366, dtype: object"
            ]
          },
          "metadata": {
            "tags": []
          },
          "execution_count": 55
        }
      ]
    },
    {
      "cell_type": "markdown",
      "metadata": {
        "id": "9fAGo3v1QAyJ"
      },
      "source": [
        "##**Verificando claims duplicadas**"
      ]
    },
    {
      "cell_type": "code",
      "metadata": {
        "colab": {
          "base_uri": "https://localhost:8080/"
        },
        "id": "o83pCLT5QARv",
        "outputId": "ea461790-bbb0-4ac3-8fc2-75ab0d16f424"
      },
      "source": [
        "len(files[files['claims_id'].duplicated()])"
      ],
      "execution_count": null,
      "outputs": [
        {
          "output_type": "execute_result",
          "data": {
            "text/plain": [
              "1128"
            ]
          },
          "metadata": {
            "tags": []
          },
          "execution_count": 56
        }
      ]
    },
    {
      "cell_type": "code",
      "metadata": {
        "colab": {
          "base_uri": "https://localhost:8080/"
        },
        "id": "DFbDccSnQAhH",
        "outputId": "1a0bd809-a4c5-461e-8b57-ced257f6739e"
      },
      "source": [
        "len(files[files['claims_id'].duplicated()]['claims_id'].unique())"
      ],
      "execution_count": null,
      "outputs": [
        {
          "output_type": "execute_result",
          "data": {
            "text/plain": [
              "591"
            ]
          },
          "metadata": {
            "tags": []
          },
          "execution_count": 57
        }
      ]
    },
    {
      "cell_type": "code",
      "metadata": {
        "colab": {
          "base_uri": "https://localhost:8080/"
        },
        "id": "2DtBueVrU1ZN",
        "outputId": "fd681c31-b7b3-4d1f-d24a-7b158fb5e463"
      },
      "source": [
        "files[files['claims_id'].duplicated()]['claims_id'].unique()"
      ],
      "execution_count": null,
      "outputs": [
        {
          "output_type": "execute_result",
          "data": {
            "text/plain": [
              "array(['/claims/101', '/claims/1022', '/claims/104', '/claims/1049',\n",
              "       '/claims/1053', '/claims/1055', '/claims/1060', '/claims/1061',\n",
              "       '/claims/1083', '/claims/1118', '/claims/112', '/claims/1158',\n",
              "       '/claims/117', '/claims/1171', '/claims/1210', '/claims/1235',\n",
              "       '/claims/1236', '/claims/1254', '/claims/129', '/claims/1294',\n",
              "       '/claims/131', '/claims/1317', '/claims/1327', '/claims/134',\n",
              "       '/claims/1344', '/claims/1365', '/claims/1407', '/claims/1413',\n",
              "       '/claims/1426', '/claims/1453', '/claims/146', '/claims/1464',\n",
              "       '/claims/147', '/claims/148', '/claims/151', '/claims/1516',\n",
              "       '/claims/1521', '/claims/153', '/claims/1532', '/claims/1557',\n",
              "       '/claims/1558', '/claims/158', '/claims/1584', '/claims/1596',\n",
              "       '/claims/160', '/claims/161', '/claims/162', '/claims/1682',\n",
              "       '/claims/1684', '/claims/1685', '/claims/1701', '/claims/1705',\n",
              "       '/claims/1719', '/claims/173', '/claims/1730', '/claims/1732',\n",
              "       '/claims/1749', '/claims/1753', '/claims/1768', '/claims/1788',\n",
              "       '/claims/1803', '/claims/1809', '/claims/183', '/claims/189',\n",
              "       '/claims/191', '/claims/1935', '/claims/1938', '/claims/1967',\n",
              "       '/claims/1968', '/claims/198', '/claims/1984', '/claims/1991',\n",
              "       '/claims/2008', '/claims/2018', '/claims/2020', '/claims/2022',\n",
              "       '/claims/2052', '/claims/2053', '/claims/2054', '/claims/2073',\n",
              "       '/claims/2078', '/claims/2088', '/claims/2089', '/claims/209',\n",
              "       '/claims/2118', '/claims/2130', '/claims/2142', '/claims/2148',\n",
              "       '/claims/2155', '/claims/216', '/claims/2182', '/claims/2199',\n",
              "       '/claims/2205', '/claims/2214', '/claims/2231', '/claims/2237',\n",
              "       '/claims/224', '/claims/2243', '/claims/2258', '/claims/226',\n",
              "       '/claims/2267', '/claims/2294', '/claims/2297', '/claims/2313',\n",
              "       '/claims/2316', '/claims/2336', '/claims/2338', '/claims/2354',\n",
              "       '/claims/2358', '/claims/2364', '/claims/2366', '/claims/238',\n",
              "       '/claims/2392', '/claims/2398', '/claims/2399', '/claims/2415',\n",
              "       '/claims/2428', '/claims/2438', '/claims/244', '/claims/2443',\n",
              "       '/claims/2445', '/claims/245', '/claims/2452', '/claims/2460',\n",
              "       '/claims/2463', '/claims/2479', '/claims/2480', '/claims/2505',\n",
              "       '/claims/2510', '/claims/2517', '/claims/2526', '/claims/2556',\n",
              "       '/claims/2560', '/claims/2562', '/claims/260', '/claims/2607',\n",
              "       '/claims/2616', '/claims/2620', '/claims/2621', '/claims/2630',\n",
              "       '/claims/2642', '/claims/2655', '/claims/2672', '/claims/2680',\n",
              "       '/claims/2692', '/claims/2694', '/claims/2702', '/claims/271',\n",
              "       '/claims/2710', '/claims/2714', '/claims/2729', '/claims/273',\n",
              "       '/claims/2740', '/claims/2758', '/claims/2765', '/claims/277',\n",
              "       '/claims/2770', '/claims/2777', '/claims/279', '/claims/2792',\n",
              "       '/claims/2793', '/claims/2804', '/claims/2808', '/claims/2811',\n",
              "       '/claims/282', '/claims/2820', '/claims/2828', '/claims/2831',\n",
              "       '/claims/2832', '/claims/2837', '/claims/2847', '/claims/285',\n",
              "       '/claims/286', '/claims/287', '/claims/2874', '/claims/2877',\n",
              "       '/claims/288', '/claims/2882', '/claims/2890', '/claims/2897',\n",
              "       '/claims/2903', '/claims/2924', '/claims/2929', '/claims/2931',\n",
              "       '/claims/2937', '/claims/2941', '/claims/2955', '/claims/2960',\n",
              "       '/claims/2964', '/claims/2965', '/claims/2968', '/claims/2995',\n",
              "       '/claims/2996', '/claims/3005', '/claims/3011', '/claims/3012',\n",
              "       '/claims/302', '/claims/3020', '/claims/3029', '/claims/3031',\n",
              "       '/claims/3034', '/claims/3035', '/claims/3062', '/claims/3065',\n",
              "       '/claims/3071', '/claims/3075', '/claims/3076', '/claims/3078',\n",
              "       '/claims/308', '/claims/3095', '/claims/3097', '/claims/310',\n",
              "       '/claims/3104', '/claims/3118', '/claims/312', '/claims/3143',\n",
              "       '/claims/3146', '/claims/3152', '/claims/316', '/claims/3181',\n",
              "       '/claims/3190', '/claims/3192', '/claims/3196', '/claims/3201',\n",
              "       '/claims/3204', '/claims/3205', '/claims/3206', '/claims/3210',\n",
              "       '/claims/3229', '/claims/3242', '/claims/325', '/claims/3258',\n",
              "       '/claims/3294', '/claims/3317', '/claims/3320', '/claims/3321',\n",
              "       '/claims/3323', '/claims/3333', '/claims/3334', '/claims/3335',\n",
              "       '/claims/3336', '/claims/3337', '/claims/3351', '/claims/3352',\n",
              "       '/claims/3360', '/claims/3362', '/claims/3364', '/claims/3388',\n",
              "       '/claims/3403', '/claims/3404', '/claims/3411', '/claims/3413',\n",
              "       '/claims/3423', '/claims/3432', '/claims/3437', '/claims/3447',\n",
              "       '/claims/3449', '/claims/345', '/claims/3459', '/claims/3460',\n",
              "       '/claims/3468', '/claims/3484', '/claims/3488', '/claims/3489',\n",
              "       '/claims/3491', '/claims/3496', '/claims/3508', '/claims/3509',\n",
              "       '/claims/3519', '/claims/3522', '/claims/3531', '/claims/3537',\n",
              "       '/claims/3539', '/claims/3546', '/claims/3551', '/claims/3552',\n",
              "       '/claims/3553', '/claims/3556', '/claims/3557', '/claims/3575',\n",
              "       '/claims/3578', '/claims/3579', '/claims/3581', '/claims/3586',\n",
              "       '/claims/3588', '/claims/3590', '/claims/3591', '/claims/3594',\n",
              "       '/claims/3597', '/claims/3602', '/claims/3614', '/claims/3619',\n",
              "       '/claims/3646', '/claims/3647', '/claims/3648', '/claims/3660',\n",
              "       '/claims/3661', '/claims/3682', '/claims/3687', '/claims/3695',\n",
              "       '/claims/3698', '/claims/37', '/claims/3707', '/claims/373',\n",
              "       '/claims/3732', '/claims/3733', '/claims/3734', '/claims/3736',\n",
              "       '/claims/3737', '/claims/3751', '/claims/3752', '/claims/3753',\n",
              "       '/claims/3754', '/claims/3768', '/claims/3770', '/claims/3796',\n",
              "       '/claims/38', '/claims/3811', '/claims/3822', '/claims/3823',\n",
              "       '/claims/3838', '/claims/384', '/claims/3840', '/claims/3847',\n",
              "       '/claims/3850', '/claims/3856', '/claims/3857', '/claims/3859',\n",
              "       '/claims/3868', '/claims/3873', '/claims/3879', '/claims/3885',\n",
              "       '/claims/3886', '/claims/3888', '/claims/4056', '/claims/42',\n",
              "       '/claims/4209', '/claims/4215', '/claims/4240', '/claims/4246',\n",
              "       '/claims/427', '/claims/4272', '/claims/4274', '/claims/4342',\n",
              "       '/claims/4351', '/claims/4357', '/claims/4361', '/claims/446',\n",
              "       '/claims/4492', '/claims/45', '/claims/4503', '/claims/4543',\n",
              "       '/claims/4557', '/claims/456', '/claims/4599', '/claims/4644',\n",
              "       '/claims/4646', '/claims/466', '/claims/473', '/claims/4799',\n",
              "       '/claims/4840', '/claims/4887', '/claims/5013', '/claims/507',\n",
              "       '/claims/513', '/claims/526', '/claims/536', '/claims/537',\n",
              "       '/claims/54', '/claims/548', '/claims/5552', '/claims/557',\n",
              "       '/claims/57', '/claims/590', '/claims/5923', '/claims/5939',\n",
              "       '/claims/5949', '/claims/6030', '/claims/6031', '/claims/6033',\n",
              "       '/claims/6060', '/claims/6099', '/claims/61', '/claims/612',\n",
              "       '/claims/614', '/claims/6149', '/claims/6150', '/claims/6167',\n",
              "       '/claims/6256', '/claims/626', '/claims/6261', '/claims/6289',\n",
              "       '/claims/6297', '/claims/6325', '/claims/6331', '/claims/6368',\n",
              "       '/claims/6371', '/claims/6377', '/claims/6385', '/claims/6386',\n",
              "       '/claims/6426', '/claims/6431', '/claims/6479', '/claims/65',\n",
              "       '/claims/652', '/claims/656', '/claims/659', '/claims/6611',\n",
              "       '/claims/6613', '/claims/6645', '/claims/67', '/claims/670',\n",
              "       '/claims/685', '/claims/6900', '/claims/6914', '/claims/6915',\n",
              "       '/claims/6924', '/claims/71', '/claims/7141', '/claims/7142',\n",
              "       '/claims/7213', '/claims/7234', '/claims/7292', '/claims/73',\n",
              "       '/claims/7317', '/claims/738', '/claims/7392', '/claims/7398',\n",
              "       '/claims/7399', '/claims/7418', '/claims/7435', '/claims/7463',\n",
              "       '/claims/7524', '/claims/7525', '/claims/7532', '/claims/7538',\n",
              "       '/claims/7541', '/claims/7555', '/claims/7562', '/claims/7563',\n",
              "       '/claims/7568', '/claims/7570', '/claims/7574', '/claims/7579',\n",
              "       '/claims/7583', '/claims/7587', '/claims/7600', '/claims/7602',\n",
              "       '/claims/7606', '/claims/7612', '/claims/7616', '/claims/7623',\n",
              "       '/claims/7639', '/claims/764', '/claims/7674', '/claims/7681',\n",
              "       '/claims/7684', '/claims/7729', '/claims/7734', '/claims/7735',\n",
              "       '/claims/7752', '/claims/7768', '/claims/7781', '/claims/7787',\n",
              "       '/claims/7788', '/claims/7790', '/claims/7791', '/claims/7800',\n",
              "       '/claims/7810', '/claims/7819', '/claims/7826', '/claims/7827',\n",
              "       '/claims/7830', '/claims/7846', '/claims/7850', '/claims/7854',\n",
              "       '/claims/7855', '/claims/7864', '/claims/7865', '/claims/7866',\n",
              "       '/claims/7870', '/claims/7895', '/claims/7896', '/claims/7900',\n",
              "       '/claims/7904', '/claims/7911', '/claims/7913', '/claims/7922',\n",
              "       '/claims/7923', '/claims/793', '/claims/7933', '/claims/7934',\n",
              "       '/claims/7941', '/claims/7947', '/claims/795', '/claims/7951',\n",
              "       '/claims/7953', '/claims/7954', '/claims/7958', '/claims/796',\n",
              "       '/claims/7962', '/claims/7971', '/claims/7975', '/claims/7976',\n",
              "       '/claims/7983', '/claims/7984', '/claims/7985', '/claims/7986',\n",
              "       '/claims/7988', '/claims/80', '/claims/8002', '/claims/8005',\n",
              "       '/claims/8007', '/claims/801', '/claims/8014', '/claims/8015',\n",
              "       '/claims/8020', '/claims/8025', '/claims/8028', '/claims/8032',\n",
              "       '/claims/8033', '/claims/8039', '/claims/8041', '/claims/8042',\n",
              "       '/claims/8043', '/claims/8050', '/claims/8063', '/claims/8070',\n",
              "       '/claims/8076', '/claims/8083', '/claims/8089', '/claims/8101',\n",
              "       '/claims/8110', '/claims/8114', '/claims/8116', '/claims/8123',\n",
              "       '/claims/8126', '/claims/8127', '/claims/8144', '/claims/8146',\n",
              "       '/claims/8150', '/claims/8151', '/claims/8152', '/claims/8158',\n",
              "       '/claims/8162', '/claims/8167', '/claims/8168', '/claims/8173',\n",
              "       '/claims/8180', '/claims/8184', '/claims/8195', '/claims/8196',\n",
              "       '/claims/8210', '/claims/8216', '/claims/8218', '/claims/8220',\n",
              "       '/claims/8228', '/claims/8230', '/claims/8254', '/claims/8258',\n",
              "       '/claims/826', '/claims/8271', '/claims/8272', '/claims/8275',\n",
              "       '/claims/8280', '/claims/8281', '/claims/8285', '/claims/8292',\n",
              "       '/claims/8299', '/claims/8300', '/claims/8313', '/claims/8333',\n",
              "       '/claims/834', '/claims/8360', '/claims/837', '/claims/8376',\n",
              "       '/claims/8388', '/claims/839', '/claims/86', '/claims/863',\n",
              "       '/claims/876', '/claims/878', '/claims/879', '/claims/88',\n",
              "       '/claims/900', '/claims/942', '/claims/960', '/claims/964',\n",
              "       '/claims/970', '/claims/994', '/claims/998'], dtype=object)"
            ]
          },
          "metadata": {
            "tags": []
          },
          "execution_count": 58
        }
      ]
    },
    {
      "cell_type": "code",
      "metadata": {
        "colab": {
          "base_uri": "https://localhost:8080/",
          "height": 612
        },
        "id": "s1_QqlHqWLDO",
        "outputId": "adb950f1-4bfd-4078-fea4-747b2a184fad"
      },
      "source": [
        "files[files['claims_id'] == '/claims/994']"
      ],
      "execution_count": null,
      "outputs": [
        {
          "output_type": "execute_result",
          "data": {
            "text/html": [
              "<div>\n",
              "<style scoped>\n",
              "    .dataframe tbody tr th:only-of-type {\n",
              "        vertical-align: middle;\n",
              "    }\n",
              "\n",
              "    .dataframe tbody tr th {\n",
              "        vertical-align: top;\n",
              "    }\n",
              "\n",
              "    .dataframe thead th {\n",
              "        text-align: right;\n",
              "    }\n",
              "</style>\n",
              "<table border=\"1\" class=\"dataframe\">\n",
              "  <thead>\n",
              "    <tr style=\"text-align: right;\">\n",
              "      <th></th>\n",
              "      <th>claims_id</th>\n",
              "      <th>claim_datetime</th>\n",
              "      <th>claim_first</th>\n",
              "      <th>review_id</th>\n",
              "      <th>review_resume</th>\n",
              "      <th>review_datetime</th>\n",
              "      <th>review_title</th>\n",
              "      <th>review_conclusion</th>\n",
              "      <th>issue_id</th>\n",
              "      <th>news_keyword_id</th>\n",
              "      <th>news_keyword</th>\n",
              "      <th>news_countries_id</th>\n",
              "      <th>news_countries</th>\n",
              "      <th>claims_total</th>\n",
              "      <th>news_type</th>\n",
              "      <th>news_url</th>\n",
              "      <th>news_org_id</th>\n",
              "      <th>news_url_archive</th>\n",
              "      <th>news_part</th>\n",
              "      <th>review_start_time</th>\n",
              "      <th>review_end_time</th>\n",
              "      <th>news_org_location</th>\n",
              "      <th>news_org</th>\n",
              "      <th>news_logo_id</th>\n",
              "      <th>news_logo_type</th>\n",
              "      <th>news_logo_url</th>\n",
              "      <th>news_language_id</th>\n",
              "      <th>news_language</th>\n",
              "      <th>news_language_code</th>\n",
              "    </tr>\n",
              "  </thead>\n",
              "  <tbody>\n",
              "    <tr>\n",
              "      <th>7354</th>\n",
              "      <td>/claims/994</td>\n",
              "      <td>2019-09-27T00:00:00+00:00</td>\n",
              "      <td>/news_articles/1823</td>\n",
              "      <td>/claim_reviews/994</td>\n",
              "      <td>in the village of starychi a mans body was fou...</td>\n",
              "      <td>2019-09-28T00:00:00+00:00</td>\n",
              "      <td>ukrainian soldier shot by polish soldier near ...</td>\n",
              "      <td>no evidence is given to back up these claims t...</td>\n",
              "      <td>/issues/166</td>\n",
              "      <td>[/keywords/105, /keywords/150]</td>\n",
              "      <td>[Military, Military exercise]</td>\n",
              "      <td>[/countries/9, /countries/24]</td>\n",
              "      <td>[Ukraine, Poland]</td>\n",
              "      <td>[/claims/934, /claims/941, /claims/942, /claim...</td>\n",
              "      <td>http://schema.org/NewsArticle</td>\n",
              "      <td>https://vesti.ua/strana/351746-pod-lvovom-pols...</td>\n",
              "      <td>/organizations/458</td>\n",
              "      <td>https://web.archive.org/web/20190928204050/htt...</td>\n",
              "      <td>В селе Старычи было найдено тело мужчины с огн...</td>\n",
              "      <td>NaN</td>\n",
              "      <td>NaN</td>\n",
              "      <td>NaN</td>\n",
              "      <td>Vesti.ua</td>\n",
              "      <td>NaN</td>\n",
              "      <td>NaN</td>\n",
              "      <td>NaN</td>\n",
              "      <td>/languages/14</td>\n",
              "      <td>Polish</td>\n",
              "      <td>pol</td>\n",
              "    </tr>\n",
              "    <tr>\n",
              "      <th>7355</th>\n",
              "      <td>/claims/994</td>\n",
              "      <td>2019-09-27T00:00:00+00:00</td>\n",
              "      <td>/news_articles/1823</td>\n",
              "      <td>/claim_reviews/994</td>\n",
              "      <td>in the village of starychi a mans body was fou...</td>\n",
              "      <td>2019-09-28T00:00:00+00:00</td>\n",
              "      <td>ukrainian soldier shot by polish soldier near ...</td>\n",
              "      <td>no evidence is given to back up these claims t...</td>\n",
              "      <td>/issues/166</td>\n",
              "      <td>[/keywords/105, /keywords/150]</td>\n",
              "      <td>[Military, Military exercise]</td>\n",
              "      <td>[/countries/9, /countries/24]</td>\n",
              "      <td>[Ukraine, Poland]</td>\n",
              "      <td>[/claims/934, /claims/941, /claims/942, /claim...</td>\n",
              "      <td>http://schema.org/NewsArticle</td>\n",
              "      <td>https://life.ru/t/%D0%BD%D0%BE%D0%B2%D0%BE%D1%...</td>\n",
              "      <td>/organizations/264</td>\n",
              "      <td>https://web.archive.org/web/20190928204125/htt...</td>\n",
              "      <td>NaN</td>\n",
              "      <td>NaN</td>\n",
              "      <td>NaN</td>\n",
              "      <td>NaN</td>\n",
              "      <td>life.ru</td>\n",
              "      <td>NaN</td>\n",
              "      <td>NaN</td>\n",
              "      <td>NaN</td>\n",
              "      <td>/languages/3</td>\n",
              "      <td>Russian</td>\n",
              "      <td>rus</td>\n",
              "    </tr>\n",
              "    <tr>\n",
              "      <th>7356</th>\n",
              "      <td>/claims/994</td>\n",
              "      <td>2019-09-27T00:00:00+00:00</td>\n",
              "      <td>/news_articles/1823</td>\n",
              "      <td>/claim_reviews/994</td>\n",
              "      <td>in the village of starychi a mans body was fou...</td>\n",
              "      <td>2019-09-28T00:00:00+00:00</td>\n",
              "      <td>ukrainian soldier shot by polish soldier near ...</td>\n",
              "      <td>no evidence is given to back up these claims t...</td>\n",
              "      <td>/issues/166</td>\n",
              "      <td>[/keywords/105, /keywords/150]</td>\n",
              "      <td>[Military, Military exercise]</td>\n",
              "      <td>[/countries/9, /countries/24]</td>\n",
              "      <td>[Ukraine, Poland]</td>\n",
              "      <td>[/claims/934, /claims/941, /claims/942, /claim...</td>\n",
              "      <td>http://schema.org/NewsArticle</td>\n",
              "      <td>https://lenta.ru/news/2019/09/25/polskiebratya/</td>\n",
              "      <td>/organizations/226</td>\n",
              "      <td>https://web.archive.org/web/20190928204208/htt...</td>\n",
              "      <td>NaN</td>\n",
              "      <td>NaN</td>\n",
              "      <td>NaN</td>\n",
              "      <td>NaN</td>\n",
              "      <td>lenta.ru</td>\n",
              "      <td>NaN</td>\n",
              "      <td>NaN</td>\n",
              "      <td>NaN</td>\n",
              "      <td>/languages/14</td>\n",
              "      <td>Polish</td>\n",
              "      <td>pol</td>\n",
              "    </tr>\n",
              "    <tr>\n",
              "      <th>7357</th>\n",
              "      <td>/claims/994</td>\n",
              "      <td>2019-09-27T00:00:00+00:00</td>\n",
              "      <td>/news_articles/1823</td>\n",
              "      <td>/claim_reviews/994</td>\n",
              "      <td>in the village of starychi a mans body was fou...</td>\n",
              "      <td>2019-09-28T00:00:00+00:00</td>\n",
              "      <td>ukrainian soldier shot by polish soldier near ...</td>\n",
              "      <td>no evidence is given to back up these claims t...</td>\n",
              "      <td>/issues/166</td>\n",
              "      <td>[/keywords/105, /keywords/150]</td>\n",
              "      <td>[Military, Military exercise]</td>\n",
              "      <td>[/countries/9, /countries/24]</td>\n",
              "      <td>[Ukraine, Poland]</td>\n",
              "      <td>[/claims/934, /claims/941, /claims/942, /claim...</td>\n",
              "      <td>http://schema.org/NewsArticle</td>\n",
              "      <td>https://www.mk.ru/politics/2019/09/25/pod-lvov...</td>\n",
              "      <td>/organizations/34</td>\n",
              "      <td>https://web.archive.org/web/20190928204245/htt...</td>\n",
              "      <td>NaN</td>\n",
              "      <td>NaN</td>\n",
              "      <td>NaN</td>\n",
              "      <td>NaN</td>\n",
              "      <td>mk.ru</td>\n",
              "      <td>/image_objects/31</td>\n",
              "      <td>http://schema.org/ImageObject</td>\n",
              "      <td>https://api.veedoo.io/images/5e31565e0a12e_DET...</td>\n",
              "      <td>/languages/14</td>\n",
              "      <td>Polish</td>\n",
              "      <td>pol</td>\n",
              "    </tr>\n",
              "    <tr>\n",
              "      <th>7358</th>\n",
              "      <td>/claims/994</td>\n",
              "      <td>2019-09-27T00:00:00+00:00</td>\n",
              "      <td>/news_articles/1823</td>\n",
              "      <td>/claim_reviews/994</td>\n",
              "      <td>in the village of starychi a mans body was fou...</td>\n",
              "      <td>2019-09-28T00:00:00+00:00</td>\n",
              "      <td>ukrainian soldier shot by polish soldier near ...</td>\n",
              "      <td>no evidence is given to back up these claims t...</td>\n",
              "      <td>/issues/166</td>\n",
              "      <td>[/keywords/105, /keywords/150]</td>\n",
              "      <td>[Military, Military exercise]</td>\n",
              "      <td>[/countries/9, /countries/24]</td>\n",
              "      <td>[Ukraine, Poland]</td>\n",
              "      <td>[/claims/934, /claims/941, /claims/942, /claim...</td>\n",
              "      <td>http://schema.org/NewsArticle</td>\n",
              "      <td>https://lviv.politeka.net/lviv/1171159-polskog...</td>\n",
              "      <td>/organizations/459</td>\n",
              "      <td>https://web.archive.org/web/20190928204346/htt...</td>\n",
              "      <td>NaN</td>\n",
              "      <td>NaN</td>\n",
              "      <td>NaN</td>\n",
              "      <td>NaN</td>\n",
              "      <td>Politeka.net</td>\n",
              "      <td>NaN</td>\n",
              "      <td>NaN</td>\n",
              "      <td>NaN</td>\n",
              "      <td>/languages/14</td>\n",
              "      <td>Polish</td>\n",
              "      <td>pol</td>\n",
              "    </tr>\n",
              "    <tr>\n",
              "      <th>7359</th>\n",
              "      <td>/claims/994</td>\n",
              "      <td>2019-09-27T00:00:00+00:00</td>\n",
              "      <td>/news_articles/1823</td>\n",
              "      <td>/claim_reviews/994</td>\n",
              "      <td>in the village of starychi a mans body was fou...</td>\n",
              "      <td>2019-09-28T00:00:00+00:00</td>\n",
              "      <td>ukrainian soldier shot by polish soldier near ...</td>\n",
              "      <td>no evidence is given to back up these claims t...</td>\n",
              "      <td>/issues/166</td>\n",
              "      <td>[/keywords/105, /keywords/150]</td>\n",
              "      <td>[Military, Military exercise]</td>\n",
              "      <td>[/countries/9, /countries/24]</td>\n",
              "      <td>[Ukraine, Poland]</td>\n",
              "      <td>[/claims/934, /claims/941, /claims/942, /claim...</td>\n",
              "      <td>http://schema.org/NewsArticle</td>\n",
              "      <td>https://pl.sputniknews.com/polska/201909251110...</td>\n",
              "      <td>/organizations/285</td>\n",
              "      <td>NaN</td>\n",
              "      <td>NaN</td>\n",
              "      <td>NaN</td>\n",
              "      <td>NaN</td>\n",
              "      <td>Russia</td>\n",
              "      <td>Sputnik</td>\n",
              "      <td>/image_objects/1</td>\n",
              "      <td>http://schema.org/ImageObject</td>\n",
              "      <td>https://api.veedoo.io/images/5e275762b9989_Scr...</td>\n",
              "      <td>/languages/14</td>\n",
              "      <td>Polish</td>\n",
              "      <td>pol</td>\n",
              "    </tr>\n",
              "  </tbody>\n",
              "</table>\n",
              "</div>"
            ],
            "text/plain": [
              "        claims_id             claim_datetime  ... news_language news_language_code\n",
              "7354  /claims/994  2019-09-27T00:00:00+00:00  ...        Polish                pol\n",
              "7355  /claims/994  2019-09-27T00:00:00+00:00  ...       Russian                rus\n",
              "7356  /claims/994  2019-09-27T00:00:00+00:00  ...        Polish                pol\n",
              "7357  /claims/994  2019-09-27T00:00:00+00:00  ...        Polish                pol\n",
              "7358  /claims/994  2019-09-27T00:00:00+00:00  ...        Polish                pol\n",
              "7359  /claims/994  2019-09-27T00:00:00+00:00  ...        Polish                pol\n",
              "\n",
              "[6 rows x 29 columns]"
            ]
          },
          "metadata": {
            "tags": []
          },
          "execution_count": 59
        }
      ]
    },
    {
      "cell_type": "code",
      "metadata": {
        "colab": {
          "base_uri": "https://localhost:8080/",
          "height": 120
        },
        "id": "GTlcHvICN8P9",
        "outputId": "f3fc05a4-75df-40f9-a1bf-a1417d3417b7"
      },
      "source": [
        "files[files['claims_id'] == '/claims/994']['review_conclusion'][7354]"
      ],
      "execution_count": null,
      "outputs": [
        {
          "output_type": "execute_result",
          "data": {
            "application/vnd.google.colaboratory.intrinsic+json": {
              "type": "string"
            },
            "text/plain": [
              "'no evidence is given to back up these claims the press service of the police of the lviv region said that \"information about this event is not true and the communications department of the police of the lviv region did not prepare or distribute this material\" the publication used fake screenshots allegedly from the official site of the lviv police\\nalso later the newspaper ratusha which was the first one to share this information made a statement that their editorial office did not post this news item on its website alleging that their website was hacked\\nfurther debunking by keyboard warriors wojownicy klawiatury and konkret\\n'"
            ]
          },
          "metadata": {
            "tags": []
          },
          "execution_count": 60
        }
      ]
    },
    {
      "cell_type": "code",
      "metadata": {
        "colab": {
          "base_uri": "https://localhost:8080/",
          "height": 171
        },
        "id": "tYSXNyAvYKHK",
        "outputId": "a60e52d4-0e54-4f1e-a898-774be0b8a4cd"
      },
      "source": [
        "files[files['claims_id'] == '/claims/71']['review_conclusion'][5809]"
      ],
      "execution_count": null,
      "outputs": [
        {
          "output_type": "execute_result",
          "data": {
            "application/vnd.google.colaboratory.intrinsic+json": {
              "type": "string"
            },
            "text/plain": [
              "'recurring prokremlin narrative seeking to absolve the assad regime of responsibility for chemical attacks perpetrated in the course of the syrian civil war as well as to undermine the credibility and independence of the opcw they claim that the douma chemical attacks were staged by western actors in order to justify military action against the assad regime\\nthe internal opcw email message published by wikileaks sent on  june  by an unidentified member of opcws factfinding mission ffm does not accuse the opcw management of deliberately manipulating and suppressing evidence gathered by the ffm in order to blame the assad government for the douma attack and to justify western military intervention against syria\\nfor example the management\\'s draft said that chlorine or another reactive chlorinecontaining chemical was \"likely\" to have been released from two cylinders found at the scene the email argues instead that while the cylinders might have been the sources of the suspected chemical there was \"insufficient evidence to affirm this\"\\nthe email message actually refers to a draft opcw  interim report not to the final report published in march  the interim report published in july  was basically a progress report which described the ffms activities until that date the final opcw report accepts the points made by the ffm member in the internal email\\nopcws director fernando arias stated that the organisation stands by the final findings published in a march  report while some of these diverging views continue to circulate in certain public discussion forums i would like to reiterate that i stand by the independent professional conclusions arias mentioned\\nfor a related case about an alleged opcw \"neverbeforeseenreport\" that sought to deflect blame for chemical attacks from the assad regime read here and here\\nfor further background on chemical weapons attacks in syria see the syrian archives chemical weapons database\\n'"
            ]
          },
          "metadata": {
            "tags": []
          },
          "execution_count": 61
        }
      ]
    },
    {
      "cell_type": "markdown",
      "metadata": {
        "id": "0DCloneIWfmB"
      },
      "source": [
        "*As revisões de fake news ou claims repetidas, são denuncias para notícias totalmente iguais encontradas em sites diferentes. Sendo suas únicas as urls e as organizações que publicam as notícias*\n",
        "\n",
        "*Por enquanto, vamos salvar essas claims duplicadas em um dataframe a parte para uma análise posterior e dropar do dataframe principal que será utilizado nos notebooks seguintes.*"
      ]
    },
    {
      "cell_type": "code",
      "metadata": {
        "id": "kBiyZtWrEa6H"
      },
      "source": [
        "df_duplicates = pd.DataFrame()\n",
        "df_duplicates = files[files['claims_id'].duplicated()]"
      ],
      "execution_count": null,
      "outputs": []
    },
    {
      "cell_type": "code",
      "metadata": {
        "id": "QnLSRkRBcPwi"
      },
      "source": [
        "files.drop_duplicates(subset = ['claims_id'], keep = 'first', inplace = True)"
      ],
      "execution_count": null,
      "outputs": []
    },
    {
      "cell_type": "code",
      "metadata": {
        "colab": {
          "base_uri": "https://localhost:8080/",
          "height": 1000
        },
        "id": "Zk7lZRyGWx4_",
        "outputId": "1a82fe86-caac-43b9-8b73-a8e9ca317d9f"
      },
      "source": [
        "files.reset_index()"
      ],
      "execution_count": null,
      "outputs": [
        {
          "output_type": "execute_result",
          "data": {
            "text/html": [
              "<div>\n",
              "<style scoped>\n",
              "    .dataframe tbody tr th:only-of-type {\n",
              "        vertical-align: middle;\n",
              "    }\n",
              "\n",
              "    .dataframe tbody tr th {\n",
              "        vertical-align: top;\n",
              "    }\n",
              "\n",
              "    .dataframe thead th {\n",
              "        text-align: right;\n",
              "    }\n",
              "</style>\n",
              "<table border=\"1\" class=\"dataframe\">\n",
              "  <thead>\n",
              "    <tr style=\"text-align: right;\">\n",
              "      <th></th>\n",
              "      <th>index</th>\n",
              "      <th>claims_id</th>\n",
              "      <th>claim_datetime</th>\n",
              "      <th>claim_first</th>\n",
              "      <th>review_id</th>\n",
              "      <th>review_resume</th>\n",
              "      <th>review_datetime</th>\n",
              "      <th>review_title</th>\n",
              "      <th>review_conclusion</th>\n",
              "      <th>issue_id</th>\n",
              "      <th>news_keyword_id</th>\n",
              "      <th>news_keyword</th>\n",
              "      <th>news_countries_id</th>\n",
              "      <th>news_countries</th>\n",
              "      <th>claims_total</th>\n",
              "      <th>news_type</th>\n",
              "      <th>news_url</th>\n",
              "      <th>news_org_id</th>\n",
              "      <th>news_url_archive</th>\n",
              "      <th>news_part</th>\n",
              "      <th>review_start_time</th>\n",
              "      <th>review_end_time</th>\n",
              "      <th>news_org_location</th>\n",
              "      <th>news_org</th>\n",
              "      <th>news_logo_id</th>\n",
              "      <th>news_logo_type</th>\n",
              "      <th>news_logo_url</th>\n",
              "      <th>news_language_id</th>\n",
              "      <th>news_language</th>\n",
              "      <th>news_language_code</th>\n",
              "    </tr>\n",
              "  </thead>\n",
              "  <tbody>\n",
              "    <tr>\n",
              "      <th>0</th>\n",
              "      <td>0</td>\n",
              "      <td>/claims/100</td>\n",
              "      <td>2019-12-13T00:00:00+00:00</td>\n",
              "      <td>/news_articles/598</td>\n",
              "      <td>/claim_reviews/100</td>\n",
              "      <td>ukraine has put itself in a situation when ext...</td>\n",
              "      <td>2019-12-16T00:00:00+00:00</td>\n",
              "      <td>normandy summit results the eu plays on russia...</td>\n",
              "      <td>this article misrepresents the actual german a...</td>\n",
              "      <td>/issues/177</td>\n",
              "      <td>[/keywords/61, /keywords/76, /keywords/77, /ke...</td>\n",
              "      <td>[Abandoned Ukraine, Angela Merkel, Emmanuel Ma...</td>\n",
              "      <td>[/countries/4, /countries/9, /countries/11, /c...</td>\n",
              "      <td>[Russia, Ukraine, The West, EU, Germany, France]</td>\n",
              "      <td>[/claims/75, /claims/79, /claims/80, /claims/8...</td>\n",
              "      <td>http://schema.org/NewsArticle</td>\n",
              "      <td>https://sputnik.by/columnists/20191213/1043442...</td>\n",
              "      <td>/organizations/262</td>\n",
              "      <td>https://web.archive.org/web/20191213153206/htt...</td>\n",
              "      <td>На нынешней же встрече Зеленский (который, кст...</td>\n",
              "      <td>NaN</td>\n",
              "      <td>NaN</td>\n",
              "      <td>Belarus</td>\n",
              "      <td>sputnik.by // lifenews.ru</td>\n",
              "      <td>/image_objects/23</td>\n",
              "      <td>http://schema.org/ImageObject</td>\n",
              "      <td>https://api.veedoo.io/images/5e3150bc27830_2fd...</td>\n",
              "      <td>/languages/3</td>\n",
              "      <td>Russian</td>\n",
              "      <td>rus</td>\n",
              "    </tr>\n",
              "    <tr>\n",
              "      <th>1</th>\n",
              "      <td>1</td>\n",
              "      <td>/claims/1000</td>\n",
              "      <td>2019-09-26T00:00:00+00:00</td>\n",
              "      <td>/news_articles/1835</td>\n",
              "      <td>/claim_reviews/1000</td>\n",
              "      <td>regardless who was behind the recent attack on...</td>\n",
              "      <td>2019-09-27T00:00:00+00:00</td>\n",
              "      <td>the us benefits from the attack on the saudi o...</td>\n",
              "      <td>no evidence is provided to support the claim a...</td>\n",
              "      <td>/issues/166</td>\n",
              "      <td>[/keywords/4, /keywords/10, /keywords/111]</td>\n",
              "      <td>[Conspiracy, Terrorism, Donald Trump]</td>\n",
              "      <td>[/countries/2, /countries/3, /countries/58]</td>\n",
              "      <td>[Iran, United States, Saudi Arabia]</td>\n",
              "      <td>[/claims/934, /claims/941, /claims/942, /claim...</td>\n",
              "      <td>http://schema.org/NewsArticle</td>\n",
              "      <td>https://southfront.org/who-really-benefits-fro...</td>\n",
              "      <td>/organizations/205</td>\n",
              "      <td>https://web.archive.org/web/20190927121413/htt...</td>\n",
              "      <td>NaN</td>\n",
              "      <td>NaN</td>\n",
              "      <td>NaN</td>\n",
              "      <td>NaN</td>\n",
              "      <td>southfront.org</td>\n",
              "      <td>NaN</td>\n",
              "      <td>NaN</td>\n",
              "      <td>NaN</td>\n",
              "      <td>/languages/7</td>\n",
              "      <td>English</td>\n",
              "      <td>eng</td>\n",
              "    </tr>\n",
              "    <tr>\n",
              "      <th>2</th>\n",
              "      <td>2</td>\n",
              "      <td>/claims/1002</td>\n",
              "      <td>2019-09-23T00:00:00+00:00</td>\n",
              "      <td>/media_objects/1837</td>\n",
              "      <td>/claim_reviews/1002</td>\n",
              "      <td>pilsudski is a historical figure who establish...</td>\n",
              "      <td>2019-09-27T00:00:00+00:00</td>\n",
              "      <td>the polish legions of pilsudski organized the ...</td>\n",
              "      <td>this message is a part of the kremlins policy ...</td>\n",
              "      <td>/issues/166</td>\n",
              "      <td>[/keywords/36, /keywords/40, /keywords/42, /ke...</td>\n",
              "      <td>[Genocide, WWII, Historical revisionism, WWI, ...</td>\n",
              "      <td>[/countries/9, /countries/24]</td>\n",
              "      <td>[Ukraine, Poland]</td>\n",
              "      <td>[/claims/934, /claims/941, /claims/942, /claim...</td>\n",
              "      <td>http://schema.org/MediaObject</td>\n",
              "      <td>https://youtube.com/watch?v=9wvNBUNML3Q&amp;t=250</td>\n",
              "      <td>/organizations/122</td>\n",
              "      <td>https://web.archive.org/web/20190927133752/htt...</td>\n",
              "      <td>Пилсудский фигура историческая, создавшая перв...</td>\n",
              "      <td>250.0</td>\n",
              "      <td>262.0</td>\n",
              "      <td>Russia</td>\n",
              "      <td>Rossia 24</td>\n",
              "      <td>/image_objects/10</td>\n",
              "      <td>http://schema.org/ImageObject</td>\n",
              "      <td>https://api.veedoo.io/images/5e313449bca43_Ros...</td>\n",
              "      <td>/languages/3</td>\n",
              "      <td>Russian</td>\n",
              "      <td>rus</td>\n",
              "    </tr>\n",
              "    <tr>\n",
              "      <th>3</th>\n",
              "      <td>3</td>\n",
              "      <td>/claims/1003</td>\n",
              "      <td>2019-09-27T00:00:00+00:00</td>\n",
              "      <td>/media_objects/1838</td>\n",
              "      <td>/claim_reviews/1003</td>\n",
              "      <td>washington and to a large degree brussels are ...</td>\n",
              "      <td>2019-09-27T00:00:00+00:00</td>\n",
              "      <td>the west might use the eastern europeans as ca...</td>\n",
              "      <td>conspiracy theory presented without evidence t...</td>\n",
              "      <td>/issues/166</td>\n",
              "      <td>[/keywords/20, /keywords/107, /keywords/299]</td>\n",
              "      <td>[Russophobia, Encircling Russia, Operation Bar...</td>\n",
              "      <td>[/countries/3, /countries/11, /countries/64, /...</td>\n",
              "      <td>[United States, The West, Czech Republic, East...</td>\n",
              "      <td>[/claims/934, /claims/941, /claims/942, /claim...</td>\n",
              "      <td>http://schema.org/MediaObject</td>\n",
              "      <td>https://www.fort-russ.com/2019/09/debunking-li...</td>\n",
              "      <td>/organizations/461</td>\n",
              "      <td>NaN</td>\n",
              "      <td>NaN</td>\n",
              "      <td>NaN</td>\n",
              "      <td>NaN</td>\n",
              "      <td>NaN</td>\n",
              "      <td>fort-russ.com</td>\n",
              "      <td>NaN</td>\n",
              "      <td>NaN</td>\n",
              "      <td>NaN</td>\n",
              "      <td>/languages/7</td>\n",
              "      <td>English</td>\n",
              "      <td>eng</td>\n",
              "    </tr>\n",
              "    <tr>\n",
              "      <th>4</th>\n",
              "      <td>4</td>\n",
              "      <td>/claims/1004</td>\n",
              "      <td>2019-09-25T00:00:00+00:00</td>\n",
              "      <td>/news_articles/1839</td>\n",
              "      <td>/claim_reviews/1004</td>\n",
              "      <td>the beneficiary of the resolution of the europ...</td>\n",
              "      <td>2019-09-27T00:00:00+00:00</td>\n",
              "      <td>the resolution of the european parliament reli...</td>\n",
              "      <td>this message is part of the kremlins policy of...</td>\n",
              "      <td>/issues/166</td>\n",
              "      <td>[/keywords/30, /keywords/40, /keywords/41, /ke...</td>\n",
              "      <td>[European Parliament, WWII, Adolf Hitler, Worl...</td>\n",
              "      <td>[/countries/4, /countries/30, /countries/66]</td>\n",
              "      <td>[Russia, Germany, Eastern Europe]</td>\n",
              "      <td>[/claims/934, /claims/941, /claims/942, /claim...</td>\n",
              "      <td>http://schema.org/NewsArticle</td>\n",
              "      <td>https://www.rubaltic.ru/article/politika-i-obs...</td>\n",
              "      <td>/organizations/335</td>\n",
              "      <td>https://web.archive.org/web/20190927092204/htt...</td>\n",
              "      <td>И в первую очередь она выгодна Германии, котор...</td>\n",
              "      <td>NaN</td>\n",
              "      <td>NaN</td>\n",
              "      <td>NaN</td>\n",
              "      <td>rubaltic.ru</td>\n",
              "      <td>NaN</td>\n",
              "      <td>NaN</td>\n",
              "      <td>NaN</td>\n",
              "      <td>/languages/3</td>\n",
              "      <td>Russian</td>\n",
              "      <td>rus</td>\n",
              "    </tr>\n",
              "    <tr>\n",
              "      <th>...</th>\n",
              "      <td>...</td>\n",
              "      <td>...</td>\n",
              "      <td>...</td>\n",
              "      <td>...</td>\n",
              "      <td>...</td>\n",
              "      <td>...</td>\n",
              "      <td>...</td>\n",
              "      <td>...</td>\n",
              "      <td>...</td>\n",
              "      <td>...</td>\n",
              "      <td>...</td>\n",
              "      <td>...</td>\n",
              "      <td>...</td>\n",
              "      <td>...</td>\n",
              "      <td>...</td>\n",
              "      <td>...</td>\n",
              "      <td>...</td>\n",
              "      <td>...</td>\n",
              "      <td>...</td>\n",
              "      <td>...</td>\n",
              "      <td>...</td>\n",
              "      <td>...</td>\n",
              "      <td>...</td>\n",
              "      <td>...</td>\n",
              "      <td>...</td>\n",
              "      <td>...</td>\n",
              "      <td>...</td>\n",
              "      <td>...</td>\n",
              "      <td>...</td>\n",
              "      <td>...</td>\n",
              "    </tr>\n",
              "    <tr>\n",
              "      <th>6233</th>\n",
              "      <td>7360</td>\n",
              "      <td>/claims/995</td>\n",
              "      <td>2019-09-27T00:00:00+00:00</td>\n",
              "      <td>/news_articles/1829</td>\n",
              "      <td>/claim_reviews/995</td>\n",
              "      <td>apparently the new kyiv government is in a hur...</td>\n",
              "      <td>2019-09-28T00:00:00+00:00</td>\n",
              "      <td>ukraine will turn land into a commodity and se...</td>\n",
              "      <td>this is a recurring prokremlin narrative about...</td>\n",
              "      <td>/issues/166</td>\n",
              "      <td>[/keywords/165, /keywords/197]</td>\n",
              "      <td>[Economic difficulties, IMF]</td>\n",
              "      <td>[/countries/9]</td>\n",
              "      <td>[Ukraine]</td>\n",
              "      <td>[/claims/934, /claims/941, /claims/942, /claim...</td>\n",
              "      <td>http://schema.org/NewsArticle</td>\n",
              "      <td>https://tvzvezda.ru/news/vstrane_i_mire/conten...</td>\n",
              "      <td>/organizations/270</td>\n",
              "      <td>https://web.archive.org/web/20190928202728/htt...</td>\n",
              "      <td>Судя по всему, новая киевская власть спешит пр...</td>\n",
              "      <td>NaN</td>\n",
              "      <td>NaN</td>\n",
              "      <td>NaN</td>\n",
              "      <td>tvzvezda.ru</td>\n",
              "      <td>NaN</td>\n",
              "      <td>NaN</td>\n",
              "      <td>NaN</td>\n",
              "      <td>/languages/3</td>\n",
              "      <td>Russian</td>\n",
              "      <td>rus</td>\n",
              "    </tr>\n",
              "    <tr>\n",
              "      <th>6234</th>\n",
              "      <td>7361</td>\n",
              "      <td>/claims/996</td>\n",
              "      <td>2019-09-24T00:00:00+00:00</td>\n",
              "      <td>/news_articles/1830</td>\n",
              "      <td>/claim_reviews/996</td>\n",
              "      <td>the usa wants to divide syria\\r\\n\\r\\ngreat bri...</td>\n",
              "      <td>2019-09-27T00:00:00+00:00</td>\n",
              "      <td>us wants to divide syria</td>\n",
              "      <td>recurring prokremlin disinformation narrative ...</td>\n",
              "      <td>/issues/166</td>\n",
              "      <td>[/keywords/9, /keywords/12, /keywords/52, /key...</td>\n",
              "      <td>[Syrian War, Middle East, The West, Sphere of ...</td>\n",
              "      <td>[/countries/8, /countries/14, /countries/17]</td>\n",
              "      <td>[US, EU, Syria]</td>\n",
              "      <td>[/claims/934, /claims/941, /claims/942, /claim...</td>\n",
              "      <td>http://schema.org/NewsArticle</td>\n",
              "      <td>https://de.sputniknews.com/politik/20190924325...</td>\n",
              "      <td>/organizations/283</td>\n",
              "      <td>https://web.archive.org/web/20190927134350/htt...</td>\n",
              "      <td>Großbritannien, Frankreich, Deutschland und an...</td>\n",
              "      <td>NaN</td>\n",
              "      <td>NaN</td>\n",
              "      <td>NaN</td>\n",
              "      <td>de.sputniknews.com</td>\n",
              "      <td>/image_objects/6</td>\n",
              "      <td>http://schema.org/ImageObject</td>\n",
              "      <td>https://api.veedoo.io/images/5e313237be0ed_thu...</td>\n",
              "      <td>/languages/13</td>\n",
              "      <td>German</td>\n",
              "      <td>ger</td>\n",
              "    </tr>\n",
              "    <tr>\n",
              "      <th>6235</th>\n",
              "      <td>7362</td>\n",
              "      <td>/claims/997</td>\n",
              "      <td>2019-09-24T00:00:00+00:00</td>\n",
              "      <td>/news_articles/1831</td>\n",
              "      <td>/claim_reviews/997</td>\n",
              "      <td>the ukrainian coup d'etat cost the us nothing ...</td>\n",
              "      <td>2019-09-27T00:00:00+00:00</td>\n",
              "      <td>obama was close to succeeding where hitler fai...</td>\n",
              "      <td>this is a conspiracy which is consistent with ...</td>\n",
              "      <td>/issues/166</td>\n",
              "      <td>[/keywords/4, /keywords/41, /keywords/81, /key...</td>\n",
              "      <td>[Conspiracy, Adolf Hitler, Ukrainian statehood...</td>\n",
              "      <td>[/countries/4, /countries/8, /countries/9]</td>\n",
              "      <td>[Russia, US, Ukraine]</td>\n",
              "      <td>[/claims/934, /claims/941, /claims/942, /claim...</td>\n",
              "      <td>http://schema.org/NewsArticle</td>\n",
              "      <td>http://teleskop-by.org/2019/09/24/vadim-elfimo...</td>\n",
              "      <td>/organizations/286</td>\n",
              "      <td>https://web.archive.org/web/20190925074823/htt...</td>\n",
              "      <td>Вырывая Украину из сферы влияния России, преды...</td>\n",
              "      <td>NaN</td>\n",
              "      <td>NaN</td>\n",
              "      <td>NaN</td>\n",
              "      <td>Teleskop</td>\n",
              "      <td>NaN</td>\n",
              "      <td>NaN</td>\n",
              "      <td>NaN</td>\n",
              "      <td>/languages/27</td>\n",
              "      <td>blr</td>\n",
              "      <td>blr</td>\n",
              "    </tr>\n",
              "    <tr>\n",
              "      <th>6236</th>\n",
              "      <td>7363</td>\n",
              "      <td>/claims/998</td>\n",
              "      <td>2019-09-24T00:00:00+00:00</td>\n",
              "      <td>/news_articles/1832</td>\n",
              "      <td>/claim_reviews/998</td>\n",
              "      <td>the european parliament falsifies history by d...</td>\n",
              "      <td>2019-09-27T00:00:00+00:00</td>\n",
              "      <td>european parliament falsifies history about mo...</td>\n",
              "      <td>this message is part of the kremlins policy of...</td>\n",
              "      <td>/issues/166</td>\n",
              "      <td>[/keywords/19, /keywords/30, /keywords/40, /ke...</td>\n",
              "      <td>[Nazi/Fascist, European Parliament, WWII, Hist...</td>\n",
              "      <td>[/countries/4, /countries/14]</td>\n",
              "      <td>[Russia, EU]</td>\n",
              "      <td>[/claims/934, /claims/941, /claims/942, /claim...</td>\n",
              "      <td>http://schema.org/NewsArticle</td>\n",
              "      <td>https://de.sputniknews.com/politik/20190924325...</td>\n",
              "      <td>/organizations/283</td>\n",
              "      <td>https://web.archive.org/web/20190927114907/htt...</td>\n",
              "      <td>Russland wird weiter vorgeworfen, „historische...</td>\n",
              "      <td>NaN</td>\n",
              "      <td>NaN</td>\n",
              "      <td>NaN</td>\n",
              "      <td>de.sputniknews.com</td>\n",
              "      <td>/image_objects/6</td>\n",
              "      <td>http://schema.org/ImageObject</td>\n",
              "      <td>https://api.veedoo.io/images/5e313237be0ed_thu...</td>\n",
              "      <td>/languages/13</td>\n",
              "      <td>German</td>\n",
              "      <td>ger</td>\n",
              "    </tr>\n",
              "    <tr>\n",
              "      <th>6237</th>\n",
              "      <td>7365</td>\n",
              "      <td>/claims/999</td>\n",
              "      <td>2019-09-24T00:00:00+00:00</td>\n",
              "      <td>/news_articles/1834</td>\n",
              "      <td>/claim_reviews/999</td>\n",
              "      <td>a leading fsb officer segey beseda said during...</td>\n",
              "      <td>2019-09-27T00:00:00+00:00</td>\n",
              "      <td>the us is helping terrorists in afghanistan</td>\n",
              "      <td>this is a conspiracy theory with no evidence g...</td>\n",
              "      <td>/issues/173</td>\n",
              "      <td>[/keywords/8, /keywords/84]</td>\n",
              "      <td>[Islamic extremism, Terrorism financing]</td>\n",
              "      <td>[/countries/4, /countries/8]</td>\n",
              "      <td>[Russia, US]</td>\n",
              "      <td>[/claims/396, /claims/420, /claims/424, /claim...</td>\n",
              "      <td>http://schema.org/NewsArticle</td>\n",
              "      <td>https://oroszhirek.hu/2019/09/24/fszb-az-usa-s...</td>\n",
              "      <td>/organizations/460</td>\n",
              "      <td>https://web.archive.org/web/20190927121442/htt...</td>\n",
              "      <td>Adatok érkeznek arról, hogy az Egyesült Államo...</td>\n",
              "      <td>NaN</td>\n",
              "      <td>NaN</td>\n",
              "      <td>NaN</td>\n",
              "      <td>oroszhirek.hu</td>\n",
              "      <td>NaN</td>\n",
              "      <td>NaN</td>\n",
              "      <td>NaN</td>\n",
              "      <td>/languages/4</td>\n",
              "      <td>Hungarian</td>\n",
              "      <td>hun</td>\n",
              "    </tr>\n",
              "  </tbody>\n",
              "</table>\n",
              "<p>6238 rows × 30 columns</p>\n",
              "</div>"
            ],
            "text/plain": [
              "      index     claims_id  ... news_language news_language_code\n",
              "0         0   /claims/100  ...       Russian                rus\n",
              "1         1  /claims/1000  ...       English                eng\n",
              "2         2  /claims/1002  ...       Russian                rus\n",
              "3         3  /claims/1003  ...       English                eng\n",
              "4         4  /claims/1004  ...       Russian                rus\n",
              "...     ...           ...  ...           ...                ...\n",
              "6233   7360   /claims/995  ...       Russian                rus\n",
              "6234   7361   /claims/996  ...        German                ger\n",
              "6235   7362   /claims/997  ...           blr                blr\n",
              "6236   7363   /claims/998  ...        German                ger\n",
              "6237   7365   /claims/999  ...     Hungarian                hun\n",
              "\n",
              "[6238 rows x 30 columns]"
            ]
          },
          "metadata": {
            "tags": []
          },
          "execution_count": 64
        }
      ]
    },
    {
      "cell_type": "markdown",
      "metadata": {
        "id": "2kGNpxwMWz2s"
      },
      "source": [
        "##**Separando os DataFrames**"
      ]
    },
    {
      "cell_type": "markdown",
      "metadata": {
        "id": "pBCBDTDSmtmu"
      },
      "source": [
        "*Como cada entrada deste data frame é referente a revisão de um alerta de fake news de uma notícia, apenas o index para identificar cada revisão seria o suficiente, visto que os demais IDs já possuem sua coluna correspondente na tabela.\n",
        "Diante disto, vamos separar os IDs em um DF separado, caso sejam necessários em consultas futuras e dropar do dataframe total.*"
      ]
    },
    {
      "cell_type": "code",
      "metadata": {
        "id": "6RiK-4s_lUEi"
      },
      "source": [
        "id_list = []\n",
        "for column in files.columns:\n",
        "    if 'id' in column:\n",
        "      id_list.append(column)\n",
        "df_id = files[id_list]\n",
        "df_total = files.drop(columns = id_list)"
      ],
      "execution_count": null,
      "outputs": []
    },
    {
      "cell_type": "code",
      "metadata": {
        "colab": {
          "base_uri": "https://localhost:8080/"
        },
        "id": "KebNrb8OqFeU",
        "outputId": "dd63fd16-c2d7-4f27-a512-2fe5af7d83b9"
      },
      "source": [
        "print(f\"Colunas do df total:{df_total.columns} \\n\\n Colunas do df id: {df_id.columns}\")"
      ],
      "execution_count": null,
      "outputs": [
        {
          "output_type": "stream",
          "text": [
            "Colunas do df total:Index(['claim_datetime', 'claim_first', 'review_resume', 'review_datetime',\n",
            "       'review_title', 'review_conclusion', 'news_keyword', 'news_countries',\n",
            "       'claims_total', 'news_type', 'news_url', 'news_url_archive',\n",
            "       'news_part', 'review_start_time', 'review_end_time',\n",
            "       'news_org_location', 'news_org', 'news_logo_type', 'news_logo_url',\n",
            "       'news_language', 'news_language_code'],\n",
            "      dtype='object') \n",
            "\n",
            " Colunas do df id: Index(['claims_id', 'review_id', 'issue_id', 'news_keyword_id',\n",
            "       'news_countries_id', 'news_org_id', 'news_logo_id', 'news_language_id'],\n",
            "      dtype='object')\n"
          ],
          "name": "stdout"
        }
      ]
    },
    {
      "cell_type": "code",
      "metadata": {
        "colab": {
          "base_uri": "https://localhost:8080/",
          "height": 284
        },
        "id": "XccW5t1jwjfF",
        "outputId": "4f18ae5e-072f-46d8-96a1-2e61ebd23d05"
      },
      "source": [
        "df_total.head(2)"
      ],
      "execution_count": null,
      "outputs": [
        {
          "output_type": "execute_result",
          "data": {
            "text/html": [
              "<div>\n",
              "<style scoped>\n",
              "    .dataframe tbody tr th:only-of-type {\n",
              "        vertical-align: middle;\n",
              "    }\n",
              "\n",
              "    .dataframe tbody tr th {\n",
              "        vertical-align: top;\n",
              "    }\n",
              "\n",
              "    .dataframe thead th {\n",
              "        text-align: right;\n",
              "    }\n",
              "</style>\n",
              "<table border=\"1\" class=\"dataframe\">\n",
              "  <thead>\n",
              "    <tr style=\"text-align: right;\">\n",
              "      <th></th>\n",
              "      <th>claim_datetime</th>\n",
              "      <th>claim_first</th>\n",
              "      <th>review_resume</th>\n",
              "      <th>review_datetime</th>\n",
              "      <th>review_title</th>\n",
              "      <th>review_conclusion</th>\n",
              "      <th>news_keyword</th>\n",
              "      <th>news_countries</th>\n",
              "      <th>claims_total</th>\n",
              "      <th>news_type</th>\n",
              "      <th>news_url</th>\n",
              "      <th>news_url_archive</th>\n",
              "      <th>news_part</th>\n",
              "      <th>review_start_time</th>\n",
              "      <th>review_end_time</th>\n",
              "      <th>news_org_location</th>\n",
              "      <th>news_org</th>\n",
              "      <th>news_logo_type</th>\n",
              "      <th>news_logo_url</th>\n",
              "      <th>news_language</th>\n",
              "      <th>news_language_code</th>\n",
              "    </tr>\n",
              "  </thead>\n",
              "  <tbody>\n",
              "    <tr>\n",
              "      <th>0</th>\n",
              "      <td>2019-12-13T00:00:00+00:00</td>\n",
              "      <td>/news_articles/598</td>\n",
              "      <td>ukraine has put itself in a situation when ext...</td>\n",
              "      <td>2019-12-16T00:00:00+00:00</td>\n",
              "      <td>normandy summit results the eu plays on russia...</td>\n",
              "      <td>this article misrepresents the actual german a...</td>\n",
              "      <td>[Abandoned Ukraine, Angela Merkel, Emmanuel Ma...</td>\n",
              "      <td>[Russia, Ukraine, The West, EU, Germany, France]</td>\n",
              "      <td>[/claims/75, /claims/79, /claims/80, /claims/8...</td>\n",
              "      <td>http://schema.org/NewsArticle</td>\n",
              "      <td>https://sputnik.by/columnists/20191213/1043442...</td>\n",
              "      <td>https://web.archive.org/web/20191213153206/htt...</td>\n",
              "      <td>На нынешней же встрече Зеленский (который, кст...</td>\n",
              "      <td>NaN</td>\n",
              "      <td>NaN</td>\n",
              "      <td>Belarus</td>\n",
              "      <td>sputnik.by // lifenews.ru</td>\n",
              "      <td>http://schema.org/ImageObject</td>\n",
              "      <td>https://api.veedoo.io/images/5e3150bc27830_2fd...</td>\n",
              "      <td>Russian</td>\n",
              "      <td>rus</td>\n",
              "    </tr>\n",
              "    <tr>\n",
              "      <th>1</th>\n",
              "      <td>2019-09-26T00:00:00+00:00</td>\n",
              "      <td>/news_articles/1835</td>\n",
              "      <td>regardless who was behind the recent attack on...</td>\n",
              "      <td>2019-09-27T00:00:00+00:00</td>\n",
              "      <td>the us benefits from the attack on the saudi o...</td>\n",
              "      <td>no evidence is provided to support the claim a...</td>\n",
              "      <td>[Conspiracy, Terrorism, Donald Trump]</td>\n",
              "      <td>[Iran, United States, Saudi Arabia]</td>\n",
              "      <td>[/claims/934, /claims/941, /claims/942, /claim...</td>\n",
              "      <td>http://schema.org/NewsArticle</td>\n",
              "      <td>https://southfront.org/who-really-benefits-fro...</td>\n",
              "      <td>https://web.archive.org/web/20190927121413/htt...</td>\n",
              "      <td>NaN</td>\n",
              "      <td>NaN</td>\n",
              "      <td>NaN</td>\n",
              "      <td>NaN</td>\n",
              "      <td>southfront.org</td>\n",
              "      <td>NaN</td>\n",
              "      <td>NaN</td>\n",
              "      <td>English</td>\n",
              "      <td>eng</td>\n",
              "    </tr>\n",
              "  </tbody>\n",
              "</table>\n",
              "</div>"
            ],
            "text/plain": [
              "              claim_datetime  ... news_language_code\n",
              "0  2019-12-13T00:00:00+00:00  ...                rus\n",
              "1  2019-09-26T00:00:00+00:00  ...                eng\n",
              "\n",
              "[2 rows x 21 columns]"
            ]
          },
          "metadata": {
            "tags": []
          },
          "execution_count": 67
        }
      ]
    },
    {
      "cell_type": "code",
      "metadata": {
        "id": "UHJZa0-jpUID",
        "colab": {
          "base_uri": "https://localhost:8080/"
        },
        "outputId": "fb70e867-b5af-447b-9953-46c3bb0d00a2"
      },
      "source": [
        "df_total.info()"
      ],
      "execution_count": null,
      "outputs": [
        {
          "output_type": "stream",
          "text": [
            "<class 'pandas.core.frame.DataFrame'>\n",
            "Int64Index: 6238 entries, 0 to 7365\n",
            "Data columns (total 21 columns):\n",
            " #   Column              Non-Null Count  Dtype  \n",
            "---  ------              --------------  -----  \n",
            " 0   claim_datetime      6238 non-null   object \n",
            " 1   claim_first         6238 non-null   object \n",
            " 2   review_resume       6238 non-null   object \n",
            " 3   review_datetime     6238 non-null   object \n",
            " 4   review_title        6238 non-null   object \n",
            " 5   review_conclusion   6238 non-null   object \n",
            " 6   news_keyword        6238 non-null   object \n",
            " 7   news_countries      6238 non-null   object \n",
            " 8   claims_total        6238 non-null   object \n",
            " 9   news_type           6238 non-null   object \n",
            " 10  news_url            6238 non-null   object \n",
            " 11  news_url_archive    2701 non-null   object \n",
            " 12  news_part           790 non-null    object \n",
            " 13  review_start_time   356 non-null    float64\n",
            " 14  review_end_time     356 non-null    float64\n",
            " 15  news_org_location   1606 non-null   object \n",
            " 16  news_org            6238 non-null   object \n",
            " 17  news_logo_type      2680 non-null   object \n",
            " 18  news_logo_url       2680 non-null   object \n",
            " 19  news_language       2573 non-null   object \n",
            " 20  news_language_code  2573 non-null   object \n",
            "dtypes: float64(2), object(19)\n",
            "memory usage: 1.0+ MB\n"
          ],
          "name": "stdout"
        }
      ]
    },
    {
      "cell_type": "markdown",
      "metadata": {
        "id": "QR7km3sf3rca"
      },
      "source": [
        "##**Criando coluna de texto corrido**"
      ]
    },
    {
      "cell_type": "code",
      "metadata": {
        "id": "b_5MTiFW6LFl"
      },
      "source": [
        "df_total['review_total'] = df_total['review_title'] + df_total['review_resume'] + df_total['review_conclusion']"
      ],
      "execution_count": null,
      "outputs": []
    },
    {
      "cell_type": "code",
      "metadata": {
        "id": "yRGGHahaIkst"
      },
      "source": [
        "def remove_stopwords(df, col):\n",
        "  import re\n",
        "  import sys\n",
        "  from nltk.corpus import stopwords \n",
        "  from nltk.tokenize import word_tokenize\n",
        "\n",
        "  df_total = pd.DataFrame()\n",
        "  \n",
        "  words_compr = []\n",
        "  for idx, item in enumerate(df[col]):\n",
        "    words_compr.append(item)\n",
        "  words2 = \"\".join(map(str, words_compr))\n",
        "\n",
        "  userstring = words2.split(\" \")\n",
        "  stop_words = set(stopwords.words('english')) \n",
        "  another_list_word = []\n",
        "  for x in userstring:\n",
        "    x = x.lower()\n",
        "    if x not in stop_words:           \n",
        "      another_list_word.append(x)\n",
        "  \n",
        "  df_total['stop_words'] = another_list_word\n",
        "\n",
        "  return df_total['stop_words']"
      ],
      "execution_count": null,
      "outputs": []
    },
    {
      "cell_type": "code",
      "metadata": {
        "colab": {
          "base_uri": "https://localhost:8080/"
        },
        "id": "1h9KF8EbIm6v",
        "outputId": "14b5e145-7b9b-442b-dc11-e284d38d8aa4"
      },
      "source": [
        "remove_stopwords(df_total, 'review_total')"
      ],
      "execution_count": null,
      "outputs": [
        {
          "output_type": "execute_result",
          "data": {
            "text/plain": [
              "0              normandy\n",
              "1                summit\n",
              "2               results\n",
              "3                    eu\n",
              "4                 plays\n",
              "              ...      \n",
              "512519       supporting\n",
              "512520           behind\n",
              "512521        terrorist\n",
              "512522    organisations\n",
              "512523           here\\n\n",
              "Name: stop_words, Length: 512524, dtype: object"
            ]
          },
          "metadata": {
            "tags": []
          },
          "execution_count": 71
        }
      ]
    },
    {
      "cell_type": "markdown",
      "metadata": {
        "id": "ruU0cBLxc-vQ"
      },
      "source": [
        "##**Salvando o json**"
      ]
    },
    {
      "cell_type": "code",
      "metadata": {
        "id": "r2Biq0p7GZoq"
      },
      "source": [
        "df_total.to_json('fakeNews_FINAL.json')"
      ],
      "execution_count": null,
      "outputs": []
    },
    {
      "cell_type": "code",
      "metadata": {
        "id": "VdNkJUYYNPq2"
      },
      "source": [
        ""
      ],
      "execution_count": null,
      "outputs": []
    }
  ]
}